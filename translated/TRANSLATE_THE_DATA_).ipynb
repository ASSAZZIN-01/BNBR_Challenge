{
  "nbformat": 4,
  "nbformat_minor": 0,
  "metadata": {
    "colab": {
      "name": "TRANSLATE THE DATA :).ipynb",
      "provenance": []
    },
    "kernelspec": {
      "name": "python3",
      "display_name": "Python 3"
    }
  },
  "cells": [
    {
      "cell_type": "markdown",
      "metadata": {
        "id": "S1HDiMKHzmtM",
        "colab_type": "text"
      },
      "source": [
        "## **Extended Data**"
      ]
    },
    {
      "cell_type": "code",
      "metadata": {
        "id": "eLntf1LezgbG",
        "colab_type": "code",
        "colab": {
          "base_uri": "https://localhost:8080/",
          "height": 224
        },
        "outputId": "59b6eef6-196e-4e4e-c755-594047ab4e2c"
      },
      "source": [
        "!pip install joblib textblob -U"
      ],
      "execution_count": null,
      "outputs": [
        {
          "output_type": "stream",
          "text": [
            "Collecting joblib\n",
            "\u001b[?25l  Downloading https://files.pythonhosted.org/packages/51/dd/0e015051b4a27ec5a58b02ab774059f3289a94b0906f880a3f9507e74f38/joblib-0.16.0-py3-none-any.whl (300kB)\n",
            "\r\u001b[K     |█                               | 10kB 15.2MB/s eta 0:00:01\r\u001b[K     |██▏                             | 20kB 3.0MB/s eta 0:00:01\r\u001b[K     |███▎                            | 30kB 4.0MB/s eta 0:00:01\r\u001b[K     |████▍                           | 40kB 4.3MB/s eta 0:00:01\r\u001b[K     |█████▌                          | 51kB 3.5MB/s eta 0:00:01\r\u001b[K     |██████▌                         | 61kB 3.9MB/s eta 0:00:01\r\u001b[K     |███████▋                        | 71kB 4.1MB/s eta 0:00:01\r\u001b[K     |████████▊                       | 81kB 4.5MB/s eta 0:00:01\r\u001b[K     |█████████▉                      | 92kB 4.8MB/s eta 0:00:01\r\u001b[K     |███████████                     | 102kB 4.7MB/s eta 0:00:01\r\u001b[K     |████████████                    | 112kB 4.7MB/s eta 0:00:01\r\u001b[K     |█████████████                   | 122kB 4.7MB/s eta 0:00:01\r\u001b[K     |██████████████▏                 | 133kB 4.7MB/s eta 0:00:01\r\u001b[K     |███████████████▎                | 143kB 4.7MB/s eta 0:00:01\r\u001b[K     |████████████████▍               | 153kB 4.7MB/s eta 0:00:01\r\u001b[K     |█████████████████▍              | 163kB 4.7MB/s eta 0:00:01\r\u001b[K     |██████████████████▌             | 174kB 4.7MB/s eta 0:00:01\r\u001b[K     |███████████████████▋            | 184kB 4.7MB/s eta 0:00:01\r\u001b[K     |████████████████████▊           | 194kB 4.7MB/s eta 0:00:01\r\u001b[K     |█████████████████████▉          | 204kB 4.7MB/s eta 0:00:01\r\u001b[K     |██████████████████████▉         | 215kB 4.7MB/s eta 0:00:01\r\u001b[K     |████████████████████████        | 225kB 4.7MB/s eta 0:00:01\r\u001b[K     |█████████████████████████       | 235kB 4.7MB/s eta 0:00:01\r\u001b[K     |██████████████████████████▏     | 245kB 4.7MB/s eta 0:00:01\r\u001b[K     |███████████████████████████▎    | 256kB 4.7MB/s eta 0:00:01\r\u001b[K     |████████████████████████████▎   | 266kB 4.7MB/s eta 0:00:01\r\u001b[K     |█████████████████████████████▍  | 276kB 4.7MB/s eta 0:00:01\r\u001b[K     |██████████████████████████████▌ | 286kB 4.7MB/s eta 0:00:01\r\u001b[K     |███████████████████████████████▋| 296kB 4.7MB/s eta 0:00:01\r\u001b[K     |████████████████████████████████| 307kB 4.7MB/s \n",
            "\u001b[?25hRequirement already up-to-date: textblob in /usr/local/lib/python3.6/dist-packages (0.15.3)\n",
            "Requirement already satisfied, skipping upgrade: nltk>=3.1 in /usr/local/lib/python3.6/dist-packages (from textblob) (3.2.5)\n",
            "Requirement already satisfied, skipping upgrade: six in /usr/local/lib/python3.6/dist-packages (from nltk>=3.1->textblob) (1.12.0)\n",
            "Installing collected packages: joblib\n",
            "  Found existing installation: joblib 0.15.1\n",
            "    Uninstalling joblib-0.15.1:\n",
            "      Successfully uninstalled joblib-0.15.1\n",
            "Successfully installed joblib-0.16.0\n"
          ],
          "name": "stdout"
        }
      ]
    },
    {
      "cell_type": "code",
      "metadata": {
        "id": "HXoKlaNTzu92",
        "colab_type": "code",
        "colab": {
          "base_uri": "https://localhost:8080/",
          "height": 255
        },
        "outputId": "989090de-5031-4504-df47-217ce8196a1f"
      },
      "source": [
        "!python -m textblob.download_corpora"
      ],
      "execution_count": null,
      "outputs": [
        {
          "output_type": "stream",
          "text": [
            "[nltk_data] Downloading package brown to /root/nltk_data...\n",
            "[nltk_data]   Unzipping corpora/brown.zip.\n",
            "[nltk_data] Downloading package punkt to /root/nltk_data...\n",
            "[nltk_data]   Unzipping tokenizers/punkt.zip.\n",
            "[nltk_data] Downloading package wordnet to /root/nltk_data...\n",
            "[nltk_data]   Unzipping corpora/wordnet.zip.\n",
            "[nltk_data] Downloading package averaged_perceptron_tagger to\n",
            "[nltk_data]     /root/nltk_data...\n",
            "[nltk_data]   Unzipping taggers/averaged_perceptron_tagger.zip.\n",
            "[nltk_data] Downloading package conll2000 to /root/nltk_data...\n",
            "[nltk_data]   Unzipping corpora/conll2000.zip.\n",
            "[nltk_data] Downloading package movie_reviews to /root/nltk_data...\n",
            "[nltk_data]   Unzipping corpora/movie_reviews.zip.\n",
            "Finished.\n"
          ],
          "name": "stdout"
        }
      ]
    },
    {
      "cell_type": "code",
      "metadata": {
        "id": "TgHXVuQCzwep",
        "colab_type": "code",
        "colab": {}
      },
      "source": [
        "from joblib import Parallel, delayed\n",
        "from textblob import TextBlob\n",
        "from textblob.translate import NotTranslated\n",
        "import argparse\n",
        "import os\n",
        "import pandas as pd"
      ],
      "execution_count": null,
      "outputs": []
    },
    {
      "cell_type": "code",
      "metadata": {
        "id": "ZaKKBA1nzxqp",
        "colab_type": "code",
        "colab": {}
      },
      "source": [
        "NAN_WORD = \"_NAN_\""
      ],
      "execution_count": null,
      "outputs": []
    },
    {
      "cell_type": "code",
      "metadata": {
        "id": "pwAH3OFIzzih",
        "colab_type": "code",
        "colab": {}
      },
      "source": [
        "def translate(comment, language):\n",
        "    if hasattr(comment, \"decode\"):\n",
        "        comment = comment.decode(\"utf-8\")\n",
        "\n",
        "    text = TextBlob(comment)\n",
        "    try:\n",
        "        text = text.translate(to=language)\n",
        "        text = text.translate(to=\"en\")\n",
        "    except NotTranslated:\n",
        "        pass\n",
        "\n",
        "    return str(text)"
      ],
      "execution_count": null,
      "outputs": []
    },
    {
      "cell_type": "markdown",
      "metadata": {
        "id": "fRF9Vpa0hKMj",
        "colab_type": "text"
      },
      "source": [
        "# IMPORT YOUR DATA"
      ]
    },
    {
      "cell_type": "code",
      "metadata": {
        "id": "7T0Ddbra2mLu",
        "colab_type": "code",
        "colab": {}
      },
      "source": [
        "path = './../data/'"
      ],
      "execution_count": null,
      "outputs": []
    },
    {
      "cell_type": "code",
      "metadata": {
        "id": "8CixbXlL00Em",
        "colab_type": "code",
        "colab": {}
      },
      "source": [
        "train = pd.read_csv(path+'final_train.csv')"
      ],
      "execution_count": null,
      "outputs": []
    },
    {
      "cell_type": "code",
      "metadata": {
        "id": "4dqHUj6az06h",
        "colab_type": "code",
        "colab": {}
      },
      "source": [
        "train_data=train"
      ],
      "execution_count": null,
      "outputs": []
    },
    {
      "cell_type": "code",
      "metadata": {
        "id": "6rwBmLnmhQ6y",
        "colab_type": "code",
        "colab": {
          "base_uri": "https://localhost:8080/",
          "height": 102
        },
        "outputId": "35c523ba-c9cf-4b64-8cb8-a60942b2cdbb"
      },
      "source": [
        "comments_list = train_data[\"text\"]\n",
        "\n",
        "parallel = Parallel(100, backend=\"threading\", verbose=1)\n",
        "\n",
        "\n",
        "language  =\"fr\"\n",
        "print('Translate comments using \"{0}\" language'.format(language))\n",
        "translated_data = parallel(delayed(translate)(comment, language) for comment in comments_list)\n",
        "train_data[\"text\"] = translated_data\n",
        "\n",
        "        \n",
        "train_data.to_csv(path + f'extended_train_from_{language}_to_english.csv', index=False)\n",
        "print(f'we just finsh translation from en to {language}')"
      ],
      "execution_count": null,
      "outputs": [
        {
          "output_type": "stream",
          "text": [
            "Translate comments using \"fr\" language\n"
          ],
          "name": "stdout"
        },
        {
          "output_type": "stream",
          "text": [
            "[Parallel(n_jobs=100)]: Using backend ThreadingBackend with 100 concurrent workers.\n",
            "[Parallel(n_jobs=100)]: Done 250 tasks      | elapsed:    1.0s\n"
          ],
          "name": "stderr"
        },
        {
          "output_type": "stream",
          "text": [
            "we just finsh translated from en to fr\n"
          ],
          "name": "stdout"
        },
        {
          "output_type": "stream",
          "text": [
            "[Parallel(n_jobs=100)]: Done 597 out of 597 | elapsed:    1.9s finished\n"
          ],
          "name": "stderr"
        }
      ]
    },
    {
      "cell_type": "markdown",
      "metadata": {
        "id": "2i8ZgCsFPCRA",
        "colab_type": "text"
      },
      "source": [
        "# If you encounter a RuntimeError (resources exhausted) , please disconnect the notebook, then connect and run the code **below**\n",
        "\n"
      ]
    },
    {
      "cell_type": "code",
      "metadata": {
        "id": "pAlerYVlPh2R",
        "colab_type": "code",
        "colab": {}
      },
      "source": [
        "test = pd.read_csv(path+'final_test.csv')\n",
        "test_data=test"
      ],
      "execution_count": null,
      "outputs": []
    },
    {
      "cell_type": "code",
      "metadata": {
        "id": "BjTG0mfn0Nrr",
        "colab_type": "code",
        "colab": {}
      },
      "source": [
        "comments_list = test_data[\"text\"]\n",
        "\n",
        "\n",
        "language  =\"fr\"\n",
        "print('Translate comments using \"{0}\" language'.format(language))\n",
        "translated_data = parallel(delayed(translate)(comment, language) for comment in comments_list)\n",
        "test_data[\"text\"] = translated_data\n",
        "\n",
        "        \n",
        "test_data.to_csv(path + f'extended_test_from_{language}_to_english.csv', index=False)\n",
        "print(f'we just finsh translation from en to {language}')"
      ],
      "execution_count": null,
      "outputs": []
    }
  ]
}