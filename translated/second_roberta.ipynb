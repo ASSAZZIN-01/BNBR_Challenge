{
  "nbformat": 4,
  "nbformat_minor": 0,
  "metadata": {
    "colab": {
      "name": "second roberta.ipynb",
      "provenance": [],
      "collapsed_sections": [],
      "machine_shape": "hm"
    },
    "kernelspec": {
      "name": "python3",
      "display_name": "Python 3"
    },
    "accelerator": "GPU",
    "widgets": {
      "application/vnd.jupyter.widget-state+json": {
        "0d192ee4be004e088424848c14f40cae": {
          "model_module": "@jupyter-widgets/controls",
          "model_name": "HBoxModel",
          "state": {
            "_view_name": "HBoxView",
            "_dom_classes": [],
            "_model_name": "HBoxModel",
            "_view_module": "@jupyter-widgets/controls",
            "_model_module_version": "1.5.0",
            "_view_count": null,
            "_view_module_version": "1.5.0",
            "box_style": "",
            "layout": "IPY_MODEL_9bc6c4d49cb04c6dbcb1fd16d2b5f85b",
            "_model_module": "@jupyter-widgets/controls",
            "children": [
              "IPY_MODEL_481e270f083f48318c9db9dbd0f3f3c1",
              "IPY_MODEL_1099297150e14fbab7a911176c727f9f"
            ]
          }
        },
        "9bc6c4d49cb04c6dbcb1fd16d2b5f85b": {
          "model_module": "@jupyter-widgets/base",
          "model_name": "LayoutModel",
          "state": {
            "_view_name": "LayoutView",
            "grid_template_rows": null,
            "right": null,
            "justify_content": null,
            "_view_module": "@jupyter-widgets/base",
            "overflow": null,
            "_model_module_version": "1.2.0",
            "_view_count": null,
            "flex_flow": null,
            "width": null,
            "min_width": null,
            "border": null,
            "align_items": null,
            "bottom": null,
            "_model_module": "@jupyter-widgets/base",
            "top": null,
            "grid_column": null,
            "overflow_y": null,
            "overflow_x": null,
            "grid_auto_flow": null,
            "grid_area": null,
            "grid_template_columns": null,
            "flex": null,
            "_model_name": "LayoutModel",
            "justify_items": null,
            "grid_row": null,
            "max_height": null,
            "align_content": null,
            "visibility": null,
            "align_self": null,
            "height": null,
            "min_height": null,
            "padding": null,
            "grid_auto_rows": null,
            "grid_gap": null,
            "max_width": null,
            "order": null,
            "_view_module_version": "1.2.0",
            "grid_template_areas": null,
            "object_position": null,
            "object_fit": null,
            "grid_auto_columns": null,
            "margin": null,
            "display": null,
            "left": null
          }
        },
        "481e270f083f48318c9db9dbd0f3f3c1": {
          "model_module": "@jupyter-widgets/controls",
          "model_name": "FloatProgressModel",
          "state": {
            "_view_name": "ProgressView",
            "style": "IPY_MODEL_0f8baa7365c74fc4800cf4b28d85059f",
            "_dom_classes": [],
            "description": "Downloading: 100%",
            "_model_name": "FloatProgressModel",
            "bar_style": "success",
            "max": 481,
            "_view_module": "@jupyter-widgets/controls",
            "_model_module_version": "1.5.0",
            "value": 481,
            "_view_count": null,
            "_view_module_version": "1.5.0",
            "orientation": "horizontal",
            "min": 0,
            "description_tooltip": null,
            "_model_module": "@jupyter-widgets/controls",
            "layout": "IPY_MODEL_dea93815899d480ca7d5bf56d5452204"
          }
        },
        "1099297150e14fbab7a911176c727f9f": {
          "model_module": "@jupyter-widgets/controls",
          "model_name": "HTMLModel",
          "state": {
            "_view_name": "HTMLView",
            "style": "IPY_MODEL_1813b172ad9d41b9850e36db4843fbcf",
            "_dom_classes": [],
            "description": "",
            "_model_name": "HTMLModel",
            "placeholder": "​",
            "_view_module": "@jupyter-widgets/controls",
            "_model_module_version": "1.5.0",
            "value": " 481/481 [00:05&lt;00:00, 81.6B/s]",
            "_view_count": null,
            "_view_module_version": "1.5.0",
            "description_tooltip": null,
            "_model_module": "@jupyter-widgets/controls",
            "layout": "IPY_MODEL_6a718d6bf4124b8fbfb32ac8c1e24436"
          }
        },
        "0f8baa7365c74fc4800cf4b28d85059f": {
          "model_module": "@jupyter-widgets/controls",
          "model_name": "ProgressStyleModel",
          "state": {
            "_view_name": "StyleView",
            "_model_name": "ProgressStyleModel",
            "description_width": "initial",
            "_view_module": "@jupyter-widgets/base",
            "_model_module_version": "1.5.0",
            "_view_count": null,
            "_view_module_version": "1.2.0",
            "bar_color": null,
            "_model_module": "@jupyter-widgets/controls"
          }
        },
        "dea93815899d480ca7d5bf56d5452204": {
          "model_module": "@jupyter-widgets/base",
          "model_name": "LayoutModel",
          "state": {
            "_view_name": "LayoutView",
            "grid_template_rows": null,
            "right": null,
            "justify_content": null,
            "_view_module": "@jupyter-widgets/base",
            "overflow": null,
            "_model_module_version": "1.2.0",
            "_view_count": null,
            "flex_flow": null,
            "width": null,
            "min_width": null,
            "border": null,
            "align_items": null,
            "bottom": null,
            "_model_module": "@jupyter-widgets/base",
            "top": null,
            "grid_column": null,
            "overflow_y": null,
            "overflow_x": null,
            "grid_auto_flow": null,
            "grid_area": null,
            "grid_template_columns": null,
            "flex": null,
            "_model_name": "LayoutModel",
            "justify_items": null,
            "grid_row": null,
            "max_height": null,
            "align_content": null,
            "visibility": null,
            "align_self": null,
            "height": null,
            "min_height": null,
            "padding": null,
            "grid_auto_rows": null,
            "grid_gap": null,
            "max_width": null,
            "order": null,
            "_view_module_version": "1.2.0",
            "grid_template_areas": null,
            "object_position": null,
            "object_fit": null,
            "grid_auto_columns": null,
            "margin": null,
            "display": null,
            "left": null
          }
        },
        "1813b172ad9d41b9850e36db4843fbcf": {
          "model_module": "@jupyter-widgets/controls",
          "model_name": "DescriptionStyleModel",
          "state": {
            "_view_name": "StyleView",
            "_model_name": "DescriptionStyleModel",
            "description_width": "",
            "_view_module": "@jupyter-widgets/base",
            "_model_module_version": "1.5.0",
            "_view_count": null,
            "_view_module_version": "1.2.0",
            "_model_module": "@jupyter-widgets/controls"
          }
        },
        "6a718d6bf4124b8fbfb32ac8c1e24436": {
          "model_module": "@jupyter-widgets/base",
          "model_name": "LayoutModel",
          "state": {
            "_view_name": "LayoutView",
            "grid_template_rows": null,
            "right": null,
            "justify_content": null,
            "_view_module": "@jupyter-widgets/base",
            "overflow": null,
            "_model_module_version": "1.2.0",
            "_view_count": null,
            "flex_flow": null,
            "width": null,
            "min_width": null,
            "border": null,
            "align_items": null,
            "bottom": null,
            "_model_module": "@jupyter-widgets/base",
            "top": null,
            "grid_column": null,
            "overflow_y": null,
            "overflow_x": null,
            "grid_auto_flow": null,
            "grid_area": null,
            "grid_template_columns": null,
            "flex": null,
            "_model_name": "LayoutModel",
            "justify_items": null,
            "grid_row": null,
            "max_height": null,
            "align_content": null,
            "visibility": null,
            "align_self": null,
            "height": null,
            "min_height": null,
            "padding": null,
            "grid_auto_rows": null,
            "grid_gap": null,
            "max_width": null,
            "order": null,
            "_view_module_version": "1.2.0",
            "grid_template_areas": null,
            "object_position": null,
            "object_fit": null,
            "grid_auto_columns": null,
            "margin": null,
            "display": null,
            "left": null
          }
        },
        "74c97b996b6e40ddae8007b4236381c6": {
          "model_module": "@jupyter-widgets/controls",
          "model_name": "HBoxModel",
          "state": {
            "_view_name": "HBoxView",
            "_dom_classes": [],
            "_model_name": "HBoxModel",
            "_view_module": "@jupyter-widgets/controls",
            "_model_module_version": "1.5.0",
            "_view_count": null,
            "_view_module_version": "1.5.0",
            "box_style": "",
            "layout": "IPY_MODEL_eff24cdcbaef47c9ae50ae49b2421b03",
            "_model_module": "@jupyter-widgets/controls",
            "children": [
              "IPY_MODEL_b9edfc55313d4ec5a3f2fb0fdd10350a",
              "IPY_MODEL_0e441068050846eaa4205c65519038d2"
            ]
          }
        },
        "eff24cdcbaef47c9ae50ae49b2421b03": {
          "model_module": "@jupyter-widgets/base",
          "model_name": "LayoutModel",
          "state": {
            "_view_name": "LayoutView",
            "grid_template_rows": null,
            "right": null,
            "justify_content": null,
            "_view_module": "@jupyter-widgets/base",
            "overflow": null,
            "_model_module_version": "1.2.0",
            "_view_count": null,
            "flex_flow": null,
            "width": null,
            "min_width": null,
            "border": null,
            "align_items": null,
            "bottom": null,
            "_model_module": "@jupyter-widgets/base",
            "top": null,
            "grid_column": null,
            "overflow_y": null,
            "overflow_x": null,
            "grid_auto_flow": null,
            "grid_area": null,
            "grid_template_columns": null,
            "flex": null,
            "_model_name": "LayoutModel",
            "justify_items": null,
            "grid_row": null,
            "max_height": null,
            "align_content": null,
            "visibility": null,
            "align_self": null,
            "height": null,
            "min_height": null,
            "padding": null,
            "grid_auto_rows": null,
            "grid_gap": null,
            "max_width": null,
            "order": null,
            "_view_module_version": "1.2.0",
            "grid_template_areas": null,
            "object_position": null,
            "object_fit": null,
            "grid_auto_columns": null,
            "margin": null,
            "display": null,
            "left": null
          }
        },
        "b9edfc55313d4ec5a3f2fb0fdd10350a": {
          "model_module": "@jupyter-widgets/controls",
          "model_name": "FloatProgressModel",
          "state": {
            "_view_name": "ProgressView",
            "style": "IPY_MODEL_91908afa873e4a9dbc18a55259d561e6",
            "_dom_classes": [],
            "description": "Downloading: 100%",
            "_model_name": "FloatProgressModel",
            "bar_style": "success",
            "max": 898823,
            "_view_module": "@jupyter-widgets/controls",
            "_model_module_version": "1.5.0",
            "value": 898823,
            "_view_count": null,
            "_view_module_version": "1.5.0",
            "orientation": "horizontal",
            "min": 0,
            "description_tooltip": null,
            "_model_module": "@jupyter-widgets/controls",
            "layout": "IPY_MODEL_a48708d82cfc497f83ac57c9071ae418"
          }
        },
        "0e441068050846eaa4205c65519038d2": {
          "model_module": "@jupyter-widgets/controls",
          "model_name": "HTMLModel",
          "state": {
            "_view_name": "HTMLView",
            "style": "IPY_MODEL_f751eb02d0184fcbb71d602a2ac5242e",
            "_dom_classes": [],
            "description": "",
            "_model_name": "HTMLModel",
            "placeholder": "​",
            "_view_module": "@jupyter-widgets/controls",
            "_model_module_version": "1.5.0",
            "value": " 899k/899k [00:03&lt;00:00, 249kB/s]",
            "_view_count": null,
            "_view_module_version": "1.5.0",
            "description_tooltip": null,
            "_model_module": "@jupyter-widgets/controls",
            "layout": "IPY_MODEL_46685502c2a34542bfdd46dbd341ac57"
          }
        },
        "91908afa873e4a9dbc18a55259d561e6": {
          "model_module": "@jupyter-widgets/controls",
          "model_name": "ProgressStyleModel",
          "state": {
            "_view_name": "StyleView",
            "_model_name": "ProgressStyleModel",
            "description_width": "initial",
            "_view_module": "@jupyter-widgets/base",
            "_model_module_version": "1.5.0",
            "_view_count": null,
            "_view_module_version": "1.2.0",
            "bar_color": null,
            "_model_module": "@jupyter-widgets/controls"
          }
        },
        "a48708d82cfc497f83ac57c9071ae418": {
          "model_module": "@jupyter-widgets/base",
          "model_name": "LayoutModel",
          "state": {
            "_view_name": "LayoutView",
            "grid_template_rows": null,
            "right": null,
            "justify_content": null,
            "_view_module": "@jupyter-widgets/base",
            "overflow": null,
            "_model_module_version": "1.2.0",
            "_view_count": null,
            "flex_flow": null,
            "width": null,
            "min_width": null,
            "border": null,
            "align_items": null,
            "bottom": null,
            "_model_module": "@jupyter-widgets/base",
            "top": null,
            "grid_column": null,
            "overflow_y": null,
            "overflow_x": null,
            "grid_auto_flow": null,
            "grid_area": null,
            "grid_template_columns": null,
            "flex": null,
            "_model_name": "LayoutModel",
            "justify_items": null,
            "grid_row": null,
            "max_height": null,
            "align_content": null,
            "visibility": null,
            "align_self": null,
            "height": null,
            "min_height": null,
            "padding": null,
            "grid_auto_rows": null,
            "grid_gap": null,
            "max_width": null,
            "order": null,
            "_view_module_version": "1.2.0",
            "grid_template_areas": null,
            "object_position": null,
            "object_fit": null,
            "grid_auto_columns": null,
            "margin": null,
            "display": null,
            "left": null
          }
        },
        "f751eb02d0184fcbb71d602a2ac5242e": {
          "model_module": "@jupyter-widgets/controls",
          "model_name": "DescriptionStyleModel",
          "state": {
            "_view_name": "StyleView",
            "_model_name": "DescriptionStyleModel",
            "description_width": "",
            "_view_module": "@jupyter-widgets/base",
            "_model_module_version": "1.5.0",
            "_view_count": null,
            "_view_module_version": "1.2.0",
            "_model_module": "@jupyter-widgets/controls"
          }
        },
        "46685502c2a34542bfdd46dbd341ac57": {
          "model_module": "@jupyter-widgets/base",
          "model_name": "LayoutModel",
          "state": {
            "_view_name": "LayoutView",
            "grid_template_rows": null,
            "right": null,
            "justify_content": null,
            "_view_module": "@jupyter-widgets/base",
            "overflow": null,
            "_model_module_version": "1.2.0",
            "_view_count": null,
            "flex_flow": null,
            "width": null,
            "min_width": null,
            "border": null,
            "align_items": null,
            "bottom": null,
            "_model_module": "@jupyter-widgets/base",
            "top": null,
            "grid_column": null,
            "overflow_y": null,
            "overflow_x": null,
            "grid_auto_flow": null,
            "grid_area": null,
            "grid_template_columns": null,
            "flex": null,
            "_model_name": "LayoutModel",
            "justify_items": null,
            "grid_row": null,
            "max_height": null,
            "align_content": null,
            "visibility": null,
            "align_self": null,
            "height": null,
            "min_height": null,
            "padding": null,
            "grid_auto_rows": null,
            "grid_gap": null,
            "max_width": null,
            "order": null,
            "_view_module_version": "1.2.0",
            "grid_template_areas": null,
            "object_position": null,
            "object_fit": null,
            "grid_auto_columns": null,
            "margin": null,
            "display": null,
            "left": null
          }
        },
        "a1ef481d87ce43aba0dd2a595bb39cf9": {
          "model_module": "@jupyter-widgets/controls",
          "model_name": "HBoxModel",
          "state": {
            "_view_name": "HBoxView",
            "_dom_classes": [],
            "_model_name": "HBoxModel",
            "_view_module": "@jupyter-widgets/controls",
            "_model_module_version": "1.5.0",
            "_view_count": null,
            "_view_module_version": "1.5.0",
            "box_style": "",
            "layout": "IPY_MODEL_5776dc9cde2f465f976a798cd2289e7d",
            "_model_module": "@jupyter-widgets/controls",
            "children": [
              "IPY_MODEL_1274fcf62adc4b84976d2228232eed55",
              "IPY_MODEL_85a6f90c8770489d822122ece7bc4cd4"
            ]
          }
        },
        "5776dc9cde2f465f976a798cd2289e7d": {
          "model_module": "@jupyter-widgets/base",
          "model_name": "LayoutModel",
          "state": {
            "_view_name": "LayoutView",
            "grid_template_rows": null,
            "right": null,
            "justify_content": null,
            "_view_module": "@jupyter-widgets/base",
            "overflow": null,
            "_model_module_version": "1.2.0",
            "_view_count": null,
            "flex_flow": null,
            "width": null,
            "min_width": null,
            "border": null,
            "align_items": null,
            "bottom": null,
            "_model_module": "@jupyter-widgets/base",
            "top": null,
            "grid_column": null,
            "overflow_y": null,
            "overflow_x": null,
            "grid_auto_flow": null,
            "grid_area": null,
            "grid_template_columns": null,
            "flex": null,
            "_model_name": "LayoutModel",
            "justify_items": null,
            "grid_row": null,
            "max_height": null,
            "align_content": null,
            "visibility": null,
            "align_self": null,
            "height": null,
            "min_height": null,
            "padding": null,
            "grid_auto_rows": null,
            "grid_gap": null,
            "max_width": null,
            "order": null,
            "_view_module_version": "1.2.0",
            "grid_template_areas": null,
            "object_position": null,
            "object_fit": null,
            "grid_auto_columns": null,
            "margin": null,
            "display": null,
            "left": null
          }
        },
        "1274fcf62adc4b84976d2228232eed55": {
          "model_module": "@jupyter-widgets/controls",
          "model_name": "FloatProgressModel",
          "state": {
            "_view_name": "ProgressView",
            "style": "IPY_MODEL_93680c144e164264b0ee6a6868644a52",
            "_dom_classes": [],
            "description": "Downloading: 100%",
            "_model_name": "FloatProgressModel",
            "bar_style": "success",
            "max": 456318,
            "_view_module": "@jupyter-widgets/controls",
            "_model_module_version": "1.5.0",
            "value": 456318,
            "_view_count": null,
            "_view_module_version": "1.5.0",
            "orientation": "horizontal",
            "min": 0,
            "description_tooltip": null,
            "_model_module": "@jupyter-widgets/controls",
            "layout": "IPY_MODEL_5ec54a198479489f8c1e95b415495ff8"
          }
        },
        "85a6f90c8770489d822122ece7bc4cd4": {
          "model_module": "@jupyter-widgets/controls",
          "model_name": "HTMLModel",
          "state": {
            "_view_name": "HTMLView",
            "style": "IPY_MODEL_4ed7320faca5439f987362ced915f6ca",
            "_dom_classes": [],
            "description": "",
            "_model_name": "HTMLModel",
            "placeholder": "​",
            "_view_module": "@jupyter-widgets/controls",
            "_model_module_version": "1.5.0",
            "value": " 456k/456k [00:00&lt;00:00, 467kB/s]",
            "_view_count": null,
            "_view_module_version": "1.5.0",
            "description_tooltip": null,
            "_model_module": "@jupyter-widgets/controls",
            "layout": "IPY_MODEL_519573c8337548df93ba5e9bdf764d50"
          }
        },
        "93680c144e164264b0ee6a6868644a52": {
          "model_module": "@jupyter-widgets/controls",
          "model_name": "ProgressStyleModel",
          "state": {
            "_view_name": "StyleView",
            "_model_name": "ProgressStyleModel",
            "description_width": "initial",
            "_view_module": "@jupyter-widgets/base",
            "_model_module_version": "1.5.0",
            "_view_count": null,
            "_view_module_version": "1.2.0",
            "bar_color": null,
            "_model_module": "@jupyter-widgets/controls"
          }
        },
        "5ec54a198479489f8c1e95b415495ff8": {
          "model_module": "@jupyter-widgets/base",
          "model_name": "LayoutModel",
          "state": {
            "_view_name": "LayoutView",
            "grid_template_rows": null,
            "right": null,
            "justify_content": null,
            "_view_module": "@jupyter-widgets/base",
            "overflow": null,
            "_model_module_version": "1.2.0",
            "_view_count": null,
            "flex_flow": null,
            "width": null,
            "min_width": null,
            "border": null,
            "align_items": null,
            "bottom": null,
            "_model_module": "@jupyter-widgets/base",
            "top": null,
            "grid_column": null,
            "overflow_y": null,
            "overflow_x": null,
            "grid_auto_flow": null,
            "grid_area": null,
            "grid_template_columns": null,
            "flex": null,
            "_model_name": "LayoutModel",
            "justify_items": null,
            "grid_row": null,
            "max_height": null,
            "align_content": null,
            "visibility": null,
            "align_self": null,
            "height": null,
            "min_height": null,
            "padding": null,
            "grid_auto_rows": null,
            "grid_gap": null,
            "max_width": null,
            "order": null,
            "_view_module_version": "1.2.0",
            "grid_template_areas": null,
            "object_position": null,
            "object_fit": null,
            "grid_auto_columns": null,
            "margin": null,
            "display": null,
            "left": null
          }
        },
        "4ed7320faca5439f987362ced915f6ca": {
          "model_module": "@jupyter-widgets/controls",
          "model_name": "DescriptionStyleModel",
          "state": {
            "_view_name": "StyleView",
            "_model_name": "DescriptionStyleModel",
            "description_width": "",
            "_view_module": "@jupyter-widgets/base",
            "_model_module_version": "1.5.0",
            "_view_count": null,
            "_view_module_version": "1.2.0",
            "_model_module": "@jupyter-widgets/controls"
          }
        },
        "519573c8337548df93ba5e9bdf764d50": {
          "model_module": "@jupyter-widgets/base",
          "model_name": "LayoutModel",
          "state": {
            "_view_name": "LayoutView",
            "grid_template_rows": null,
            "right": null,
            "justify_content": null,
            "_view_module": "@jupyter-widgets/base",
            "overflow": null,
            "_model_module_version": "1.2.0",
            "_view_count": null,
            "flex_flow": null,
            "width": null,
            "min_width": null,
            "border": null,
            "align_items": null,
            "bottom": null,
            "_model_module": "@jupyter-widgets/base",
            "top": null,
            "grid_column": null,
            "overflow_y": null,
            "overflow_x": null,
            "grid_auto_flow": null,
            "grid_area": null,
            "grid_template_columns": null,
            "flex": null,
            "_model_name": "LayoutModel",
            "justify_items": null,
            "grid_row": null,
            "max_height": null,
            "align_content": null,
            "visibility": null,
            "align_self": null,
            "height": null,
            "min_height": null,
            "padding": null,
            "grid_auto_rows": null,
            "grid_gap": null,
            "max_width": null,
            "order": null,
            "_view_module_version": "1.2.0",
            "grid_template_areas": null,
            "object_position": null,
            "object_fit": null,
            "grid_auto_columns": null,
            "margin": null,
            "display": null,
            "left": null
          }
        }
      }
    }
  },
  "cells": [
    {
      "cell_type": "markdown",
      "metadata": {
        "id": "Rcv11dB4LEvh",
        "colab_type": "text"
      },
      "source": [
        "#Install"
      ]
    },
    {
      "cell_type": "code",
      "metadata": {
        "id": "OSaZo-eW9B5p",
        "colab_type": "code",
        "colab": {}
      },
      "source": [
        "!pip install transformers --quiet"
      ],
      "execution_count": null,
      "outputs": []
    },
    {
      "cell_type": "code",
      "metadata": {
        "id": "Td_ChnVXLlbv",
        "colab_type": "code",
        "colab": {}
      },
      "source": [
        "!pip install simpletransformers --quiet"
      ],
      "execution_count": null,
      "outputs": []
    },
    {
      "cell_type": "code",
      "metadata": {
        "id": "9ouLhf3V9br3",
        "colab_type": "code",
        "colab": {}
      },
      "source": [
        "import simpletransformers"
      ],
      "execution_count": null,
      "outputs": []
    },
    {
      "cell_type": "markdown",
      "metadata": {
        "id": "rBaG1N9HLHvL",
        "colab_type": "text"
      },
      "source": [
        "#Imports"
      ]
    },
    {
      "cell_type": "code",
      "metadata": {
        "id": "cRxoHDgvT1Nr",
        "colab_type": "code",
        "colab": {}
      },
      "source": [
        "import warnings\n",
        "warnings.simplefilter('ignore')"
      ],
      "execution_count": null,
      "outputs": []
    },
    {
      "cell_type": "code",
      "metadata": {
        "id": "xn-JwPUXK4by",
        "colab_type": "code",
        "colab": {}
      },
      "source": [
        "import os, sys, gc\n",
        "import random\n",
        "import numpy as np\n",
        "import pandas as pd\n",
        "from tqdm.notebook import tqdm"
      ],
      "execution_count": null,
      "outputs": []
    },
    {
      "cell_type": "code",
      "metadata": {
        "id": "YMsrz5JmS5wW",
        "colab_type": "code",
        "colab": {}
      },
      "source": [
        "from sklearn.model_selection import KFold, StratifiedKFold, train_test_split\n",
        "from sklearn.metrics import log_loss, f1_score, accuracy_score"
      ],
      "execution_count": null,
      "outputs": []
    },
    {
      "cell_type": "code",
      "metadata": {
        "id": "K8Noxw5SLAPW",
        "colab_type": "code",
        "colab": {}
      },
      "source": [
        "import torch\n",
        "import torch.nn as nn\n",
        "from torch.utils.data import Dataset, DataLoader\n",
        "from torch.optim import Adam\n",
        "import torch.nn.functional as F"
      ],
      "execution_count": null,
      "outputs": []
    },
    {
      "cell_type": "code",
      "metadata": {
        "id": "7r1Wh6C7NLeq",
        "colab_type": "code",
        "colab": {}
      },
      "source": [
        "import transformers\n",
        "from transformers import AutoConfig, AutoModel, AutoTokenizer, BertPreTrainedModel, AdamW, get_linear_schedule_with_warmup"
      ],
      "execution_count": null,
      "outputs": []
    },
    {
      "cell_type": "code",
      "metadata": {
        "id": "HF6Lr0qYLpjK",
        "colab_type": "code",
        "colab": {
          "base_uri": "https://localhost:8080/",
          "height": 34
        },
        "outputId": "28ca416e-a28a-47ca-86d3-aa86fb7aec28"
      },
      "source": [
        "from keras.utils import to_categorical"
      ],
      "execution_count": null,
      "outputs": [
        {
          "output_type": "stream",
          "text": [
            "Using TensorFlow backend.\n"
          ],
          "name": "stderr"
        }
      ]
    },
    {
      "cell_type": "markdown",
      "metadata": {
        "id": "twspBWOgMkl6",
        "colab_type": "text"
      },
      "source": [
        "#Envs"
      ]
    },
    {
      "cell_type": "code",
      "metadata": {
        "id": "lkxqndHMMmsJ",
        "colab_type": "code",
        "colab": {}
      },
      "source": [
        "seed = 42"
      ],
      "execution_count": null,
      "outputs": []
    },
    {
      "cell_type": "code",
      "metadata": {
        "id": "qnJ7_MeFMu7I",
        "colab_type": "code",
        "colab": {}
      },
      "source": [
        "random.seed(seed)\n",
        "os.environ['PYTHONHASHSEED'] = str(seed)\n",
        "np.random.seed(seed)\n",
        "torch.manual_seed(seed)\n",
        "\n",
        "if torch.cuda.is_available(): \n",
        "    torch.cuda.manual_seed(seed)\n",
        "    torch.cuda.manual_seed_all(seed)\n",
        "    torch.backends.cudnn.deterministic = True\n",
        "    torch.backends.cudnn.benchmark = False"
      ],
      "execution_count": null,
      "outputs": []
    },
    {
      "cell_type": "markdown",
      "metadata": {
        "id": "QRcYdgdALv11",
        "colab_type": "text"
      },
      "source": [
        "#Data"
      ]
    },
    {
      "cell_type": "code",
      "metadata": {
        "id": "jtwweY2V3cOz",
        "colab_type": "code",
        "colab": {}
      },
      "source": [
        "path = './../data/'"
      ],
      "execution_count": null,
      "outputs": []
    },
    {
      "cell_type": "code",
      "metadata": {
        "id": "JpA0m0QOLvDc",
        "colab_type": "code",
        "colab": {}
      },
      "source": [
        "train = pd.read_csv(path+'extended_train_from_fr_to_english.csv')\n",
        "test = pd.read_csv(path+'extended_test_from_fr_to_english.csv')\n",
        "sample = pd.read_csv(path+'SampleSubmission.csv')"
      ],
      "execution_count": null,
      "outputs": []
    },
    {
      "cell_type": "code",
      "metadata": {
        "id": "MzuRaLaWvzGT",
        "colab_type": "code",
        "colab": {}
      },
      "source": [
        "train = train.drop_duplicates('text').reset_index(drop=True)"
      ],
      "execution_count": null,
      "outputs": []
    },
    {
      "cell_type": "code",
      "metadata": {
        "id": "1go_wCAowMGL",
        "colab_type": "code",
        "colab": {}
      },
      "source": [
        "import re\n",
        "def clean_text(text):\n",
        "    text = text.lower()\n",
        "    text = re.sub(r\"what's\", \"what is \", text)\n",
        "    text = re.sub(r\"\\'s\", \" \", text)\n",
        "    text = re.sub(r\"\\'ve\", \" have \", text)\n",
        "    text = re.sub(r\"can't\", \"cannot \", text)\n",
        "    text = re.sub(r\"n't\", \" not \", text)\n",
        "    text = re.sub(r\"i'm\", \"i am \", text)\n",
        "    text = re.sub(r\"\\'re\", \" are \", text)\n",
        "    text = re.sub(r\"\\'d\", \" would \", text)\n",
        "    text = re.sub(r\"\\'ll\", \" will \", text)\n",
        "    \n",
        "    text = text.strip(' ')\n",
        "    return text\n",
        "\n",
        "# clean the comment_text in test_df [Thanks, Pulkit Jha.]\n",
        "train['text'] = train['text'].map(lambda com : clean_text(com))\n",
        "# clean the comment_text in test_df [Thanks, Pulkit Jha.]\n",
        "test['text'] = test['text'].map(lambda com : clean_text(com))"
      ],
      "execution_count": null,
      "outputs": []
    },
    {
      "cell_type": "code",
      "metadata": {
        "id": "ocXUMbNJMSfo",
        "colab_type": "code",
        "colab": {
          "base_uri": "https://localhost:8080/",
          "height": 514
        },
        "outputId": "38ba4b2b-a4c9-44b6-8a14-163d44cb7da5"
      },
      "source": [
        "train.head(15)"
      ],
      "execution_count": null,
      "outputs": [
        {
          "output_type": "execute_result",
          "data": {
            "text/html": [
              "<div>\n",
              "<style scoped>\n",
              "    .dataframe tbody tr th:only-of-type {\n",
              "        vertical-align: middle;\n",
              "    }\n",
              "\n",
              "    .dataframe tbody tr th {\n",
              "        vertical-align: top;\n",
              "    }\n",
              "\n",
              "    .dataframe thead th {\n",
              "        text-align: right;\n",
              "    }\n",
              "</style>\n",
              "<table border=\"1\" class=\"dataframe\">\n",
              "  <thead>\n",
              "    <tr style=\"text-align: right;\">\n",
              "      <th></th>\n",
              "      <th>ID</th>\n",
              "      <th>text</th>\n",
              "      <th>label</th>\n",
              "      <th>Depression</th>\n",
              "      <th>Alcohol</th>\n",
              "      <th>Suicide</th>\n",
              "      <th>Drugs</th>\n",
              "    </tr>\n",
              "  </thead>\n",
              "  <tbody>\n",
              "    <tr>\n",
              "      <th>0</th>\n",
              "      <td>SUAVK39Z</td>\n",
              "      <td>i feel it was betteer i die happy</td>\n",
              "      <td>0</td>\n",
              "      <td>1</td>\n",
              "      <td>0</td>\n",
              "      <td>0</td>\n",
              "      <td>0</td>\n",
              "    </tr>\n",
              "    <tr>\n",
              "      <th>1</th>\n",
              "      <td>9JDAGUV3</td>\n",
              "      <td>why do i hallucinate?</td>\n",
              "      <td>3</td>\n",
              "      <td>0</td>\n",
              "      <td>0</td>\n",
              "      <td>0</td>\n",
              "      <td>1</td>\n",
              "    </tr>\n",
              "    <tr>\n",
              "      <th>2</th>\n",
              "      <td>419WR1LQ</td>\n",
              "      <td>i am stressed by lack of financial support at ...</td>\n",
              "      <td>0</td>\n",
              "      <td>1</td>\n",
              "      <td>0</td>\n",
              "      <td>0</td>\n",
              "      <td>0</td>\n",
              "    </tr>\n",
              "    <tr>\n",
              "      <th>3</th>\n",
              "      <td>6UY7DX6Q</td>\n",
              "      <td>why is life important?</td>\n",
              "      <td>2</td>\n",
              "      <td>0</td>\n",
              "      <td>0</td>\n",
              "      <td>1</td>\n",
              "      <td>0</td>\n",
              "    </tr>\n",
              "    <tr>\n",
              "      <th>4</th>\n",
              "      <td>FYC0FTFB</td>\n",
              "      <td>how can i be helped through depression?</td>\n",
              "      <td>0</td>\n",
              "      <td>1</td>\n",
              "      <td>0</td>\n",
              "      <td>0</td>\n",
              "      <td>0</td>\n",
              "    </tr>\n",
              "    <tr>\n",
              "      <th>5</th>\n",
              "      <td>V6VSDJ5I</td>\n",
              "      <td>what are the health effects of depression</td>\n",
              "      <td>0</td>\n",
              "      <td>1</td>\n",
              "      <td>0</td>\n",
              "      <td>0</td>\n",
              "      <td>0</td>\n",
              "    </tr>\n",
              "    <tr>\n",
              "      <th>6</th>\n",
              "      <td>9736J4UE</td>\n",
              "      <td>why is everything so difficult to manage in th...</td>\n",
              "      <td>0</td>\n",
              "      <td>1</td>\n",
              "      <td>0</td>\n",
              "      <td>0</td>\n",
              "      <td>0</td>\n",
              "    </tr>\n",
              "    <tr>\n",
              "      <th>7</th>\n",
              "      <td>AY8L479Y</td>\n",
              "      <td>i feel emotionally overwhelmed</td>\n",
              "      <td>0</td>\n",
              "      <td>1</td>\n",
              "      <td>0</td>\n",
              "      <td>0</td>\n",
              "      <td>0</td>\n",
              "    </tr>\n",
              "    <tr>\n",
              "      <th>8</th>\n",
              "      <td>OSFJV5EC</td>\n",
              "      <td>how to manage alcohol consumption?</td>\n",
              "      <td>1</td>\n",
              "      <td>0</td>\n",
              "      <td>1</td>\n",
              "      <td>0</td>\n",
              "      <td>0</td>\n",
              "    </tr>\n",
              "    <tr>\n",
              "      <th>9</th>\n",
              "      <td>U4SGUGGM</td>\n",
              "      <td>is the sky open for us who smoke bhang?</td>\n",
              "      <td>3</td>\n",
              "      <td>0</td>\n",
              "      <td>0</td>\n",
              "      <td>0</td>\n",
              "      <td>1</td>\n",
              "    </tr>\n",
              "    <tr>\n",
              "      <th>10</th>\n",
              "      <td>JGBMEUC1</td>\n",
              "      <td>how to survive without money?</td>\n",
              "      <td>0</td>\n",
              "      <td>1</td>\n",
              "      <td>0</td>\n",
              "      <td>0</td>\n",
              "      <td>0</td>\n",
              "    </tr>\n",
              "    <tr>\n",
              "      <th>11</th>\n",
              "      <td>LM8GPR0X</td>\n",
              "      <td>how can i stop this? what to do when life beco...</td>\n",
              "      <td>1</td>\n",
              "      <td>0</td>\n",
              "      <td>1</td>\n",
              "      <td>0</td>\n",
              "      <td>0</td>\n",
              "    </tr>\n",
              "    <tr>\n",
              "      <th>12</th>\n",
              "      <td>EIF8Y8MX</td>\n",
              "      <td>i was always sad, alone and still on drugs now...</td>\n",
              "      <td>0</td>\n",
              "      <td>1</td>\n",
              "      <td>0</td>\n",
              "      <td>0</td>\n",
              "      <td>0</td>\n",
              "    </tr>\n",
              "    <tr>\n",
              "      <th>13</th>\n",
              "      <td>03TVUJ9J</td>\n",
              "      <td>i feel empty, distracted</td>\n",
              "      <td>0</td>\n",
              "      <td>1</td>\n",
              "      <td>0</td>\n",
              "      <td>0</td>\n",
              "      <td>0</td>\n",
              "    </tr>\n",
              "    <tr>\n",
              "      <th>14</th>\n",
              "      <td>CBMIYRK7</td>\n",
              "      <td>i suffered from depression in my studies</td>\n",
              "      <td>0</td>\n",
              "      <td>1</td>\n",
              "      <td>0</td>\n",
              "      <td>0</td>\n",
              "      <td>0</td>\n",
              "    </tr>\n",
              "  </tbody>\n",
              "</table>\n",
              "</div>"
            ],
            "text/plain": [
              "          ID                                               text  ...  Suicide  Drugs\n",
              "0   SUAVK39Z                  i feel it was betteer i die happy  ...        0      0\n",
              "1   9JDAGUV3                              why do i hallucinate?  ...        0      1\n",
              "2   419WR1LQ  i am stressed by lack of financial support at ...  ...        0      0\n",
              "3   6UY7DX6Q                             why is life important?  ...        1      0\n",
              "4   FYC0FTFB            how can i be helped through depression?  ...        0      0\n",
              "5   V6VSDJ5I          what are the health effects of depression  ...        0      0\n",
              "6   9736J4UE  why is everything so difficult to manage in th...  ...        0      0\n",
              "7   AY8L479Y                     i feel emotionally overwhelmed  ...        0      0\n",
              "8   OSFJV5EC                 how to manage alcohol consumption?  ...        0      0\n",
              "9   U4SGUGGM            is the sky open for us who smoke bhang?  ...        0      1\n",
              "10  JGBMEUC1                      how to survive without money?  ...        0      0\n",
              "11  LM8GPR0X  how can i stop this? what to do when life beco...  ...        0      0\n",
              "12  EIF8Y8MX  i was always sad, alone and still on drugs now...  ...        0      0\n",
              "13  03TVUJ9J                           i feel empty, distracted  ...        0      0\n",
              "14  CBMIYRK7           i suffered from depression in my studies  ...        0      0\n",
              "\n",
              "[15 rows x 7 columns]"
            ]
          },
          "metadata": {
            "tags": []
          },
          "execution_count": 16
        }
      ]
    },
    {
      "cell_type": "code",
      "metadata": {
        "id": "DZlJ_BVRSABy",
        "colab_type": "code",
        "colab": {}
      },
      "source": [
        "train['Depression'] = 0\n",
        "\n",
        "train['Alcohol'] = 0\n",
        "\n",
        "train['Suicide'] = 0\n",
        "\n",
        "train['Drugs'] = 0\n",
        "\n",
        "train[['Depression', 'Alcohol', 'Suicide', 'Drugs']] = to_categorical(train.label.values).astype(int)"
      ],
      "execution_count": null,
      "outputs": []
    },
    {
      "cell_type": "code",
      "metadata": {
        "id": "i2iTSJ_wSSQ8",
        "colab_type": "code",
        "colab": {}
      },
      "source": [
        "train = train[['text', 'Depression', 'Alcohol', 'Suicide', 'Drugs', 'label']]"
      ],
      "execution_count": null,
      "outputs": []
    },
    {
      "cell_type": "code",
      "metadata": {
        "id": "k5rfYl_-RwQK",
        "colab_type": "code",
        "colab": {
          "base_uri": "https://localhost:8080/",
          "height": 204
        },
        "outputId": "c01d233b-d18f-4848-93d4-21ca6612af7f"
      },
      "source": [
        "train.head()"
      ],
      "execution_count": null,
      "outputs": [
        {
          "output_type": "execute_result",
          "data": {
            "text/html": [
              "<div>\n",
              "<style scoped>\n",
              "    .dataframe tbody tr th:only-of-type {\n",
              "        vertical-align: middle;\n",
              "    }\n",
              "\n",
              "    .dataframe tbody tr th {\n",
              "        vertical-align: top;\n",
              "    }\n",
              "\n",
              "    .dataframe thead th {\n",
              "        text-align: right;\n",
              "    }\n",
              "</style>\n",
              "<table border=\"1\" class=\"dataframe\">\n",
              "  <thead>\n",
              "    <tr style=\"text-align: right;\">\n",
              "      <th></th>\n",
              "      <th>text</th>\n",
              "      <th>Depression</th>\n",
              "      <th>Alcohol</th>\n",
              "      <th>Suicide</th>\n",
              "      <th>Drugs</th>\n",
              "      <th>label</th>\n",
              "    </tr>\n",
              "  </thead>\n",
              "  <tbody>\n",
              "    <tr>\n",
              "      <th>0</th>\n",
              "      <td>i feel it was betteer i die happy</td>\n",
              "      <td>1</td>\n",
              "      <td>0</td>\n",
              "      <td>0</td>\n",
              "      <td>0</td>\n",
              "      <td>0</td>\n",
              "    </tr>\n",
              "    <tr>\n",
              "      <th>1</th>\n",
              "      <td>why do i hallucinate?</td>\n",
              "      <td>0</td>\n",
              "      <td>0</td>\n",
              "      <td>0</td>\n",
              "      <td>1</td>\n",
              "      <td>3</td>\n",
              "    </tr>\n",
              "    <tr>\n",
              "      <th>2</th>\n",
              "      <td>i am stressed by lack of financial support at ...</td>\n",
              "      <td>1</td>\n",
              "      <td>0</td>\n",
              "      <td>0</td>\n",
              "      <td>0</td>\n",
              "      <td>0</td>\n",
              "    </tr>\n",
              "    <tr>\n",
              "      <th>3</th>\n",
              "      <td>why is life important?</td>\n",
              "      <td>0</td>\n",
              "      <td>0</td>\n",
              "      <td>1</td>\n",
              "      <td>0</td>\n",
              "      <td>2</td>\n",
              "    </tr>\n",
              "    <tr>\n",
              "      <th>4</th>\n",
              "      <td>how can i be helped through depression?</td>\n",
              "      <td>1</td>\n",
              "      <td>0</td>\n",
              "      <td>0</td>\n",
              "      <td>0</td>\n",
              "      <td>0</td>\n",
              "    </tr>\n",
              "  </tbody>\n",
              "</table>\n",
              "</div>"
            ],
            "text/plain": [
              "                                                text  Depression  ...  Drugs  label\n",
              "0                  i feel it was betteer i die happy           1  ...      0      0\n",
              "1                              why do i hallucinate?           0  ...      1      3\n",
              "2  i am stressed by lack of financial support at ...           1  ...      0      0\n",
              "3                             why is life important?           0  ...      0      2\n",
              "4            how can i be helped through depression?           1  ...      0      0\n",
              "\n",
              "[5 rows x 6 columns]"
            ]
          },
          "metadata": {
            "tags": []
          },
          "execution_count": 20
        }
      ]
    },
    {
      "cell_type": "code",
      "metadata": {
        "id": "23VJvoPqwTcN",
        "colab_type": "code",
        "colab": {
          "base_uri": "https://localhost:8080/",
          "height": 102
        },
        "outputId": "b8db32db-3e37-49d2-fb64-eba9d28d62de"
      },
      "source": [
        "train.label.value_counts()"
      ],
      "execution_count": null,
      "outputs": [
        {
          "output_type": "execute_result",
          "data": {
            "text/plain": [
              "0    340\n",
              "1    126\n",
              "2     64\n",
              "3     56\n",
              "Name: label, dtype: int64"
            ]
          },
          "metadata": {
            "tags": []
          },
          "execution_count": 21
        }
      ]
    },
    {
      "cell_type": "markdown",
      "metadata": {
        "id": "RqboeokFM5Hd",
        "colab_type": "text"
      },
      "source": [
        "#Utilities"
      ]
    },
    {
      "cell_type": "code",
      "metadata": {
        "id": "v6WCO25iMXXH",
        "colab_type": "code",
        "colab": {}
      },
      "source": [
        "class SDataset(Dataset):\n",
        "  def __init__(self, be, y=None):\n",
        "    super(SDataset, self).__init__()\n",
        "    self.be = be\n",
        "    self.y = y\n",
        "\n",
        "  def __len__(self):\n",
        "    return len(self.be['input_ids'])\n",
        "\n",
        "  def __getitem__(self, idx):\n",
        "    ids = self.be['input_ids'][idx]\n",
        "    mask = self.be['attention_mask'][idx]\n",
        "    tids = self.be['token_type_ids'][idx]\n",
        "\n",
        "    y = torch.tensor(self.y[idx], dtype=torch.float) if self.y is not None else [-1]\n",
        "\n",
        "    x = { 'input_ids': torch.tensor(ids), 'attention_mask': torch.tensor(mask), 'token_type_ids': torch.tensor(tids) }\n",
        "\n",
        "    return x, y"
      ],
      "execution_count": null,
      "outputs": []
    },
    {
      "cell_type": "code",
      "metadata": {
        "id": "VAqegWsTNHpb",
        "colab_type": "code",
        "colab": {}
      },
      "source": [
        "class SModel(nn.Module):\n",
        "  def __init__(self, model_name, config, **kwargs):\n",
        "    super(SModel, self).__init__()\n",
        "\n",
        "    self.model = AutoModel.from_pretrained(model_name, config=config)\n",
        "    self.dropout = nn.Dropout(0.1)\n",
        "    self.classifier = nn.Linear(config.hidden_size, 4)\n",
        "\n",
        "    nn.init.xavier_normal_(self.classifier.weight)\n",
        "\n",
        "  def forward(self, input_ids, attention_mask=None, token_type_ids=None):\n",
        "    outputs = self.model(\n",
        "            input_ids,\n",
        "            token_type_ids=token_type_ids,\n",
        "            attention_mask=attention_mask,\n",
        "        )\n",
        "\n",
        "    sequence_output = outputs[0]\n",
        "    pooled_output = torch.mean(sequence_output, dim=1)\n",
        "    # pooled_output = outputs[1]\n",
        "\n",
        "    pooled_output = self.dropout(pooled_output)\n",
        "    logits = self.classifier(pooled_output)\n",
        "    logits = F.softmax(logits)\n",
        "\n",
        "    return logits"
      ],
      "execution_count": null,
      "outputs": []
    },
    {
      "cell_type": "code",
      "metadata": {
        "id": "B8cwdYKrnOwU",
        "colab_type": "code",
        "colab": {}
      },
      "source": [
        "from collections import Counter"
      ],
      "execution_count": null,
      "outputs": []
    },
    {
      "cell_type": "code",
      "metadata": {
        "id": "ZidLtSEqmpGu",
        "colab_type": "code",
        "colab": {}
      },
      "source": [
        "def balance_training(df):\n",
        "  threshold = 235\n",
        "\n",
        "  dep = df[df.label==0].copy()\n",
        "  alc = df[df.label==1].copy()\n",
        "  sui = df[df.label==2].copy()\n",
        "  dru = df[df.label==3].copy()\n",
        "\n",
        "  ndep = dep.sample(n=threshold, random_state=seed)\n",
        "\n",
        "  ndf = pd.concat([sui, dru, ndep, alc], axis=0)\n",
        "  ndf = ndf.sample(frac=1, random_state=seed).reset_index(drop=True)\n",
        "\n",
        "  print('Rebalance ', Counter(ndf.label.values))\n",
        "\n",
        "  return ndf.copy()"
      ],
      "execution_count": null,
      "outputs": []
    },
    {
      "cell_type": "code",
      "metadata": {
        "id": "g4cUJNNdOwJA",
        "colab_type": "code",
        "colab": {}
      },
      "source": [
        "def tokenize(corpus, tokenizer, max_length=50):\n",
        "  be = tokenizer.batch_encode_plus(corpus, max_length=max_length, pad_to_max_length=True, \n",
        "                              return_attention_masks=True, return_token_type_ids=True)\n",
        "  \n",
        "  return be"
      ],
      "execution_count": null,
      "outputs": []
    },
    {
      "cell_type": "code",
      "metadata": {
        "id": "J9VAs4WrTrPR",
        "colab_type": "code",
        "colab": {}
      },
      "source": [
        "def evaluation(ytrue, y_pred):\n",
        "  score = np.array([ \n",
        "    log_loss(ytrue.argmax(1), y_pred, labels=[0,1,2,3]),\n",
        "    f1_score(ytrue.argmax(1), y_pred.argmax(1), average='weighted'),\n",
        "  ])\n",
        "\n",
        "  return score"
      ],
      "execution_count": null,
      "outputs": []
    },
    {
      "cell_type": "code",
      "metadata": {
        "id": "pDLisMOCTO4d",
        "colab_type": "code",
        "colab": {}
      },
      "source": [
        "def loss_fct(y_pred, ytrue, num_labels=4):\n",
        "  # loss1 = nn.CrossEntropyLoss(weight=weights)(y_pred.view(-1, num_labels), ytrue.argmax(1).view(-1))\n",
        "  loss2 = nn.BCELoss()(y_pred, ytrue)\n",
        "\n",
        "  return loss2"
      ],
      "execution_count": null,
      "outputs": []
    },
    {
      "cell_type": "code",
      "metadata": {
        "id": "LP1WuIl35H8W",
        "colab_type": "code",
        "colab": {}
      },
      "source": [
        "# Counter(ytrain.argmax(1)).items()"
      ],
      "execution_count": null,
      "outputs": []
    },
    {
      "cell_type": "code",
      "metadata": {
        "id": "Lc6JaMbnDRlu",
        "colab_type": "code",
        "colab": {}
      },
      "source": [
        "def train_model(epoch, train_dl, model, opt, scheduler, criterion, device='cpu'):\n",
        "\n",
        "  model.train()\n",
        "  tr_loss = 0\n",
        "  score = np.zeros((2,))\n",
        "\n",
        "  for (x, y) in (train_dl):\n",
        "\n",
        "    x = {n:p.to(device) for n,p in x.items()}\n",
        "    y = y.to(device)\n",
        "\n",
        "    out = model(**x)\n",
        "\n",
        "    loss = criterion(out, y)\n",
        "    tr_loss += loss.item()\n",
        "    score += evaluation(y.detach().cpu().numpy(), out.detach().cpu().numpy())\n",
        "\n",
        "    loss.backward()\n",
        "    opt.step()\n",
        "    # scheduler.step()\n",
        "    model.zero_grad()\n",
        "\n",
        "  score = score / len(train_dl)\n",
        "  tr_loss = tr_loss/len(train_dl)\n",
        "  print(\"[Training] Epoch {} - Loss {:.3f} - logloss: {:.3f} - f1: {:.3f}\".format(epoch+1, tr_loss, *score))"
      ],
      "execution_count": null,
      "outputs": []
    },
    {
      "cell_type": "code",
      "metadata": {
        "id": "oOS724emD5BG",
        "colab_type": "code",
        "colab": {}
      },
      "source": [
        "def eval_model(epoch, val_dl, model, criterion, device='cpu'):\n",
        "\n",
        "  model.eval()\n",
        "  score = np.zeros((2,))\n",
        "  val_loss = 0\n",
        "\n",
        "  with torch.no_grad():\n",
        "    for (x, y) in  val_dl:\n",
        "      x = {n:p.to(device) for n,p in x.items()}\n",
        "      y = y.to(device)\n",
        "\n",
        "      out = model(**x)\n",
        "      # print(out)\n",
        "      loss = criterion(out, y)\n",
        "      val_loss += loss.item()\n",
        "\n",
        "      score += evaluation(y.detach().cpu().numpy(), out.detach().cpu().numpy())\n",
        "\n",
        "    score = score / len(val_dl)\n",
        "    val_loss = val_loss/len(val_dl)\n",
        "    print(\"[Eval] Epoch {} - Loss {:.3f} - logloss: {:.3f} - f1: {:.3f}\".format(epoch+1, val_loss, *score))\n",
        "\n",
        "  return score"
      ],
      "execution_count": null,
      "outputs": []
    },
    {
      "cell_type": "code",
      "metadata": {
        "id": "H9FzGnmvQQa-",
        "colab_type": "code",
        "colab": {}
      },
      "source": [
        "def make_prdiction(n_fold=10, device='cpu'):\n",
        "\n",
        "  test_ds = SDataset(be_test)\n",
        "  test_dl = DataLoader(test_ds, 16)\n",
        "\n",
        "  preds = []\n",
        "\n",
        "  for fold in tqdm(range(n_fold)):\n",
        "    model = SModel(model_name, config)\n",
        "    model.load_state_dict(torch.load(f'model_{fold}.bin'))\n",
        "    model.to(device)\n",
        "    model.eval()\n",
        "\n",
        "    fold_preds = []\n",
        "\n",
        "    for (x, y) in test_dl:\n",
        "      x = {n:p.to(device) for n,p in x.items()}\n",
        "\n",
        "      out = model(**x)\n",
        "\n",
        "      fold_preds += (out.detach().cpu().numpy()/n_fold).tolist()\n",
        "\n",
        "    preds.append(fold_preds)\n",
        "\n",
        "  return np.sum(preds, axis=0)\n"
      ],
      "execution_count": null,
      "outputs": []
    },
    {
      "cell_type": "code",
      "metadata": {
        "id": "uUA7uCRXSlh_",
        "colab_type": "code",
        "colab": {}
      },
      "source": [
        "def run_fold(n_fold=10, epochs=10, device='cpu'):\n",
        "  # fold = KFold(n_fold, random_state=seed)\n",
        "  fold = StratifiedKFold(n_fold, random_state=seed)\n",
        "  cv_score = 0\n",
        "\n",
        "  for i, (tr, vr) in enumerate(fold.split(xtrain, ytrain.argmax(1))):\n",
        "    print(\"Fold \", i)\n",
        "    best_eval = np.inf\n",
        "    best_f1 = -np.inf\n",
        "\n",
        "    #df_train = balance_training(train.loc[tr])\n",
        "    df_train = train.loc[tr]\n",
        "    nytrain = df_train[['Depression', 'Alcohol', 'Suicide', 'Drugs']].values\n",
        "\n",
        "    X_tra, X_val, y_tra, y_val = df_train.text.values, xtrain[vr], nytrain, ytrain[vr]\n",
        "    # X_tra, X_val, y_tra, y_val = xtrain[tr], xtrain[vr], ytrain[tr], ytrain[vr]\n",
        "\n",
        "\n",
        "    be_tra = tokenize(X_tra, tokenizer)\n",
        "    be_val = tokenize(X_val, tokenizer)\n",
        "\n",
        "    train_ds = SDataset(be_tra, y_tra)\n",
        "    val_ds = SDataset(be_val, y_val)\n",
        "\n",
        "    train_dl = DataLoader(train_ds, 16)\n",
        "    val_dl = DataLoader(val_ds, 16)\n",
        "\n",
        "    model = SModel(model_name, config)\n",
        "    criterion = nn.BCELoss()\n",
        "\n",
        "    t_total = len(train_dl) // epochs\n",
        "\n",
        "    no_decay = [\"bias\", \"LayerNorm.weight\"]\n",
        "    optimizer_grouped_parameters = [\n",
        "        {\n",
        "            \"params\": [p for n, p in model.named_parameters() if not any(nd in n for nd in no_decay)],\n",
        "            \"weight_decay\": 0.01,\n",
        "        },\n",
        "        {\n",
        "            \"params\": [p for n, p in model.named_parameters() if any(nd in n for nd in no_decay)],\n",
        "            \"weight_decay\": 0.0,\n",
        "        },\n",
        "    ]\n",
        "    opt = AdamW(optimizer_grouped_parameters, lr=3e-5)\n",
        "    scheduler = get_linear_schedule_with_warmup(\n",
        "            opt, num_warmup_steps=0, num_training_steps=t_total\n",
        "        )\n",
        "\n",
        "    model.to(device)\n",
        "    model.zero_grad()\n",
        "\n",
        "    for epoch in range(epochs):\n",
        "      train_model(epoch, train_dl, model, opt, scheduler, criterion, device)\n",
        "      score = eval_model(epoch, val_dl, model, criterion, device)\n",
        "      \n",
        "      if score[0] < best_eval:\n",
        "        best_f1 = score[-1]\n",
        "        best_eval = score[0]\n",
        "        torch.save(model.state_dict(), f'model_{i}.bin')\n",
        "      print()\n",
        "\n",
        "    cv_score += best_eval\n",
        "  return cv_score / n_fold"
      ],
      "execution_count": null,
      "outputs": []
    },
    {
      "cell_type": "markdown",
      "metadata": {
        "id": "8yWBHsRJOw11",
        "colab_type": "text"
      },
      "source": [
        "#Tokenization"
      ]
    },
    {
      "cell_type": "code",
      "metadata": {
        "id": "LpCdnWnrO8p-",
        "colab_type": "code",
        "colab": {}
      },
      "source": [
        "model_name = 'roberta-base'"
      ],
      "execution_count": null,
      "outputs": []
    },
    {
      "cell_type": "code",
      "metadata": {
        "id": "RVYqlZxPO3Nh",
        "colab_type": "code",
        "colab": {
          "base_uri": "https://localhost:8080/",
          "height": 164,
          "referenced_widgets": [
            "0d192ee4be004e088424848c14f40cae",
            "9bc6c4d49cb04c6dbcb1fd16d2b5f85b",
            "481e270f083f48318c9db9dbd0f3f3c1",
            "1099297150e14fbab7a911176c727f9f",
            "0f8baa7365c74fc4800cf4b28d85059f",
            "dea93815899d480ca7d5bf56d5452204",
            "1813b172ad9d41b9850e36db4843fbcf",
            "6a718d6bf4124b8fbfb32ac8c1e24436",
            "74c97b996b6e40ddae8007b4236381c6",
            "eff24cdcbaef47c9ae50ae49b2421b03",
            "b9edfc55313d4ec5a3f2fb0fdd10350a",
            "0e441068050846eaa4205c65519038d2",
            "91908afa873e4a9dbc18a55259d561e6",
            "a48708d82cfc497f83ac57c9071ae418",
            "f751eb02d0184fcbb71d602a2ac5242e",
            "46685502c2a34542bfdd46dbd341ac57",
            "a1ef481d87ce43aba0dd2a595bb39cf9",
            "5776dc9cde2f465f976a798cd2289e7d",
            "1274fcf62adc4b84976d2228232eed55",
            "85a6f90c8770489d822122ece7bc4cd4",
            "93680c144e164264b0ee6a6868644a52",
            "5ec54a198479489f8c1e95b415495ff8",
            "4ed7320faca5439f987362ced915f6ca",
            "519573c8337548df93ba5e9bdf764d50"
          ]
        },
        "outputId": "19120e55-6e01-495a-eab6-4e11f16d6dad"
      },
      "source": [
        "config = AutoConfig.from_pretrained(model_name)\n",
        "tokenizer = AutoTokenizer.from_pretrained(model_name)"
      ],
      "execution_count": null,
      "outputs": [
        {
          "output_type": "display_data",
          "data": {
            "application/vnd.jupyter.widget-view+json": {
              "model_id": "0d192ee4be004e088424848c14f40cae",
              "version_minor": 0,
              "version_major": 2
            },
            "text/plain": [
              "HBox(children=(FloatProgress(value=0.0, description='Downloading', max=481.0, style=ProgressStyle(description_…"
            ]
          },
          "metadata": {
            "tags": []
          }
        },
        {
          "output_type": "stream",
          "text": [
            "\n"
          ],
          "name": "stdout"
        },
        {
          "output_type": "display_data",
          "data": {
            "application/vnd.jupyter.widget-view+json": {
              "model_id": "74c97b996b6e40ddae8007b4236381c6",
              "version_minor": 0,
              "version_major": 2
            },
            "text/plain": [
              "HBox(children=(FloatProgress(value=0.0, description='Downloading', max=898823.0, style=ProgressStyle(descripti…"
            ]
          },
          "metadata": {
            "tags": []
          }
        },
        {
          "output_type": "stream",
          "text": [
            "\n"
          ],
          "name": "stdout"
        },
        {
          "output_type": "display_data",
          "data": {
            "application/vnd.jupyter.widget-view+json": {
              "model_id": "a1ef481d87ce43aba0dd2a595bb39cf9",
              "version_minor": 0,
              "version_major": 2
            },
            "text/plain": [
              "HBox(children=(FloatProgress(value=0.0, description='Downloading', max=456318.0, style=ProgressStyle(descripti…"
            ]
          },
          "metadata": {
            "tags": []
          }
        },
        {
          "output_type": "stream",
          "text": [
            "\n"
          ],
          "name": "stdout"
        }
      ]
    },
    {
      "cell_type": "code",
      "metadata": {
        "id": "-un0MK-_Pk2T",
        "colab_type": "code",
        "colab": {}
      },
      "source": [
        "xtrain = train.text.values\n",
        "xtest = test.text.values"
      ],
      "execution_count": null,
      "outputs": []
    },
    {
      "cell_type": "code",
      "metadata": {
        "id": "GG149kHORC4j",
        "colab_type": "code",
        "colab": {}
      },
      "source": [
        "ytrain = train[['Depression', 'Alcohol', 'Suicide', 'Drugs']].values"
      ],
      "execution_count": null,
      "outputs": []
    },
    {
      "cell_type": "code",
      "metadata": {
        "id": "kJ0vvG1VQexa",
        "colab_type": "code",
        "colab": {}
      },
      "source": [
        "be_train = tokenize(xtrain, tokenizer)\n",
        "be_test = tokenize(xtest, tokenizer)"
      ],
      "execution_count": null,
      "outputs": []
    },
    {
      "cell_type": "markdown",
      "metadata": {
        "id": "4edZdzRZXIbB",
        "colab_type": "text"
      },
      "source": [
        "##Training"
      ]
    },
    {
      "cell_type": "code",
      "metadata": {
        "id": "r5cxeBtw3Ux-",
        "colab_type": "code",
        "colab": {}
      },
      "source": [
        "# !rm -r *.bin"
      ],
      "execution_count": null,
      "outputs": []
    },
    {
      "cell_type": "code",
      "metadata": {
        "id": "16xyRKGzRCBw",
        "colab_type": "code",
        "colab": {}
      },
      "source": [
        "cv_score = run_fold(device='cuda')\n",
        "print(\"Avg Logloss : \", cv_score)"
      ],
      "execution_count": null,
      "outputs": []
    },
    {
      "cell_type": "markdown",
      "metadata": {
        "id": "-h6WFzoBTwh1",
        "colab_type": "text"
      },
      "source": [
        "##Prediction"
      ]
    },
    {
      "cell_type": "code",
      "metadata": {
        "id": "SXeDu0deTyat",
        "colab_type": "code",
        "colab": {}
      },
      "source": [
        "raw_outputs = make_prdiction(device='cuda')"
      ],
      "execution_count": null,
      "outputs": []
    },
    {
      "cell_type": "markdown",
      "metadata": {
        "id": "N2uBSjeRmA5o",
        "colab_type": "text"
      },
      "source": [
        "#Submission"
      ]
    },
    {
      "cell_type": "code",
      "metadata": {
        "id": "Tadla87p5yJn",
        "colab_type": "code",
        "colab": {}
      },
      "source": [
        "path = './../submissions/'"
      ],
      "execution_count": null,
      "outputs": []
    },
    {
      "cell_type": "code",
      "metadata": {
        "id": "WfB6AfctlzVe",
        "colab_type": "code",
        "colab": {}
      },
      "source": [
        "sample[[\"Depression\",\"Alcohol\",\"Suicide\",\"Drugs\"]] = raw_outputs\n",
        "sample.to_csv(path + 'roberta-base_translated.csv', index=False)"
      ],
      "execution_count": null,
      "outputs": []
    },
    {
      "cell_type": "code",
      "metadata": {
        "id": "HxxWG57TmQ2m",
        "colab_type": "code",
        "colab": {}
      },
      "source": [
        "sample.head()"
      ],
      "execution_count": null,
      "outputs": []
    },
    {
      "cell_type": "code",
      "metadata": {
        "id": "VokQMXsLmTvC",
        "colab_type": "code",
        "colab": {}
      },
      "source": [
        "sample.describe()"
      ],
      "execution_count": null,
      "outputs": []
    },
    {
      "cell_type": "code",
      "metadata": {
        "id": "gk6ezpnumnn_",
        "colab_type": "code",
        "colab": {}
      },
      "source": [
        "sample[[\"Depression\",\"Alcohol\",\"Suicide\",\"Drugs\"]].apply(np.argmax, axis=1).value_counts()"
      ],
      "execution_count": null,
      "outputs": []
    }
  ]
}