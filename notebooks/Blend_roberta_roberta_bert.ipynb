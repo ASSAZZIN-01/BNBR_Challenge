{
  "nbformat": 4,
  "nbformat_minor": 0,
  "metadata": {
    "colab": {
      "name": "Blend_roberta_roberta_bert.ipynb",
      "provenance": [],
      "collapsed_sections": []
    },
    "kernelspec": {
      "name": "python3",
      "display_name": "Python 3"
    }
  },
  "cells": [
    {
      "cell_type": "code",
      "metadata": {
        "id": "pOqO0atNqthi",
        "colab_type": "code",
        "colab": {}
      },
      "source": [
        "import pandas as pd \n",
        "import numpy as np"
      ],
      "execution_count": 2,
      "outputs": []
    },
    {
      "cell_type": "code",
      "metadata": {
        "id": "l4XvdUiWqyH1",
        "colab_type": "code",
        "colab": {}
      },
      "source": [
        "sub_translated = pd.read_csv('/content/roberta-base_10_folds_epochs_10_0.4510475897959467.csv')\n",
        "\n",
        "sub_bert_032 =pd.read_csv('/content/1_bert-base-uncased__config_JIZG5OcGgi_0.36311_0.35718.csv')\n",
        "\n",
        "sub_roberta_028 = pd.read_csv('/content/roberta 0.28 score.csv')"
      ],
      "execution_count": 3,
      "outputs": []
    },
    {
      "cell_type": "markdown",
      "metadata": {
        "id": "w6uVM1D0PB_a",
        "colab_type": "text"
      },
      "source": [
        "# **Visualization**"
      ]
    },
    {
      "cell_type": "code",
      "metadata": {
        "id": "AO5N3bHTP-AS",
        "colab_type": "code",
        "colab": {
          "base_uri": "https://localhost:8080/",
          "height": 102
        },
        "outputId": "bbf22681-b02b-4405-b761-10e413bd1a6f"
      },
      "source": [
        "sub_roberta_028[[\"Depression\",\"Alcohol\",\"Suicide\",\"Drugs\"]].apply(np.argmax, axis=1).value_counts()"
      ],
      "execution_count": 4,
      "outputs": [
        {
          "output_type": "execute_result",
          "data": {
            "text/plain": [
              "0    171\n",
              "1     64\n",
              "2     48\n",
              "3     26\n",
              "dtype: int64"
            ]
          },
          "metadata": {
            "tags": []
          },
          "execution_count": 4
        }
      ]
    },
    {
      "cell_type": "code",
      "metadata": {
        "id": "PrA-ADmmWL9J",
        "colab_type": "code",
        "colab": {
          "base_uri": "https://localhost:8080/",
          "height": 102
        },
        "outputId": "7f8965e9-ef77-47aa-b9ca-6ec6ba8e441b"
      },
      "source": [
        "#after improvement\n",
        "sub_bert_032[[\"Depression\",\"Alcohol\",\"Suicide\",\"Drugs\"]].apply(np.argmax, axis=1).value_counts()"
      ],
      "execution_count": 5,
      "outputs": [
        {
          "output_type": "execute_result",
          "data": {
            "text/plain": [
              "0    176\n",
              "1     64\n",
              "2     44\n",
              "3     25\n",
              "dtype: int64"
            ]
          },
          "metadata": {
            "tags": []
          },
          "execution_count": 5
        }
      ]
    },
    {
      "cell_type": "code",
      "metadata": {
        "id": "cl1t6ZUFvGU-",
        "colab_type": "code",
        "colab": {
          "base_uri": "https://localhost:8080/",
          "height": 297
        },
        "outputId": "8a16e142-10c5-4a99-a578-31fd53d18d7c"
      },
      "source": [
        "sub_roberta_028.describe()"
      ],
      "execution_count": 6,
      "outputs": [
        {
          "output_type": "execute_result",
          "data": {
            "text/html": [
              "<div>\n",
              "<style scoped>\n",
              "    .dataframe tbody tr th:only-of-type {\n",
              "        vertical-align: middle;\n",
              "    }\n",
              "\n",
              "    .dataframe tbody tr th {\n",
              "        vertical-align: top;\n",
              "    }\n",
              "\n",
              "    .dataframe thead th {\n",
              "        text-align: right;\n",
              "    }\n",
              "</style>\n",
              "<table border=\"1\" class=\"dataframe\">\n",
              "  <thead>\n",
              "    <tr style=\"text-align: right;\">\n",
              "      <th></th>\n",
              "      <th>Depression</th>\n",
              "      <th>Alcohol</th>\n",
              "      <th>Suicide</th>\n",
              "      <th>Drugs</th>\n",
              "    </tr>\n",
              "  </thead>\n",
              "  <tbody>\n",
              "    <tr>\n",
              "      <th>count</th>\n",
              "      <td>309.000000</td>\n",
              "      <td>309.000000</td>\n",
              "      <td>309.000000</td>\n",
              "      <td>309.000000</td>\n",
              "    </tr>\n",
              "    <tr>\n",
              "      <th>mean</th>\n",
              "      <td>0.544079</td>\n",
              "      <td>0.215507</td>\n",
              "      <td>0.146051</td>\n",
              "      <td>0.094363</td>\n",
              "    </tr>\n",
              "    <tr>\n",
              "      <th>std</th>\n",
              "      <td>0.446554</td>\n",
              "      <td>0.368990</td>\n",
              "      <td>0.258686</td>\n",
              "      <td>0.233527</td>\n",
              "    </tr>\n",
              "    <tr>\n",
              "      <th>min</th>\n",
              "      <td>0.004002</td>\n",
              "      <td>0.001548</td>\n",
              "      <td>0.004506</td>\n",
              "      <td>0.001207</td>\n",
              "    </tr>\n",
              "    <tr>\n",
              "      <th>25%</th>\n",
              "      <td>0.009855</td>\n",
              "      <td>0.001800</td>\n",
              "      <td>0.005514</td>\n",
              "      <td>0.001420</td>\n",
              "    </tr>\n",
              "    <tr>\n",
              "      <th>50%</th>\n",
              "      <td>0.765412</td>\n",
              "      <td>0.016647</td>\n",
              "      <td>0.008498</td>\n",
              "      <td>0.012684</td>\n",
              "    </tr>\n",
              "    <tr>\n",
              "      <th>75%</th>\n",
              "      <td>0.990440</td>\n",
              "      <td>0.122572</td>\n",
              "      <td>0.124758</td>\n",
              "      <td>0.035496</td>\n",
              "    </tr>\n",
              "    <tr>\n",
              "      <th>max</th>\n",
              "      <td>0.992491</td>\n",
              "      <td>0.967638</td>\n",
              "      <td>0.903291</td>\n",
              "      <td>0.898146</td>\n",
              "    </tr>\n",
              "  </tbody>\n",
              "</table>\n",
              "</div>"
            ],
            "text/plain": [
              "       Depression     Alcohol     Suicide       Drugs\n",
              "count  309.000000  309.000000  309.000000  309.000000\n",
              "mean     0.544079    0.215507    0.146051    0.094363\n",
              "std      0.446554    0.368990    0.258686    0.233527\n",
              "min      0.004002    0.001548    0.004506    0.001207\n",
              "25%      0.009855    0.001800    0.005514    0.001420\n",
              "50%      0.765412    0.016647    0.008498    0.012684\n",
              "75%      0.990440    0.122572    0.124758    0.035496\n",
              "max      0.992491    0.967638    0.903291    0.898146"
            ]
          },
          "metadata": {
            "tags": []
          },
          "execution_count": 6
        }
      ]
    },
    {
      "cell_type": "code",
      "metadata": {
        "id": "p3ODZt4yvMvm",
        "colab_type": "code",
        "colab": {
          "base_uri": "https://localhost:8080/",
          "height": 297
        },
        "outputId": "f0db045e-2822-47e9-e772-5ddf470a62b3"
      },
      "source": [
        "sub_bert_032.describe()"
      ],
      "execution_count": 7,
      "outputs": [
        {
          "output_type": "execute_result",
          "data": {
            "text/html": [
              "<div>\n",
              "<style scoped>\n",
              "    .dataframe tbody tr th:only-of-type {\n",
              "        vertical-align: middle;\n",
              "    }\n",
              "\n",
              "    .dataframe tbody tr th {\n",
              "        vertical-align: top;\n",
              "    }\n",
              "\n",
              "    .dataframe thead th {\n",
              "        text-align: right;\n",
              "    }\n",
              "</style>\n",
              "<table border=\"1\" class=\"dataframe\">\n",
              "  <thead>\n",
              "    <tr style=\"text-align: right;\">\n",
              "      <th></th>\n",
              "      <th>Depression</th>\n",
              "      <th>Alcohol</th>\n",
              "      <th>Suicide</th>\n",
              "      <th>Drugs</th>\n",
              "    </tr>\n",
              "  </thead>\n",
              "  <tbody>\n",
              "    <tr>\n",
              "      <th>count</th>\n",
              "      <td>309.000000</td>\n",
              "      <td>309.000000</td>\n",
              "      <td>309.000000</td>\n",
              "      <td>309.000000</td>\n",
              "    </tr>\n",
              "    <tr>\n",
              "      <th>mean</th>\n",
              "      <td>0.554633</td>\n",
              "      <td>0.215247</td>\n",
              "      <td>0.137561</td>\n",
              "      <td>0.092558</td>\n",
              "    </tr>\n",
              "    <tr>\n",
              "      <th>std</th>\n",
              "      <td>0.445833</td>\n",
              "      <td>0.373768</td>\n",
              "      <td>0.259679</td>\n",
              "      <td>0.240964</td>\n",
              "    </tr>\n",
              "    <tr>\n",
              "      <th>min</th>\n",
              "      <td>0.003956</td>\n",
              "      <td>0.001534</td>\n",
              "      <td>0.004576</td>\n",
              "      <td>0.001772</td>\n",
              "    </tr>\n",
              "    <tr>\n",
              "      <th>25%</th>\n",
              "      <td>0.012706</td>\n",
              "      <td>0.001991</td>\n",
              "      <td>0.006455</td>\n",
              "      <td>0.002265</td>\n",
              "    </tr>\n",
              "    <tr>\n",
              "      <th>50%</th>\n",
              "      <td>0.789282</td>\n",
              "      <td>0.023294</td>\n",
              "      <td>0.010033</td>\n",
              "      <td>0.013644</td>\n",
              "    </tr>\n",
              "    <tr>\n",
              "      <th>75%</th>\n",
              "      <td>0.988923</td>\n",
              "      <td>0.108046</td>\n",
              "      <td>0.079445</td>\n",
              "      <td>0.030495</td>\n",
              "    </tr>\n",
              "    <tr>\n",
              "      <th>max</th>\n",
              "      <td>0.991854</td>\n",
              "      <td>0.974116</td>\n",
              "      <td>0.915662</td>\n",
              "      <td>0.934257</td>\n",
              "    </tr>\n",
              "  </tbody>\n",
              "</table>\n",
              "</div>"
            ],
            "text/plain": [
              "       Depression     Alcohol     Suicide       Drugs\n",
              "count  309.000000  309.000000  309.000000  309.000000\n",
              "mean     0.554633    0.215247    0.137561    0.092558\n",
              "std      0.445833    0.373768    0.259679    0.240964\n",
              "min      0.003956    0.001534    0.004576    0.001772\n",
              "25%      0.012706    0.001991    0.006455    0.002265\n",
              "50%      0.789282    0.023294    0.010033    0.013644\n",
              "75%      0.988923    0.108046    0.079445    0.030495\n",
              "max      0.991854    0.974116    0.915662    0.934257"
            ]
          },
          "metadata": {
            "tags": []
          },
          "execution_count": 7
        }
      ]
    },
    {
      "cell_type": "markdown",
      "metadata": {
        "id": "ERWXgKgyPLkp",
        "colab_type": "text"
      },
      "source": [
        "# **Fistly we will blend roberta 0.2812 and bert 0.3208**"
      ]
    },
    {
      "cell_type": "code",
      "metadata": {
        "id": "ozZIxXtdrpz0",
        "colab_type": "code",
        "colab": {}
      },
      "source": [
        "first = sub_roberta_028.copy()\n",
        "\n",
        "first.iloc[:,1:] =  sub_roberta_028.iloc[:,1:]*0.75 + sub_bert_032.iloc[:,1:]*0.25\n"
      ],
      "execution_count": 8,
      "outputs": []
    },
    {
      "cell_type": "markdown",
      "metadata": {
        "id": "3xlvesK0PXoZ",
        "colab_type": "text"
      },
      "source": [
        "# **Visualize our  first blend**"
      ]
    },
    {
      "cell_type": "code",
      "metadata": {
        "id": "Q1_P-Ytfse4L",
        "colab_type": "code",
        "colab": {
          "base_uri": "https://localhost:8080/",
          "height": 102
        },
        "outputId": "daa85f86-d771-47b5-ff63-2360b52d370c"
      },
      "source": [
        "first[[\"Depression\",\"Alcohol\",\"Suicide\",\"Drugs\"]].apply(np.argmax, axis=1).value_counts()"
      ],
      "execution_count": 11,
      "outputs": [
        {
          "output_type": "execute_result",
          "data": {
            "text/plain": [
              "0    172\n",
              "1     64\n",
              "2     47\n",
              "3     26\n",
              "dtype: int64"
            ]
          },
          "metadata": {
            "tags": []
          },
          "execution_count": 11
        }
      ]
    },
    {
      "cell_type": "code",
      "metadata": {
        "id": "lIfIu5JqMszo",
        "colab_type": "code",
        "colab": {
          "base_uri": "https://localhost:8080/",
          "height": 297
        },
        "outputId": "89538b7b-33af-4804-d05d-46890e21c823"
      },
      "source": [
        "\n",
        "first.describe()"
      ],
      "execution_count": 12,
      "outputs": [
        {
          "output_type": "execute_result",
          "data": {
            "text/html": [
              "<div>\n",
              "<style scoped>\n",
              "    .dataframe tbody tr th:only-of-type {\n",
              "        vertical-align: middle;\n",
              "    }\n",
              "\n",
              "    .dataframe tbody tr th {\n",
              "        vertical-align: top;\n",
              "    }\n",
              "\n",
              "    .dataframe thead th {\n",
              "        text-align: right;\n",
              "    }\n",
              "</style>\n",
              "<table border=\"1\" class=\"dataframe\">\n",
              "  <thead>\n",
              "    <tr style=\"text-align: right;\">\n",
              "      <th></th>\n",
              "      <th>Depression</th>\n",
              "      <th>Alcohol</th>\n",
              "      <th>Suicide</th>\n",
              "      <th>Drugs</th>\n",
              "    </tr>\n",
              "  </thead>\n",
              "  <tbody>\n",
              "    <tr>\n",
              "      <th>count</th>\n",
              "      <td>309.000000</td>\n",
              "      <td>309.000000</td>\n",
              "      <td>309.000000</td>\n",
              "      <td>309.000000</td>\n",
              "    </tr>\n",
              "    <tr>\n",
              "      <th>mean</th>\n",
              "      <td>0.546717</td>\n",
              "      <td>0.215442</td>\n",
              "      <td>0.143929</td>\n",
              "      <td>0.093912</td>\n",
              "    </tr>\n",
              "    <tr>\n",
              "      <th>std</th>\n",
              "      <td>0.444534</td>\n",
              "      <td>0.369730</td>\n",
              "      <td>0.256827</td>\n",
              "      <td>0.234806</td>\n",
              "    </tr>\n",
              "    <tr>\n",
              "      <th>min</th>\n",
              "      <td>0.004025</td>\n",
              "      <td>0.001576</td>\n",
              "      <td>0.004613</td>\n",
              "      <td>0.001348</td>\n",
              "    </tr>\n",
              "    <tr>\n",
              "      <th>25%</th>\n",
              "      <td>0.010703</td>\n",
              "      <td>0.001861</td>\n",
              "      <td>0.005849</td>\n",
              "      <td>0.001642</td>\n",
              "    </tr>\n",
              "    <tr>\n",
              "      <th>50%</th>\n",
              "      <td>0.739029</td>\n",
              "      <td>0.020936</td>\n",
              "      <td>0.009013</td>\n",
              "      <td>0.016155</td>\n",
              "    </tr>\n",
              "    <tr>\n",
              "      <th>75%</th>\n",
              "      <td>0.989941</td>\n",
              "      <td>0.130436</td>\n",
              "      <td>0.118032</td>\n",
              "      <td>0.038778</td>\n",
              "    </tr>\n",
              "    <tr>\n",
              "      <th>max</th>\n",
              "      <td>0.992274</td>\n",
              "      <td>0.969119</td>\n",
              "      <td>0.903459</td>\n",
              "      <td>0.905501</td>\n",
              "    </tr>\n",
              "  </tbody>\n",
              "</table>\n",
              "</div>"
            ],
            "text/plain": [
              "       Depression     Alcohol     Suicide       Drugs\n",
              "count  309.000000  309.000000  309.000000  309.000000\n",
              "mean     0.546717    0.215442    0.143929    0.093912\n",
              "std      0.444534    0.369730    0.256827    0.234806\n",
              "min      0.004025    0.001576    0.004613    0.001348\n",
              "25%      0.010703    0.001861    0.005849    0.001642\n",
              "50%      0.739029    0.020936    0.009013    0.016155\n",
              "75%      0.989941    0.130436    0.118032    0.038778\n",
              "max      0.992274    0.969119    0.903459    0.905501"
            ]
          },
          "metadata": {
            "tags": []
          },
          "execution_count": 12
        }
      ]
    },
    {
      "cell_type": "code",
      "metadata": {
        "id": "KwxvBhV1WIc7",
        "colab_type": "code",
        "colab": {
          "base_uri": "https://localhost:8080/",
          "height": 102
        },
        "outputId": "4e008df4-39fa-4691-da5c-999eb5714115"
      },
      "source": [
        "sub_translated[[\"Depression\",\"Alcohol\",\"Suicide\",\"Drugs\"]].apply(np.argmax, axis=1).value_counts()"
      ],
      "execution_count": 15,
      "outputs": [
        {
          "output_type": "execute_result",
          "data": {
            "text/plain": [
              "0    159\n",
              "1     69\n",
              "2     52\n",
              "3     29\n",
              "dtype: int64"
            ]
          },
          "metadata": {
            "tags": []
          },
          "execution_count": 15
        }
      ]
    },
    {
      "cell_type": "code",
      "metadata": {
        "id": "GIQSIuxyMvLm",
        "colab_type": "code",
        "colab": {
          "base_uri": "https://localhost:8080/",
          "height": 297
        },
        "outputId": "8e7dc7fd-ae5d-4773-8f38-e0740781acfd"
      },
      "source": [
        "sub_translated.describe()"
      ],
      "execution_count": 16,
      "outputs": [
        {
          "output_type": "execute_result",
          "data": {
            "text/html": [
              "<div>\n",
              "<style scoped>\n",
              "    .dataframe tbody tr th:only-of-type {\n",
              "        vertical-align: middle;\n",
              "    }\n",
              "\n",
              "    .dataframe tbody tr th {\n",
              "        vertical-align: top;\n",
              "    }\n",
              "\n",
              "    .dataframe thead th {\n",
              "        text-align: right;\n",
              "    }\n",
              "</style>\n",
              "<table border=\"1\" class=\"dataframe\">\n",
              "  <thead>\n",
              "    <tr style=\"text-align: right;\">\n",
              "      <th></th>\n",
              "      <th>Depression</th>\n",
              "      <th>Alcohol</th>\n",
              "      <th>Suicide</th>\n",
              "      <th>Drugs</th>\n",
              "    </tr>\n",
              "  </thead>\n",
              "  <tbody>\n",
              "    <tr>\n",
              "      <th>count</th>\n",
              "      <td>309.000000</td>\n",
              "      <td>309.000000</td>\n",
              "      <td>309.000000</td>\n",
              "      <td>309.000000</td>\n",
              "    </tr>\n",
              "    <tr>\n",
              "      <th>mean</th>\n",
              "      <td>0.485159</td>\n",
              "      <td>0.249667</td>\n",
              "      <td>0.157820</td>\n",
              "      <td>0.107354</td>\n",
              "    </tr>\n",
              "    <tr>\n",
              "      <th>std</th>\n",
              "      <td>0.427474</td>\n",
              "      <td>0.381849</td>\n",
              "      <td>0.252933</td>\n",
              "      <td>0.255593</td>\n",
              "    </tr>\n",
              "    <tr>\n",
              "      <th>min</th>\n",
              "      <td>0.000010</td>\n",
              "      <td>0.000030</td>\n",
              "      <td>0.000029</td>\n",
              "      <td>0.000013</td>\n",
              "    </tr>\n",
              "    <tr>\n",
              "      <th>25%</th>\n",
              "      <td>0.004559</td>\n",
              "      <td>0.002939</td>\n",
              "      <td>0.001658</td>\n",
              "      <td>0.000377</td>\n",
              "    </tr>\n",
              "    <tr>\n",
              "      <th>50%</th>\n",
              "      <td>0.432453</td>\n",
              "      <td>0.032288</td>\n",
              "      <td>0.015074</td>\n",
              "      <td>0.004082</td>\n",
              "    </tr>\n",
              "    <tr>\n",
              "      <th>75%</th>\n",
              "      <td>0.975650</td>\n",
              "      <td>0.262701</td>\n",
              "      <td>0.231597</td>\n",
              "      <td>0.053219</td>\n",
              "    </tr>\n",
              "    <tr>\n",
              "      <th>max</th>\n",
              "      <td>0.999544</td>\n",
              "      <td>0.999816</td>\n",
              "      <td>0.988648</td>\n",
              "      <td>0.994292</td>\n",
              "    </tr>\n",
              "  </tbody>\n",
              "</table>\n",
              "</div>"
            ],
            "text/plain": [
              "       Depression     Alcohol     Suicide       Drugs\n",
              "count  309.000000  309.000000  309.000000  309.000000\n",
              "mean     0.485159    0.249667    0.157820    0.107354\n",
              "std      0.427474    0.381849    0.252933    0.255593\n",
              "min      0.000010    0.000030    0.000029    0.000013\n",
              "25%      0.004559    0.002939    0.001658    0.000377\n",
              "50%      0.432453    0.032288    0.015074    0.004082\n",
              "75%      0.975650    0.262701    0.231597    0.053219\n",
              "max      0.999544    0.999816    0.988648    0.994292"
            ]
          },
          "metadata": {
            "tags": []
          },
          "execution_count": 16
        }
      ]
    },
    {
      "cell_type": "code",
      "metadata": {
        "id": "nUZI7ZzesyiL",
        "colab_type": "code",
        "colab": {}
      },
      "source": [
        "second = first.copy()\n",
        "\n",
        "\n",
        "second.iloc[:,1:] =  first.iloc[:,1:]*0.6 + sub_translated.iloc[:,1:]*0.4"
      ],
      "execution_count": 17,
      "outputs": []
    },
    {
      "cell_type": "code",
      "metadata": {
        "id": "BMQ3ZkSDtuXR",
        "colab_type": "code",
        "colab": {}
      },
      "source": [
        "second.to_csv('a_probs.csv',index=False)"
      ],
      "execution_count": 19,
      "outputs": []
    }
  ]
}