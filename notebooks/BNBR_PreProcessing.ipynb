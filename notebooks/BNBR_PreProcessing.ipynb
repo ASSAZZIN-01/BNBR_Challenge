{
  "nbformat": 4,
  "nbformat_minor": 0,
  "metadata": {
    "colab": {
      "name": "BNBR_PreProcessing.ipynb",
      "provenance": [],
      "collapsed_sections": [
        "gvVGuWT8S9cK"
      ],
      "toc_visible": true
    },
    "kernelspec": {
      "name": "python3",
      "display_name": "Python 3"
    },
    "widgets": {
      "application/vnd.jupyter.widget-state+json": {
        "271c0dae09984cb78f109826a292eb1b": {
          "model_module": "@jupyter-widgets/controls",
          "model_name": "HBoxModel",
          "state": {
            "_view_name": "HBoxView",
            "_dom_classes": [],
            "_model_name": "HBoxModel",
            "_view_module": "@jupyter-widgets/controls",
            "_model_module_version": "1.5.0",
            "_view_count": null,
            "_view_module_version": "1.5.0",
            "box_style": "",
            "layout": "IPY_MODEL_f5b4c5ce57ee4bf7995821d4f9d6fb41",
            "_model_module": "@jupyter-widgets/controls",
            "children": [
              "IPY_MODEL_b7ee5ed9a72e4665a9f9826e78133fcc",
              "IPY_MODEL_1bc7d85265f048ccbbfe8cabffd3905d"
            ]
          }
        },
        "f5b4c5ce57ee4bf7995821d4f9d6fb41": {
          "model_module": "@jupyter-widgets/base",
          "model_name": "LayoutModel",
          "state": {
            "_view_name": "LayoutView",
            "grid_template_rows": null,
            "right": null,
            "justify_content": null,
            "_view_module": "@jupyter-widgets/base",
            "overflow": null,
            "_model_module_version": "1.2.0",
            "_view_count": null,
            "flex_flow": null,
            "width": null,
            "min_width": null,
            "border": null,
            "align_items": null,
            "bottom": null,
            "_model_module": "@jupyter-widgets/base",
            "top": null,
            "grid_column": null,
            "overflow_y": null,
            "overflow_x": null,
            "grid_auto_flow": null,
            "grid_area": null,
            "grid_template_columns": null,
            "flex": null,
            "_model_name": "LayoutModel",
            "justify_items": null,
            "grid_row": null,
            "max_height": null,
            "align_content": null,
            "visibility": null,
            "align_self": null,
            "height": null,
            "min_height": null,
            "padding": null,
            "grid_auto_rows": null,
            "grid_gap": null,
            "max_width": null,
            "order": null,
            "_view_module_version": "1.2.0",
            "grid_template_areas": null,
            "object_position": null,
            "object_fit": null,
            "grid_auto_columns": null,
            "margin": null,
            "display": null,
            "left": null
          }
        },
        "b7ee5ed9a72e4665a9f9826e78133fcc": {
          "model_module": "@jupyter-widgets/controls",
          "model_name": "FloatProgressModel",
          "state": {
            "_view_name": "ProgressView",
            "style": "IPY_MODEL_d15f8ca8a3564cae89c0adacdde553a3",
            "_dom_classes": [],
            "description": "Downloading: 100%",
            "_model_name": "FloatProgressModel",
            "bar_style": "success",
            "max": 898823,
            "_view_module": "@jupyter-widgets/controls",
            "_model_module_version": "1.5.0",
            "value": 898823,
            "_view_count": null,
            "_view_module_version": "1.5.0",
            "orientation": "horizontal",
            "min": 0,
            "description_tooltip": null,
            "_model_module": "@jupyter-widgets/controls",
            "layout": "IPY_MODEL_be1e5ed30b134701b79a7705a2665559"
          }
        },
        "1bc7d85265f048ccbbfe8cabffd3905d": {
          "model_module": "@jupyter-widgets/controls",
          "model_name": "HTMLModel",
          "state": {
            "_view_name": "HTMLView",
            "style": "IPY_MODEL_8cab0bc1b942437cabb3f0c3420ab9a8",
            "_dom_classes": [],
            "description": "",
            "_model_name": "HTMLModel",
            "placeholder": "​",
            "_view_module": "@jupyter-widgets/controls",
            "_model_module_version": "1.5.0",
            "value": " 899k/899k [00:00&lt;00:00, 1.03MB/s]",
            "_view_count": null,
            "_view_module_version": "1.5.0",
            "description_tooltip": null,
            "_model_module": "@jupyter-widgets/controls",
            "layout": "IPY_MODEL_4217f16094694adbb72d27f049be782e"
          }
        },
        "d15f8ca8a3564cae89c0adacdde553a3": {
          "model_module": "@jupyter-widgets/controls",
          "model_name": "ProgressStyleModel",
          "state": {
            "_view_name": "StyleView",
            "_model_name": "ProgressStyleModel",
            "description_width": "initial",
            "_view_module": "@jupyter-widgets/base",
            "_model_module_version": "1.5.0",
            "_view_count": null,
            "_view_module_version": "1.2.0",
            "bar_color": null,
            "_model_module": "@jupyter-widgets/controls"
          }
        },
        "be1e5ed30b134701b79a7705a2665559": {
          "model_module": "@jupyter-widgets/base",
          "model_name": "LayoutModel",
          "state": {
            "_view_name": "LayoutView",
            "grid_template_rows": null,
            "right": null,
            "justify_content": null,
            "_view_module": "@jupyter-widgets/base",
            "overflow": null,
            "_model_module_version": "1.2.0",
            "_view_count": null,
            "flex_flow": null,
            "width": null,
            "min_width": null,
            "border": null,
            "align_items": null,
            "bottom": null,
            "_model_module": "@jupyter-widgets/base",
            "top": null,
            "grid_column": null,
            "overflow_y": null,
            "overflow_x": null,
            "grid_auto_flow": null,
            "grid_area": null,
            "grid_template_columns": null,
            "flex": null,
            "_model_name": "LayoutModel",
            "justify_items": null,
            "grid_row": null,
            "max_height": null,
            "align_content": null,
            "visibility": null,
            "align_self": null,
            "height": null,
            "min_height": null,
            "padding": null,
            "grid_auto_rows": null,
            "grid_gap": null,
            "max_width": null,
            "order": null,
            "_view_module_version": "1.2.0",
            "grid_template_areas": null,
            "object_position": null,
            "object_fit": null,
            "grid_auto_columns": null,
            "margin": null,
            "display": null,
            "left": null
          }
        },
        "8cab0bc1b942437cabb3f0c3420ab9a8": {
          "model_module": "@jupyter-widgets/controls",
          "model_name": "DescriptionStyleModel",
          "state": {
            "_view_name": "StyleView",
            "_model_name": "DescriptionStyleModel",
            "description_width": "",
            "_view_module": "@jupyter-widgets/base",
            "_model_module_version": "1.5.0",
            "_view_count": null,
            "_view_module_version": "1.2.0",
            "_model_module": "@jupyter-widgets/controls"
          }
        },
        "4217f16094694adbb72d27f049be782e": {
          "model_module": "@jupyter-widgets/base",
          "model_name": "LayoutModel",
          "state": {
            "_view_name": "LayoutView",
            "grid_template_rows": null,
            "right": null,
            "justify_content": null,
            "_view_module": "@jupyter-widgets/base",
            "overflow": null,
            "_model_module_version": "1.2.0",
            "_view_count": null,
            "flex_flow": null,
            "width": null,
            "min_width": null,
            "border": null,
            "align_items": null,
            "bottom": null,
            "_model_module": "@jupyter-widgets/base",
            "top": null,
            "grid_column": null,
            "overflow_y": null,
            "overflow_x": null,
            "grid_auto_flow": null,
            "grid_area": null,
            "grid_template_columns": null,
            "flex": null,
            "_model_name": "LayoutModel",
            "justify_items": null,
            "grid_row": null,
            "max_height": null,
            "align_content": null,
            "visibility": null,
            "align_self": null,
            "height": null,
            "min_height": null,
            "padding": null,
            "grid_auto_rows": null,
            "grid_gap": null,
            "max_width": null,
            "order": null,
            "_view_module_version": "1.2.0",
            "grid_template_areas": null,
            "object_position": null,
            "object_fit": null,
            "grid_auto_columns": null,
            "margin": null,
            "display": null,
            "left": null
          }
        },
        "a3bf20c4a3484bddac4c4fec86cf4eb2": {
          "model_module": "@jupyter-widgets/controls",
          "model_name": "HBoxModel",
          "state": {
            "_view_name": "HBoxView",
            "_dom_classes": [],
            "_model_name": "HBoxModel",
            "_view_module": "@jupyter-widgets/controls",
            "_model_module_version": "1.5.0",
            "_view_count": null,
            "_view_module_version": "1.5.0",
            "box_style": "",
            "layout": "IPY_MODEL_1f53be3082194e0d81edc6b553a6042f",
            "_model_module": "@jupyter-widgets/controls",
            "children": [
              "IPY_MODEL_4cfb27945d4648148ad4181d52bf7e21",
              "IPY_MODEL_c5fc920cf78d40d0879b4389076860bd"
            ]
          }
        },
        "1f53be3082194e0d81edc6b553a6042f": {
          "model_module": "@jupyter-widgets/base",
          "model_name": "LayoutModel",
          "state": {
            "_view_name": "LayoutView",
            "grid_template_rows": null,
            "right": null,
            "justify_content": null,
            "_view_module": "@jupyter-widgets/base",
            "overflow": null,
            "_model_module_version": "1.2.0",
            "_view_count": null,
            "flex_flow": null,
            "width": null,
            "min_width": null,
            "border": null,
            "align_items": null,
            "bottom": null,
            "_model_module": "@jupyter-widgets/base",
            "top": null,
            "grid_column": null,
            "overflow_y": null,
            "overflow_x": null,
            "grid_auto_flow": null,
            "grid_area": null,
            "grid_template_columns": null,
            "flex": null,
            "_model_name": "LayoutModel",
            "justify_items": null,
            "grid_row": null,
            "max_height": null,
            "align_content": null,
            "visibility": null,
            "align_self": null,
            "height": null,
            "min_height": null,
            "padding": null,
            "grid_auto_rows": null,
            "grid_gap": null,
            "max_width": null,
            "order": null,
            "_view_module_version": "1.2.0",
            "grid_template_areas": null,
            "object_position": null,
            "object_fit": null,
            "grid_auto_columns": null,
            "margin": null,
            "display": null,
            "left": null
          }
        },
        "4cfb27945d4648148ad4181d52bf7e21": {
          "model_module": "@jupyter-widgets/controls",
          "model_name": "FloatProgressModel",
          "state": {
            "_view_name": "ProgressView",
            "style": "IPY_MODEL_11bc4832a2a54602a332a48639648f9e",
            "_dom_classes": [],
            "description": "Downloading: 100%",
            "_model_name": "FloatProgressModel",
            "bar_style": "success",
            "max": 456318,
            "_view_module": "@jupyter-widgets/controls",
            "_model_module_version": "1.5.0",
            "value": 456318,
            "_view_count": null,
            "_view_module_version": "1.5.0",
            "orientation": "horizontal",
            "min": 0,
            "description_tooltip": null,
            "_model_module": "@jupyter-widgets/controls",
            "layout": "IPY_MODEL_f9928e92590d449fa040f1b17648e9da"
          }
        },
        "c5fc920cf78d40d0879b4389076860bd": {
          "model_module": "@jupyter-widgets/controls",
          "model_name": "HTMLModel",
          "state": {
            "_view_name": "HTMLView",
            "style": "IPY_MODEL_9c6fd5193a6b42b58dc36a4460227128",
            "_dom_classes": [],
            "description": "",
            "_model_name": "HTMLModel",
            "placeholder": "​",
            "_view_module": "@jupyter-widgets/controls",
            "_model_module_version": "1.5.0",
            "value": " 456k/456k [00:00&lt;00:00, 2.00MB/s]",
            "_view_count": null,
            "_view_module_version": "1.5.0",
            "description_tooltip": null,
            "_model_module": "@jupyter-widgets/controls",
            "layout": "IPY_MODEL_716a4983aaf14bd19ffc24578a945122"
          }
        },
        "11bc4832a2a54602a332a48639648f9e": {
          "model_module": "@jupyter-widgets/controls",
          "model_name": "ProgressStyleModel",
          "state": {
            "_view_name": "StyleView",
            "_model_name": "ProgressStyleModel",
            "description_width": "initial",
            "_view_module": "@jupyter-widgets/base",
            "_model_module_version": "1.5.0",
            "_view_count": null,
            "_view_module_version": "1.2.0",
            "bar_color": null,
            "_model_module": "@jupyter-widgets/controls"
          }
        },
        "f9928e92590d449fa040f1b17648e9da": {
          "model_module": "@jupyter-widgets/base",
          "model_name": "LayoutModel",
          "state": {
            "_view_name": "LayoutView",
            "grid_template_rows": null,
            "right": null,
            "justify_content": null,
            "_view_module": "@jupyter-widgets/base",
            "overflow": null,
            "_model_module_version": "1.2.0",
            "_view_count": null,
            "flex_flow": null,
            "width": null,
            "min_width": null,
            "border": null,
            "align_items": null,
            "bottom": null,
            "_model_module": "@jupyter-widgets/base",
            "top": null,
            "grid_column": null,
            "overflow_y": null,
            "overflow_x": null,
            "grid_auto_flow": null,
            "grid_area": null,
            "grid_template_columns": null,
            "flex": null,
            "_model_name": "LayoutModel",
            "justify_items": null,
            "grid_row": null,
            "max_height": null,
            "align_content": null,
            "visibility": null,
            "align_self": null,
            "height": null,
            "min_height": null,
            "padding": null,
            "grid_auto_rows": null,
            "grid_gap": null,
            "max_width": null,
            "order": null,
            "_view_module_version": "1.2.0",
            "grid_template_areas": null,
            "object_position": null,
            "object_fit": null,
            "grid_auto_columns": null,
            "margin": null,
            "display": null,
            "left": null
          }
        },
        "9c6fd5193a6b42b58dc36a4460227128": {
          "model_module": "@jupyter-widgets/controls",
          "model_name": "DescriptionStyleModel",
          "state": {
            "_view_name": "StyleView",
            "_model_name": "DescriptionStyleModel",
            "description_width": "",
            "_view_module": "@jupyter-widgets/base",
            "_model_module_version": "1.5.0",
            "_view_count": null,
            "_view_module_version": "1.2.0",
            "_model_module": "@jupyter-widgets/controls"
          }
        },
        "716a4983aaf14bd19ffc24578a945122": {
          "model_module": "@jupyter-widgets/base",
          "model_name": "LayoutModel",
          "state": {
            "_view_name": "LayoutView",
            "grid_template_rows": null,
            "right": null,
            "justify_content": null,
            "_view_module": "@jupyter-widgets/base",
            "overflow": null,
            "_model_module_version": "1.2.0",
            "_view_count": null,
            "flex_flow": null,
            "width": null,
            "min_width": null,
            "border": null,
            "align_items": null,
            "bottom": null,
            "_model_module": "@jupyter-widgets/base",
            "top": null,
            "grid_column": null,
            "overflow_y": null,
            "overflow_x": null,
            "grid_auto_flow": null,
            "grid_area": null,
            "grid_template_columns": null,
            "flex": null,
            "_model_name": "LayoutModel",
            "justify_items": null,
            "grid_row": null,
            "max_height": null,
            "align_content": null,
            "visibility": null,
            "align_self": null,
            "height": null,
            "min_height": null,
            "padding": null,
            "grid_auto_rows": null,
            "grid_gap": null,
            "max_width": null,
            "order": null,
            "_view_module_version": "1.2.0",
            "grid_template_areas": null,
            "object_position": null,
            "object_fit": null,
            "grid_auto_columns": null,
            "margin": null,
            "display": null,
            "left": null
          }
        }
      }
    }
  },
  "cells": [
    {
      "cell_type": "markdown",
      "metadata": {
        "id": "6kG3CQIrEjs9",
        "colab_type": "text"
      },
      "source": [
        "# Missing packages"
      ]
    },
    {
      "cell_type": "code",
      "metadata": {
        "id": "T_jFob-CQ6Y9",
        "colab_type": "code",
        "colab": {
          "base_uri": "https://localhost:8080/",
          "height": 102
        },
        "outputId": "298737bb-0c03-43b4-dddc-b00851733384"
      },
      "source": [
        "!pip install transformers --quiet"
      ],
      "execution_count": null,
      "outputs": [
        {
          "output_type": "stream",
          "text": [
            "\u001b[K     |████████████████████████████████| 675kB 3.5MB/s \n",
            "\u001b[K     |████████████████████████████████| 3.8MB 8.6MB/s \n",
            "\u001b[K     |████████████████████████████████| 1.1MB 39.8MB/s \n",
            "\u001b[K     |████████████████████████████████| 890kB 39.9MB/s \n",
            "\u001b[?25h  Building wheel for sacremoses (setup.py) ... \u001b[?25l\u001b[?25hdone\n"
          ],
          "name": "stdout"
        }
      ]
    },
    {
      "cell_type": "markdown",
      "metadata": {
        "id": "RF0ZYW_1Ehn3",
        "colab_type": "text"
      },
      "source": [
        "# Imports"
      ]
    },
    {
      "cell_type": "code",
      "metadata": {
        "id": "cvcVqtf6SHol",
        "colab_type": "code",
        "colab": {}
      },
      "source": [
        "import os, sys, gc, ast\n",
        "import string\n",
        "import pandas as pd\n",
        "import numpy as np"
      ],
      "execution_count": null,
      "outputs": []
    },
    {
      "cell_type": "code",
      "metadata": {
        "id": "N7yamQMHSHlN",
        "colab_type": "code",
        "colab": {}
      },
      "source": [
        "from transformers import RobertaTokenizer, BertTokenizer"
      ],
      "execution_count": null,
      "outputs": []
    },
    {
      "cell_type": "markdown",
      "metadata": {
        "id": "t6WuOV0uS_Ng",
        "colab_type": "text"
      },
      "source": [
        "# Data"
      ]
    },
    {
      "cell_type": "code",
      "metadata": {
        "id": "UPR8TRz5TC42",
        "colab_type": "code",
        "colab": {}
      },
      "source": [
        "path = '../data/'"
      ],
      "execution_count": null,
      "outputs": []
    },
    {
      "cell_type": "code",
      "metadata": {
        "id": "1WZ3ffTATAfd",
        "colab_type": "code",
        "colab": {}
      },
      "source": [
        "train = pd.read_csv(path+'Train.csv')\n",
        "test = pd.read_csv(path+'Test.csv')"
      ],
      "execution_count": null,
      "outputs": []
    },
    {
      "cell_type": "code",
      "metadata": {
        "id": "tlmDwZDNch0E",
        "colab_type": "code",
        "colab": {}
      },
      "source": [
        "df = pd.concat([train, test])"
      ],
      "execution_count": null,
      "outputs": []
    },
    {
      "cell_type": "code",
      "metadata": {
        "id": "LtMhpKIoTTQa",
        "colab_type": "code",
        "colab": {
          "base_uri": "https://localhost:8080/",
          "height": 204
        },
        "outputId": "8bdd2dc2-4d60-47f5-a4b2-453152279a00"
      },
      "source": [
        "train.head()"
      ],
      "execution_count": null,
      "outputs": [
        {
          "output_type": "execute_result",
          "data": {
            "text/html": [
              "<div>\n",
              "<style scoped>\n",
              "    .dataframe tbody tr th:only-of-type {\n",
              "        vertical-align: middle;\n",
              "    }\n",
              "\n",
              "    .dataframe tbody tr th {\n",
              "        vertical-align: top;\n",
              "    }\n",
              "\n",
              "    .dataframe thead th {\n",
              "        text-align: right;\n",
              "    }\n",
              "</style>\n",
              "<table border=\"1\" class=\"dataframe\">\n",
              "  <thead>\n",
              "    <tr style=\"text-align: right;\">\n",
              "      <th></th>\n",
              "      <th>ID</th>\n",
              "      <th>text</th>\n",
              "      <th>label</th>\n",
              "    </tr>\n",
              "  </thead>\n",
              "  <tbody>\n",
              "    <tr>\n",
              "      <th>0</th>\n",
              "      <td>SUAVK39Z</td>\n",
              "      <td>I feel that it was better I dieAm happy</td>\n",
              "      <td>Depression</td>\n",
              "    </tr>\n",
              "    <tr>\n",
              "      <th>1</th>\n",
              "      <td>9JDAGUV3</td>\n",
              "      <td>Why do I get hallucinations?</td>\n",
              "      <td>Drugs</td>\n",
              "    </tr>\n",
              "    <tr>\n",
              "      <th>2</th>\n",
              "      <td>419WR1LQ</td>\n",
              "      <td>I am stresseed due to lack of financial suppor...</td>\n",
              "      <td>Depression</td>\n",
              "    </tr>\n",
              "    <tr>\n",
              "      <th>3</th>\n",
              "      <td>6UY7DX6Q</td>\n",
              "      <td>Why is life important?</td>\n",
              "      <td>Suicide</td>\n",
              "    </tr>\n",
              "    <tr>\n",
              "      <th>4</th>\n",
              "      <td>FYC0FTFB</td>\n",
              "      <td>How could I be helped to go through the depres...</td>\n",
              "      <td>Depression</td>\n",
              "    </tr>\n",
              "  </tbody>\n",
              "</table>\n",
              "</div>"
            ],
            "text/plain": [
              "         ID                                               text       label\n",
              "0  SUAVK39Z            I feel that it was better I dieAm happy  Depression\n",
              "1  9JDAGUV3                       Why do I get hallucinations?       Drugs\n",
              "2  419WR1LQ  I am stresseed due to lack of financial suppor...  Depression\n",
              "3  6UY7DX6Q                             Why is life important?     Suicide\n",
              "4  FYC0FTFB  How could I be helped to go through the depres...  Depression"
            ]
          },
          "metadata": {
            "tags": []
          },
          "execution_count": 8
        }
      ]
    },
    {
      "cell_type": "code",
      "metadata": {
        "id": "RVpFWOyuTU93",
        "colab_type": "code",
        "colab": {
          "base_uri": "https://localhost:8080/",
          "height": 204
        },
        "outputId": "cc263e60-9b19-4222-d0b6-fe6753f5a399"
      },
      "source": [
        "test.head()"
      ],
      "execution_count": null,
      "outputs": [
        {
          "output_type": "execute_result",
          "data": {
            "text/html": [
              "<div>\n",
              "<style scoped>\n",
              "    .dataframe tbody tr th:only-of-type {\n",
              "        vertical-align: middle;\n",
              "    }\n",
              "\n",
              "    .dataframe tbody tr th {\n",
              "        vertical-align: top;\n",
              "    }\n",
              "\n",
              "    .dataframe thead th {\n",
              "        text-align: right;\n",
              "    }\n",
              "</style>\n",
              "<table border=\"1\" class=\"dataframe\">\n",
              "  <thead>\n",
              "    <tr style=\"text-align: right;\">\n",
              "      <th></th>\n",
              "      <th>ID</th>\n",
              "      <th>text</th>\n",
              "    </tr>\n",
              "  </thead>\n",
              "  <tbody>\n",
              "    <tr>\n",
              "      <th>0</th>\n",
              "      <td>02V56KMO</td>\n",
              "      <td>How to overcome bad feelings and emotions</td>\n",
              "    </tr>\n",
              "    <tr>\n",
              "      <th>1</th>\n",
              "      <td>03BMGTOK</td>\n",
              "      <td>I feel like giving up in life</td>\n",
              "    </tr>\n",
              "    <tr>\n",
              "      <th>2</th>\n",
              "      <td>03LZVFM6</td>\n",
              "      <td>I was so depressed feel like got no strength t...</td>\n",
              "    </tr>\n",
              "    <tr>\n",
              "      <th>3</th>\n",
              "      <td>0EPULUM5</td>\n",
              "      <td>I feel so low especially since I had no one to...</td>\n",
              "    </tr>\n",
              "    <tr>\n",
              "      <th>4</th>\n",
              "      <td>0GM4C5GD</td>\n",
              "      <td>can i be successful when I am a drug addict?</td>\n",
              "    </tr>\n",
              "  </tbody>\n",
              "</table>\n",
              "</div>"
            ],
            "text/plain": [
              "         ID                                               text\n",
              "0  02V56KMO          How to overcome bad feelings and emotions\n",
              "1  03BMGTOK                     I feel like giving up in life \n",
              "2  03LZVFM6  I was so depressed feel like got no strength t...\n",
              "3  0EPULUM5  I feel so low especially since I had no one to...\n",
              "4  0GM4C5GD       can i be successful when I am a drug addict?"
            ]
          },
          "metadata": {
            "tags": []
          },
          "execution_count": 9
        }
      ]
    },
    {
      "cell_type": "code",
      "metadata": {
        "id": "5RHa7q-Dcof1",
        "colab_type": "code",
        "colab": {
          "base_uri": "https://localhost:8080/",
          "height": 204
        },
        "outputId": "75883793-7d9a-4c4a-b8e3-334c0510a9b3"
      },
      "source": [
        "df.head()"
      ],
      "execution_count": null,
      "outputs": [
        {
          "output_type": "execute_result",
          "data": {
            "text/html": [
              "<div>\n",
              "<style scoped>\n",
              "    .dataframe tbody tr th:only-of-type {\n",
              "        vertical-align: middle;\n",
              "    }\n",
              "\n",
              "    .dataframe tbody tr th {\n",
              "        vertical-align: top;\n",
              "    }\n",
              "\n",
              "    .dataframe thead th {\n",
              "        text-align: right;\n",
              "    }\n",
              "</style>\n",
              "<table border=\"1\" class=\"dataframe\">\n",
              "  <thead>\n",
              "    <tr style=\"text-align: right;\">\n",
              "      <th></th>\n",
              "      <th>ID</th>\n",
              "      <th>text</th>\n",
              "      <th>label</th>\n",
              "    </tr>\n",
              "  </thead>\n",
              "  <tbody>\n",
              "    <tr>\n",
              "      <th>0</th>\n",
              "      <td>SUAVK39Z</td>\n",
              "      <td>I feel that it was better I dieAm happy</td>\n",
              "      <td>Depression</td>\n",
              "    </tr>\n",
              "    <tr>\n",
              "      <th>1</th>\n",
              "      <td>9JDAGUV3</td>\n",
              "      <td>Why do I get hallucinations?</td>\n",
              "      <td>Drugs</td>\n",
              "    </tr>\n",
              "    <tr>\n",
              "      <th>2</th>\n",
              "      <td>419WR1LQ</td>\n",
              "      <td>I am stresseed due to lack of financial suppor...</td>\n",
              "      <td>Depression</td>\n",
              "    </tr>\n",
              "    <tr>\n",
              "      <th>3</th>\n",
              "      <td>6UY7DX6Q</td>\n",
              "      <td>Why is life important?</td>\n",
              "      <td>Suicide</td>\n",
              "    </tr>\n",
              "    <tr>\n",
              "      <th>4</th>\n",
              "      <td>FYC0FTFB</td>\n",
              "      <td>How could I be helped to go through the depres...</td>\n",
              "      <td>Depression</td>\n",
              "    </tr>\n",
              "  </tbody>\n",
              "</table>\n",
              "</div>"
            ],
            "text/plain": [
              "         ID                                               text       label\n",
              "0  SUAVK39Z            I feel that it was better I dieAm happy  Depression\n",
              "1  9JDAGUV3                       Why do I get hallucinations?       Drugs\n",
              "2  419WR1LQ  I am stresseed due to lack of financial suppor...  Depression\n",
              "3  6UY7DX6Q                             Why is life important?     Suicide\n",
              "4  FYC0FTFB  How could I be helped to go through the depres...  Depression"
            ]
          },
          "metadata": {
            "tags": []
          },
          "execution_count": 10
        }
      ]
    },
    {
      "cell_type": "markdown",
      "metadata": {
        "id": "gvVGuWT8S9cK",
        "colab_type": "text"
      },
      "source": [
        "#Tokenizer"
      ]
    },
    {
      "cell_type": "code",
      "metadata": {
        "id": "tO_e0HPeSHjj",
        "colab_type": "code",
        "colab": {}
      },
      "source": [
        "!mkdir tokenizer"
      ],
      "execution_count": null,
      "outputs": []
    },
    {
      "cell_type": "code",
      "metadata": {
        "id": "PD5CD03zSHgz",
        "colab_type": "code",
        "colab": {
          "base_uri": "https://localhost:8080/",
          "referenced_widgets": [
            "271c0dae09984cb78f109826a292eb1b",
            "f5b4c5ce57ee4bf7995821d4f9d6fb41",
            "b7ee5ed9a72e4665a9f9826e78133fcc",
            "1bc7d85265f048ccbbfe8cabffd3905d",
            "d15f8ca8a3564cae89c0adacdde553a3",
            "be1e5ed30b134701b79a7705a2665559",
            "8cab0bc1b942437cabb3f0c3420ab9a8",
            "4217f16094694adbb72d27f049be782e",
            "a3bf20c4a3484bddac4c4fec86cf4eb2",
            "1f53be3082194e0d81edc6b553a6042f",
            "4cfb27945d4648148ad4181d52bf7e21",
            "c5fc920cf78d40d0879b4389076860bd",
            "11bc4832a2a54602a332a48639648f9e",
            "f9928e92590d449fa040f1b17648e9da",
            "9c6fd5193a6b42b58dc36a4460227128",
            "716a4983aaf14bd19ffc24578a945122"
          ]
        },
        "outputId": "8cb942b1-8066-4419-f503-5a547f7a0331"
      },
      "source": [
        "tok = RobertaTokenizer.from_pretrained('roberta-base')"
      ],
      "execution_count": null,
      "outputs": [
        {
          "output_type": "display_data",
          "data": {
            "application/vnd.jupyter.widget-view+json": {
              "model_id": "271c0dae09984cb78f109826a292eb1b",
              "version_minor": 0,
              "version_major": 2
            },
            "text/plain": [
              "HBox(children=(FloatProgress(value=0.0, description='Downloading', max=898823.0, style=ProgressStyle(descripti…"
            ]
          },
          "metadata": {
            "tags": []
          }
        },
        {
          "output_type": "stream",
          "text": [
            "\n"
          ],
          "name": "stdout"
        },
        {
          "output_type": "display_data",
          "data": {
            "application/vnd.jupyter.widget-view+json": {
              "model_id": "a3bf20c4a3484bddac4c4fec86cf4eb2",
              "version_minor": 0,
              "version_major": 2
            },
            "text/plain": [
              "HBox(children=(FloatProgress(value=0.0, description='Downloading', max=456318.0, style=ProgressStyle(descripti…"
            ]
          },
          "metadata": {
            "tags": []
          }
        },
        {
          "output_type": "stream",
          "text": [
            "\n"
          ],
          "name": "stdout"
        }
      ]
    },
    {
      "cell_type": "code",
      "metadata": {
        "id": "jhKeBEzvaCmO",
        "colab_type": "code",
        "colab": {
          "base_uri": "https://localhost:8080/"
        },
        "outputId": "01b3d227-c7ff-4034-c158-bc624ff6c8ce"
      },
      "source": [
        "tok.save_pretrained('tokenizer/')"
      ],
      "execution_count": null,
      "outputs": [
        {
          "output_type": "execute_result",
          "data": {
            "text/plain": [
              "('tokenizer/vocab.json',\n",
              " 'tokenizer/merges.txt',\n",
              " 'tokenizer/special_tokens_map.json',\n",
              " 'tokenizer/added_tokens.json')"
            ]
          },
          "metadata": {
            "tags": []
          },
          "execution_count": 13
        }
      ]
    },
    {
      "cell_type": "code",
      "metadata": {
        "id": "tPB86hxJaT6G",
        "colab_type": "code",
        "colab": {}
      },
      "source": [
        "with open('tokenizer/vocab.json', 'r') as f:\n",
        "  vocab = ast.literal_eval(f.read())\n",
        "  f.close()"
      ],
      "execution_count": null,
      "outputs": []
    },
    {
      "cell_type": "code",
      "metadata": {
        "id": "R8Fwk7xGbwM6",
        "colab_type": "code",
        "colab": {
          "base_uri": "https://localhost:8080/"
        },
        "outputId": "a75f64f5-5a48-48d2-ddea-e71140b13c3a"
      },
      "source": [
        "len(vocab)"
      ],
      "execution_count": null,
      "outputs": [
        {
          "output_type": "execute_result",
          "data": {
            "text/plain": [
              "50265"
            ]
          },
          "metadata": {
            "tags": []
          },
          "execution_count": 15
        }
      ]
    },
    {
      "cell_type": "code",
      "metadata": {
        "id": "FurEkeKrZlj7",
        "colab_type": "code",
        "colab": {}
      },
      "source": [
        "# vocab.keys()"
      ],
      "execution_count": null,
      "outputs": []
    },
    {
      "cell_type": "markdown",
      "metadata": {
        "id": "GKi7VxABWJtD",
        "colab_type": "text"
      },
      "source": [
        "#Preprocessing"
      ]
    },
    {
      "cell_type": "code",
      "metadata": {
        "id": "mknhTYvdT08y",
        "colab_type": "code",
        "colab": {}
      },
      "source": [
        "def step_0(x):\n",
        "  x = str(x)\n",
        "  x = \" \" + x\n",
        "  x = x.lower()\n",
        "  return x"
      ],
      "execution_count": null,
      "outputs": []
    },
    {
      "cell_type": "code",
      "metadata": {
        "id": "t8K-E3sdUYOL",
        "colab_type": "code",
        "colab": {}
      },
      "source": [
        "df['text'] = df.text.apply(step_0)"
      ],
      "execution_count": null,
      "outputs": []
    },
    {
      "cell_type": "code",
      "metadata": {
        "id": "AGgjPdnxc9YD",
        "colab_type": "code",
        "colab": {}
      },
      "source": [
        "punct = '!,.:;?@[]{|}~-…()'\n",
        "\n",
        "def step_1(x):\n",
        "  for p in punct:\n",
        "    x = x.replace(p, \" \"+p+\" \")\n",
        "  return x"
      ],
      "execution_count": null,
      "outputs": []
    },
    {
      "cell_type": "code",
      "metadata": {
        "id": "nF9gwDnrd2un",
        "colab_type": "code",
        "colab": {}
      },
      "source": [
        "df['text'] = df.text.apply(step_1)"
      ],
      "execution_count": null,
      "outputs": []
    },
    {
      "cell_type": "code",
      "metadata": {
        "id": "BAmveotEgimj",
        "colab_type": "code",
        "colab": {}
      },
      "source": [
        "def step_2(x):\n",
        "  x = x.replace(\"i'm \", \"i am\")\n",
        "  x = x.replace(\"\\'s \", \" is\", )\n",
        "  x = x.replace(\"\\'re \", \" are\", )\n",
        "  x = x.replace(\"\\'ve \", \" have\")\n",
        "  x = x.replace(\"can't \", \"cannot\")\n",
        "  x = x.replace(\"n't \", \" not\")\n",
        "  x = x.replace(\"\\'d\", \" would\")\n",
        "  x = x.replace(\"\\'ll\", \" will\")\n",
        "  return x"
      ],
      "execution_count": null,
      "outputs": []
    },
    {
      "cell_type": "code",
      "metadata": {
        "id": "2dC0OGEAiKKu",
        "colab_type": "code",
        "colab": {}
      },
      "source": [
        "df['text'] = df.text.apply(step_2)"
      ],
      "execution_count": null,
      "outputs": []
    },
    {
      "cell_type": "markdown",
      "metadata": {
        "id": "y2sfRnKBgWYY",
        "colab_type": "text"
      },
      "source": [
        "# Vocab"
      ]
    },
    {
      "cell_type": "code",
      "metadata": {
        "id": "FrrlHLGziN_s",
        "colab_type": "code",
        "colab": {}
      },
      "source": [
        "df_vocab_ = sorted(list( set( ' '.join(df.text.values.tolist()).split() ) ))"
      ],
      "execution_count": null,
      "outputs": []
    },
    {
      "cell_type": "code",
      "metadata": {
        "id": "oquVeURfjM79",
        "colab_type": "code",
        "colab": {
          "base_uri": "https://localhost:8080/",
          "height": 34
        },
        "outputId": "fd9243bd-c570-409b-827e-8822ec1a4054"
      },
      "source": [
        "len(df_vocab_)"
      ],
      "execution_count": null,
      "outputs": [
        {
          "output_type": "execute_result",
          "data": {
            "text/plain": [
              "1079"
            ]
          },
          "metadata": {
            "tags": []
          },
          "execution_count": 24
        }
      ]
    },
    {
      "cell_type": "code",
      "metadata": {
        "id": "-zN56FBljUvC",
        "colab_type": "code",
        "colab": {
          "base_uri": "https://localhost:8080/",
          "height": 34
        },
        "outputId": "15255b20-bed7-46ac-fa60-ec5ee4fa8e5d"
      },
      "source": [
        "df_vocab_[:12]"
      ],
      "execution_count": null,
      "outputs": [
        {
          "output_type": "execute_result",
          "data": {
            "text/plain": [
              "[\"'\", '(', ')', ',', '-', '.', '2', '?', '[', 'a', 'abandoned', 'ability']"
            ]
          },
          "metadata": {
            "tags": []
          },
          "execution_count": 25
        }
      ]
    },
    {
      "cell_type": "code",
      "metadata": {
        "id": "Lra7hB7QjxFK",
        "colab_type": "code",
        "colab": {}
      },
      "source": [
        "df_vocab = df_vocab_[9:]"
      ],
      "execution_count": null,
      "outputs": []
    },
    {
      "cell_type": "code",
      "metadata": {
        "id": "yRbqdUo1mSZr",
        "colab_type": "code",
        "colab": {
          "base_uri": "https://localhost:8080/",
          "height": 187
        },
        "outputId": "deb9dab7-d1af-4359-d3b6-9f12585d62bb"
      },
      "source": [
        "df_vocab[:10]"
      ],
      "execution_count": null,
      "outputs": [
        {
          "output_type": "execute_result",
          "data": {
            "text/plain": [
              "['a',\n",
              " 'abandoned',\n",
              " 'ability',\n",
              " 'able',\n",
              " 'abort',\n",
              " 'about',\n",
              " 'absent',\n",
              " 'abstain',\n",
              " 'abuse',\n",
              " 'abusing']"
            ]
          },
          "metadata": {
            "tags": []
          },
          "execution_count": 27
        }
      ]
    },
    {
      "cell_type": "code",
      "metadata": {
        "id": "DiSQwDl8kQHm",
        "colab_type": "code",
        "colab": {
          "base_uri": "https://localhost:8080/",
          "height": 34
        },
        "outputId": "b395a096-6b17-4c23-940d-87639b41fd11"
      },
      "source": [
        "df_vocab[-5:]"
      ],
      "execution_count": null,
      "outputs": [
        {
          "output_type": "execute_result",
          "data": {
            "text/plain": [
              "['you', 'young', 'your', 'youths', '…']"
            ]
          },
          "metadata": {
            "tags": []
          },
          "execution_count": 28
        }
      ]
    },
    {
      "cell_type": "code",
      "metadata": {
        "id": "HyrXdFQHk0zi",
        "colab_type": "code",
        "colab": {}
      },
      "source": [
        "encs = [ tok.encode(x) for x in df_vocab]"
      ],
      "execution_count": null,
      "outputs": []
    },
    {
      "cell_type": "code",
      "metadata": {
        "id": "N1a4WGhNl1eo",
        "colab_type": "code",
        "colab": {}
      },
      "source": [
        "sizs =  [len(x) for x in encs]"
      ],
      "execution_count": null,
      "outputs": []
    },
    {
      "cell_type": "code",
      "metadata": {
        "id": "ammbRMW2lC_S",
        "colab_type": "code",
        "colab": {}
      },
      "source": [
        "crits = np.where(np.array(sizs) != 3, 1, 0)"
      ],
      "execution_count": null,
      "outputs": []
    },
    {
      "cell_type": "code",
      "metadata": {
        "id": "BFoNjnzblOSo",
        "colab_type": "code",
        "colab": {}
      },
      "source": [
        "oot = np.unique(np.where(crits==1, df_vocab, ''))"
      ],
      "execution_count": null,
      "outputs": []
    },
    {
      "cell_type": "code",
      "metadata": {
        "id": "y6-O9b1NkAd-",
        "colab_type": "code",
        "colab": {
          "base_uri": "https://localhost:8080/",
          "height": 629
        },
        "outputId": "465d9824-5ca6-487c-fe21-7f842b6a9b90"
      },
      "source": [
        "oot"
      ],
      "execution_count": null,
      "outputs": [
        {
          "output_type": "execute_result",
          "data": {
            "text/plain": [
              "array(['', 'abstain', 'activites', 'addidcted', 'ahd', 'alccohol',\n",
              "       'ambetter', 'amfeeling', 'amnot', 'amokay', 'amquite', 'amstill',\n",
              "       'amtaking', 'amunworthy', 'annd', 'ather', 'avoiod', 'benefitial',\n",
              "       'benefitto', 'bette', 'bhang', 'birthnow', 'blacking', 'burnout',\n",
              "       'calmness', 'cannothandle', 'cannotstop', 'childlish', 'classwork',\n",
              "       'commited', 'commiting', 'confusednow', 'conqured', 'consented',\n",
              "       'contentment', 'contol', 'cornerfeeling', 'counsellor', 'defering',\n",
              "       'deferrin', 'demotivated', 'depresses', 'depressioni', 'desparate',\n",
              "       'despising', 'desserted', 'deteroriating', 'didn’t', 'dieam',\n",
              "       'dillusioned', 'diserted', 'dissapointed', 'dissappointed',\n",
              "       'dizzines', 'don’t', 'doto', 'downhearted', 'downplayed',\n",
              "       'downrecovering', 'drinnking', 'drugsnow', 'drunkard',\n",
              "       'everythingi', 'existd', 'faints', 'fantasizing', 'felling', 'fgm',\n",
              "       'finacial', 'foind', 'fretting', 'frorge', 'frustratedi', 'gf',\n",
              "       'hatrednow', 'havei', 'havelost', 'he/she', 'heartbreak',\n",
              "       'heartbreaks', 'heartbroken', 'helplessi', 'helplessness',\n",
              "       'helplessstill', 'highschool', 'hopelessfor', 'hopelessnesss',\n",
              "       'hustle', 'hw', 'impregnated', 'inadequacy', 'incidencesof',\n",
              "       'includingmy', 'indescribable', 'indulgence', 'inorder', 'insomia',\n",
              "       'instable', 'isdepression', 'isnext', 'isolatednow', 'issolated',\n",
              "       'ith', 'liferight', 'loneliest', 'lonelycurrently', 'lonelyi',\n",
              "       'lonelynow', 'looses', 'lossing', 'lowi', 'lowkey', 'lowt',\n",
              "       'mediataton', 'messnow', 'migraines', 'misbehave', 'miscarriages',\n",
              "       'moderatly', 'motherhood', 'motivates', 'motivationsuicidal',\n",
              "       'negativecurrently', 'neglecting', 'negletion', 'nightsi',\n",
              "       'notbelong', 'notfeel', 'notover', 'notsee', 'nott', 'notwant',\n",
              "       'npt', 'occuring', 'oftenly', 'oldself', 'overdrinking',\n",
              "       'overthinking', 'patners', 'ponographic', 'psycologically',\n",
              "       'reconcilliation', 'remover', 'sadi', 'schoolfee', 'schoolfees',\n",
              "       'seeked', 'selfworth', 'sickly', 'sleepless', 'someon', 'sould',\n",
              "       'sove', 'stagnated', 'stop/', 'stresseed', 'stresssed', 'succed',\n",
              "       'sucidal', 'temptations', 'thingof', 'traumatized', 'uncared',\n",
              "       'undestands', 'unfaithful', 'unloved', 'unpreparedness',\n",
              "       'unsatisfied', 'unworthyness', 'weathernow', 'wellwishers', 'whn',\n",
              "       'whren', 'worhtless', 'worldm', 'worthlesness', 'wronged'],\n",
              "      dtype='<U18')"
            ]
          },
          "metadata": {
            "tags": []
          },
          "execution_count": 33
        }
      ]
    },
    {
      "cell_type": "code",
      "metadata": {
        "id": "7OVWN574SHej",
        "colab_type": "code",
        "colab": {}
      },
      "source": [
        "fix = {\n",
        "'dieam':'die am',\n",
        "'stresseed':'stressed',\n",
        "'drugsnow':'drugs now',\n",
        "'frorge':'forge',\n",
        "'mediataton':'meditation',\n",
        "'hatrednow':'hatred now',\n",
        "'cornerfeeling':'corner feeling',\n",
        "'avoiod':'avoid',\n",
        "'negletion':'neglection',\n",
        "'lonelynow':'lonely now',\n",
        "'isolatednow':'isolated now',\n",
        "'confusednow':'confused now',\n",
        "'hopelessfor':'hopeless for',\n",
        "'havei':'have i',\n",
        "'everythingi':'everything i',\n",
        "'thingof':'thing of',\n",
        "'liferight':'life right',\n",
        "'deteroriating':'deteriorating',\n",
        "'stresssed':'stressed',\n",
        "'lonelyi':'lonely i',\n",
        "'childlish':'childish',\n",
        "'depressioni':'depression i',\n",
        "'addidcted':'addicted',\n",
        "'alccohol':'alcohol',\n",
        "'drinnking':'drinking',\n",
        "'schoolfees':'school fees',\n",
        "'diserted':'deserted',\n",
        "'lonelycurrently':'lonely currently',\n",
        "'existd':'existed',\n",
        "'schoolfee':'school fee',\n",
        "'negativecurrently':'negative currently',\n",
        "'messnow':'mess now',\n",
        "'frustratedi':'frustrated i',\n",
        "'benefitto':'benefit to',\n",
        "'weathernow':'weather now',\n",
        "'incidencesof':'incidences of',\n",
        "'worldm':'world',\n",
        "'unworthyness':'unworthiness',\n",
        "'oldself':'old self',\n",
        "'undestands':'understands',\n",
        "'issolated':'isolated',\n",
        "'dillusioned':'delusional',\n",
        "'hopelessnesss':'hopelessness',\n",
        "'includingmy':'including my',\n",
        "'motivationsuicidal':'motivation suicidal',\n",
        "'birthnow':'birth now',\n",
        "'helplessstill':'helpless still',\n",
        "'lowt':'low',\n",
        "'helplessi':'helpless i',\n",
        "'deferrin':'deferring',\n",
        "'deferringgg':'deferring',\n",
        "'deferringg': 'deferring',\n",
        "'defering':'deferring',\n",
        "'downrecovering':'down recovering',\n",
        "'nightsi':'nights i',\n",
        "'worthlesness':'worthlessness',\n",
        "'ponographic': 'pornographic',\n",
        "'sucidal':'suicidal',\n",
        "'dizzines':'dizziness',\n",
        "'insomia':'insomnia',\n",
        "'conqured':'conquered',\n",
        "'worhtless':'worthless',\n",
        "'selfworth':'self worth',\n",
        "'moderatly':'moderately',\n",
        "'desserted':'deserted',\n",
        "'patners':'partners',\n",
        "'psycologically': 'psychologically',\n",
        "'sove':'solve',\n",
        "'foind':'found',\n",
        "'lowi': 'low i',\n",
        "'whren': 'when',\n",
        "}"
      ],
      "execution_count": null,
      "outputs": []
    },
    {
      "cell_type": "code",
      "metadata": {
        "id": "0MDPNO_Uqe_7",
        "colab_type": "code",
        "colab": {}
      },
      "source": [
        "unks = []\n",
        "knowns = []\n",
        "for o in oot:\n",
        "  try:\n",
        "    a = fix[o]\n",
        "    knowns.append(o)\n",
        "  except KeyError:\n",
        "    unks.append(o)"
      ],
      "execution_count": null,
      "outputs": []
    },
    {
      "cell_type": "code",
      "metadata": {
        "id": "bV6kwS9Vqs1V",
        "colab_type": "code",
        "colab": {
          "base_uri": "https://localhost:8080/",
          "height": 374
        },
        "outputId": "3df21c63-c82f-4ab8-9f94-e7cd8be7765e"
      },
      "source": [
        "np.array(unks)"
      ],
      "execution_count": null,
      "outputs": [
        {
          "output_type": "execute_result",
          "data": {
            "text/plain": [
              "array(['', 'abstain', 'activites', 'ahd', 'ambetter', 'amfeeling',\n",
              "       'amnot', 'amokay', 'amquite', 'amstill', 'amtaking', 'amunworthy',\n",
              "       'annd', 'ather', 'benefitial', 'bette', 'bhang', 'blacking',\n",
              "       'burnout', 'calmness', 'cannothandle', 'cannotstop', 'classwork',\n",
              "       'commited', 'commiting', 'consented', 'contentment', 'contol',\n",
              "       'counsellor', 'demotivated', 'depresses', 'desparate', 'despising',\n",
              "       'didn’t', 'dissapointed', 'dissappointed', 'don’t', 'doto',\n",
              "       'downhearted', 'downplayed', 'drunkard', 'faints', 'fantasizing',\n",
              "       'felling', 'fgm', 'finacial', 'fretting', 'gf', 'havelost',\n",
              "       'he/she', 'heartbreak', 'heartbreaks', 'heartbroken',\n",
              "       'helplessness', 'highschool', 'hustle', 'hw', 'impregnated',\n",
              "       'inadequacy', 'indescribable', 'indulgence', 'inorder', 'instable',\n",
              "       'isdepression', 'isnext', 'ith', 'loneliest', 'looses', 'lossing',\n",
              "       'lowkey', 'migraines', 'misbehave', 'miscarriages', 'motherhood',\n",
              "       'motivates', 'neglecting', 'notbelong', 'notfeel', 'notover',\n",
              "       'notsee', 'nott', 'notwant', 'npt', 'occuring', 'oftenly',\n",
              "       'overdrinking', 'overthinking', 'reconcilliation', 'remover',\n",
              "       'sadi', 'seeked', 'sickly', 'sleepless', 'someon', 'sould',\n",
              "       'stagnated', 'stop/', 'succed', 'temptations', 'traumatized',\n",
              "       'uncared', 'unfaithful', 'unloved', 'unpreparedness',\n",
              "       'unsatisfied', 'wellwishers', 'whn', 'wronged'], dtype='<U15')"
            ]
          },
          "metadata": {
            "tags": []
          },
          "execution_count": 36
        }
      ]
    },
    {
      "cell_type": "code",
      "metadata": {
        "id": "KMhS4EBaq60F",
        "colab_type": "code",
        "colab": {
          "base_uri": "https://localhost:8080/",
          "height": 272
        },
        "outputId": "04dd5fa8-f18a-4eb3-808e-3d2372fc7239"
      },
      "source": [
        "np.array(knowns)"
      ],
      "execution_count": null,
      "outputs": [
        {
          "output_type": "execute_result",
          "data": {
            "text/plain": [
              "array(['addidcted', 'alccohol', 'avoiod', 'benefitto', 'birthnow',\n",
              "       'childlish', 'confusednow', 'conqured', 'cornerfeeling',\n",
              "       'defering', 'deferrin', 'depressioni', 'desserted',\n",
              "       'deteroriating', 'dieam', 'dillusioned', 'diserted', 'dizzines',\n",
              "       'downrecovering', 'drinnking', 'drugsnow', 'everythingi', 'existd',\n",
              "       'foind', 'frorge', 'frustratedi', 'hatrednow', 'havei',\n",
              "       'helplessi', 'helplessstill', 'hopelessfor', 'hopelessnesss',\n",
              "       'incidencesof', 'includingmy', 'insomia', 'isolatednow',\n",
              "       'issolated', 'liferight', 'lonelycurrently', 'lonelyi',\n",
              "       'lonelynow', 'lowi', 'lowt', 'mediataton', 'messnow', 'moderatly',\n",
              "       'motivationsuicidal', 'negativecurrently', 'negletion', 'nightsi',\n",
              "       'oldself', 'patners', 'ponographic', 'psycologically', 'schoolfee',\n",
              "       'schoolfees', 'selfworth', 'sove', 'stresseed', 'stresssed',\n",
              "       'sucidal', 'thingof', 'undestands', 'unworthyness', 'weathernow',\n",
              "       'whren', 'worhtless', 'worldm', 'worthlesness'], dtype='<U18')"
            ]
          },
          "metadata": {
            "tags": []
          },
          "execution_count": 37
        }
      ]
    },
    {
      "cell_type": "code",
      "metadata": {
        "id": "V_anNTEzoRlP",
        "colab_type": "code",
        "colab": {}
      },
      "source": [
        "def viz(ws):\n",
        "  for w in ws:\n",
        "    enc = tok.encode(w)\n",
        "    dec = tok.decode(enc)\n",
        "    dec_ = [ tok.decode([x]) for x in enc[1:-1]]\n",
        "    print('[WORD] {} [ENC] {} [DEC] {} [DEC V2] {} '.format(w, enc, dec, dec_))"
      ],
      "execution_count": null,
      "outputs": []
    },
    {
      "cell_type": "code",
      "metadata": {
        "id": "KxIG6lygpACK",
        "colab_type": "code",
        "colab": {}
      },
      "source": [
        "# viz(knowns)"
      ],
      "execution_count": null,
      "outputs": []
    },
    {
      "cell_type": "code",
      "metadata": {
        "id": "76fXgz9vpA2x",
        "colab_type": "code",
        "colab": {}
      },
      "source": [
        "# viz(unks[1:])"
      ],
      "execution_count": null,
      "outputs": []
    },
    {
      "cell_type": "code",
      "metadata": {
        "id": "Nhtc6HDdtlZ-",
        "colab_type": "code",
        "colab": {}
      },
      "source": [
        "fix2 = {\n",
        "'ahd':'had',\n",
        "'ambetter':'am better',\n",
        "'amfeeling':'am feeling',\n",
        "'amnot':'am not',\n",
        "'amokay':'am okay',\n",
        "'amquite':'am quite',\n",
        "'amstill':'am still',\n",
        "'amtaking':'am taking',\n",
        "'amunworthy':'am unworthy',\n",
        "'annd':'and',\n",
        "'ather':'rather',\n",
        "'benefitial':'beneficial',\n",
        "'bette ':'better ', \n",
        "'cannothandle':'cannot handle',\n",
        "'cannotstop':'cannot stop',\n",
        "'commited':'committed',\n",
        "'commiting':'committing',\n",
        "'contol':'control',\n",
        "'counsellor':'counselor',\n",
        "'demotivated':'demotivated',\n",
        "'depresses':'depresses',\n",
        "'desparate':'desperate',\n",
        "'despising':'despising', \n",
        "'dissapointed':'disappointed',\n",
        "'dissappointed':'disappointed',\n",
        "'doto':'do to',\n",
        "'felling':'feeling',\n",
        "'fgm':'female genital mutilation',\n",
        "'finacial':'financial',\n",
        "'gf ':'girlfriend',\n",
        "'havelost':'have lost',\n",
        "# 'he/she':'he/she',\n",
        "'highschool':'highschool',\n",
        "'hustle':'hustle',\n",
        "'hw':'how',\n",
        "'inorder':'in order',\n",
        "'instable':'instable',\n",
        "'isdepression':'is depression',\n",
        "'isnext':'is next',\n",
        "'ith ':'with',\n",
        "'lossing':'loosing',\n",
        "'notbelong':'not belong',\n",
        "'notfeel':'not feel',\n",
        "'notover':'not over',\n",
        "'notsee':'not see',\n",
        "'nott ':'not',\n",
        "'notwant':'not want',\n",
        "'npt':'not',\n",
        "'reconcilliation':'reconciliation',\n",
        "'remover':'remover',\n",
        "'sadi':'sad i',\n",
        "'someon':'someone',\n",
        "'sould':'should',\n",
        "'stagnated':'stagnated',\n",
        "'stop/':'stop /',\n",
        "'succed':'succeed',\n",
        "'wellwishers':'well wishers',\n",
        "'whn':'when', \n",
        "}"
      ],
      "execution_count": null,
      "outputs": []
    },
    {
      "cell_type": "markdown",
      "metadata": {
        "id": "KVuPI3MJ1Dzr",
        "colab_type": "text"
      },
      "source": [
        "# Final cleaning"
      ]
    },
    {
      "cell_type": "code",
      "metadata": {
        "id": "1aFxoMK_6pBF",
        "colab_type": "code",
        "colab": {}
      },
      "source": [
        "def cleaning(x):\n",
        "  x = step_0(x)\n",
        "  x = step_1(x)\n",
        "\n",
        "  for p in fix.keys():\n",
        "      x = x.replace(p, fix[p])\n",
        "  for p in fix2.keys():\n",
        "      x = x.replace(p, fix2[p])\n",
        "\n",
        "  return \" \" + x.strip(\" \")"
      ],
      "execution_count": null,
      "outputs": []
    },
    {
      "cell_type": "code",
      "metadata": {
        "id": "409P4V8G019v",
        "colab_type": "code",
        "colab": {}
      },
      "source": [
        "train['text'] = train.text.apply(cleaning)\n",
        "test['text'] = test.text.apply(cleaning)"
      ],
      "execution_count": null,
      "outputs": []
    },
    {
      "cell_type": "code",
      "metadata": {
        "id": "ydoyGAzt2b9r",
        "colab_type": "code",
        "colab": {
          "base_uri": "https://localhost:8080/",
          "height": 204
        },
        "outputId": "3482d996-8ddb-496b-837c-23e7177fb10d"
      },
      "source": [
        "train.head()"
      ],
      "execution_count": null,
      "outputs": [
        {
          "output_type": "execute_result",
          "data": {
            "text/html": [
              "<div>\n",
              "<style scoped>\n",
              "    .dataframe tbody tr th:only-of-type {\n",
              "        vertical-align: middle;\n",
              "    }\n",
              "\n",
              "    .dataframe tbody tr th {\n",
              "        vertical-align: top;\n",
              "    }\n",
              "\n",
              "    .dataframe thead th {\n",
              "        text-align: right;\n",
              "    }\n",
              "</style>\n",
              "<table border=\"1\" class=\"dataframe\">\n",
              "  <thead>\n",
              "    <tr style=\"text-align: right;\">\n",
              "      <th></th>\n",
              "      <th>ID</th>\n",
              "      <th>text</th>\n",
              "      <th>label</th>\n",
              "    </tr>\n",
              "  </thead>\n",
              "  <tbody>\n",
              "    <tr>\n",
              "      <th>0</th>\n",
              "      <td>SUAVK39Z</td>\n",
              "      <td>i feel that it was better i die am happy</td>\n",
              "      <td>Depression</td>\n",
              "    </tr>\n",
              "    <tr>\n",
              "      <th>1</th>\n",
              "      <td>9JDAGUV3</td>\n",
              "      <td>why do i get hallucinations ?</td>\n",
              "      <td>Drugs</td>\n",
              "    </tr>\n",
              "    <tr>\n",
              "      <th>2</th>\n",
              "      <td>419WR1LQ</td>\n",
              "      <td>i am stressed due to lack of financial suppor...</td>\n",
              "      <td>Depression</td>\n",
              "    </tr>\n",
              "    <tr>\n",
              "      <th>3</th>\n",
              "      <td>6UY7DX6Q</td>\n",
              "      <td>why is life important ?</td>\n",
              "      <td>Suicide</td>\n",
              "    </tr>\n",
              "    <tr>\n",
              "      <th>4</th>\n",
              "      <td>FYC0FTFB</td>\n",
              "      <td>how could i be helped to go through the depre...</td>\n",
              "      <td>Depression</td>\n",
              "    </tr>\n",
              "  </tbody>\n",
              "</table>\n",
              "</div>"
            ],
            "text/plain": [
              "         ID                                               text       label\n",
              "0  SUAVK39Z           i feel that it was better i die am happy  Depression\n",
              "1  9JDAGUV3                     why do i get hallucinations ?        Drugs\n",
              "2  419WR1LQ   i am stressed due to lack of financial suppor...  Depression\n",
              "3  6UY7DX6Q                           why is life important ?      Suicide\n",
              "4  FYC0FTFB   how could i be helped to go through the depre...  Depression"
            ]
          },
          "metadata": {
            "tags": []
          },
          "execution_count": 45
        }
      ]
    },
    {
      "cell_type": "code",
      "metadata": {
        "id": "hVxVBsuL7lg3",
        "colab_type": "code",
        "colab": {}
      },
      "source": [
        "train = train.drop_duplicates(['text'])"
      ],
      "execution_count": null,
      "outputs": []
    },
    {
      "cell_type": "code",
      "metadata": {
        "id": "po3Nz1xr_H9_",
        "colab_type": "code",
        "colab": {}
      },
      "source": [
        "train.reset_index(drop=True, inplace=True)"
      ],
      "execution_count": null,
      "outputs": []
    },
    {
      "cell_type": "markdown",
      "metadata": {
        "id": "YLM0PN5nApTL",
        "colab_type": "text"
      },
      "source": [
        "# Dummify the label"
      ]
    },
    {
      "cell_type": "code",
      "metadata": {
        "id": "XT5EcXL0BKT0",
        "colab_type": "code",
        "colab": {}
      },
      "source": [
        "labels = ['Depression', 'Alcohol', 'Suicide', 'Drugs']"
      ],
      "execution_count": null,
      "outputs": []
    },
    {
      "cell_type": "code",
      "metadata": {
        "id": "3WAqyeTkBG5F",
        "colab_type": "code",
        "colab": {}
      },
      "source": [
        "for label in labels:\n",
        "  train[label] = train['label'].apply(lambda x: int(x==label))"
      ],
      "execution_count": null,
      "outputs": []
    },
    {
      "cell_type": "code",
      "metadata": {
        "id": "4VEeatQADrI5",
        "colab_type": "code",
        "colab": {}
      },
      "source": [
        "mapper = {'Depression': 0,\n",
        "          'Alcohol': 1,\n",
        "          'Suicide': 2,\n",
        "          'Drugs': 3}\n",
        "train['label'] = train.label.map(mapper)"
      ],
      "execution_count": null,
      "outputs": []
    },
    {
      "cell_type": "code",
      "metadata": {
        "id": "Nd31VwAQBG06",
        "colab_type": "code",
        "colab": {
          "base_uri": "https://localhost:8080/",
          "height": 204
        },
        "outputId": "fb8e811b-079a-4a7c-acc9-a282bb339b94"
      },
      "source": [
        "train.head()"
      ],
      "execution_count": null,
      "outputs": [
        {
          "output_type": "execute_result",
          "data": {
            "text/html": [
              "<div>\n",
              "<style scoped>\n",
              "    .dataframe tbody tr th:only-of-type {\n",
              "        vertical-align: middle;\n",
              "    }\n",
              "\n",
              "    .dataframe tbody tr th {\n",
              "        vertical-align: top;\n",
              "    }\n",
              "\n",
              "    .dataframe thead th {\n",
              "        text-align: right;\n",
              "    }\n",
              "</style>\n",
              "<table border=\"1\" class=\"dataframe\">\n",
              "  <thead>\n",
              "    <tr style=\"text-align: right;\">\n",
              "      <th></th>\n",
              "      <th>ID</th>\n",
              "      <th>text</th>\n",
              "      <th>label</th>\n",
              "      <th>Depression</th>\n",
              "      <th>Alcohol</th>\n",
              "      <th>Suicide</th>\n",
              "      <th>Drugs</th>\n",
              "    </tr>\n",
              "  </thead>\n",
              "  <tbody>\n",
              "    <tr>\n",
              "      <th>0</th>\n",
              "      <td>SUAVK39Z</td>\n",
              "      <td>i feel that it was better i die am happy</td>\n",
              "      <td>0</td>\n",
              "      <td>1</td>\n",
              "      <td>0</td>\n",
              "      <td>0</td>\n",
              "      <td>0</td>\n",
              "    </tr>\n",
              "    <tr>\n",
              "      <th>1</th>\n",
              "      <td>9JDAGUV3</td>\n",
              "      <td>why do i get hallucinations ?</td>\n",
              "      <td>3</td>\n",
              "      <td>0</td>\n",
              "      <td>0</td>\n",
              "      <td>0</td>\n",
              "      <td>1</td>\n",
              "    </tr>\n",
              "    <tr>\n",
              "      <th>2</th>\n",
              "      <td>419WR1LQ</td>\n",
              "      <td>i am stressed due to lack of financial suppor...</td>\n",
              "      <td>0</td>\n",
              "      <td>1</td>\n",
              "      <td>0</td>\n",
              "      <td>0</td>\n",
              "      <td>0</td>\n",
              "    </tr>\n",
              "    <tr>\n",
              "      <th>3</th>\n",
              "      <td>6UY7DX6Q</td>\n",
              "      <td>why is life important ?</td>\n",
              "      <td>2</td>\n",
              "      <td>0</td>\n",
              "      <td>0</td>\n",
              "      <td>1</td>\n",
              "      <td>0</td>\n",
              "    </tr>\n",
              "    <tr>\n",
              "      <th>4</th>\n",
              "      <td>FYC0FTFB</td>\n",
              "      <td>how could i be helped to go through the depre...</td>\n",
              "      <td>0</td>\n",
              "      <td>1</td>\n",
              "      <td>0</td>\n",
              "      <td>0</td>\n",
              "      <td>0</td>\n",
              "    </tr>\n",
              "  </tbody>\n",
              "</table>\n",
              "</div>"
            ],
            "text/plain": [
              "         ID                                               text  ...  Suicide  Drugs\n",
              "0  SUAVK39Z           i feel that it was better i die am happy  ...        0      0\n",
              "1  9JDAGUV3                     why do i get hallucinations ?   ...        0      1\n",
              "2  419WR1LQ   i am stressed due to lack of financial suppor...  ...        0      0\n",
              "3  6UY7DX6Q                           why is life important ?   ...        1      0\n",
              "4  FYC0FTFB   how could i be helped to go through the depre...  ...        0      0\n",
              "\n",
              "[5 rows x 7 columns]"
            ]
          },
          "metadata": {
            "tags": []
          },
          "execution_count": 51
        }
      ]
    },
    {
      "cell_type": "markdown",
      "metadata": {
        "id": "EGDlRJMiDvKP",
        "colab_type": "text"
      },
      "source": [
        "# Save everything"
      ]
    },
    {
      "cell_type": "code",
      "metadata": {
        "id": "5d_ZHX0V_UV_",
        "colab_type": "code",
        "colab": {}
      },
      "source": [
        "train.to_csv(path+'final_train.csv', index=False)\n",
        "test.to_csv(path+'final_test.csv', index=False)"
      ],
      "execution_count": null,
      "outputs": []
    },
    {
      "cell_type": "code",
      "metadata": {
        "id": "urUUr_QOEQiy",
        "colab_type": "code",
        "colab": {}
      },
      "source": [
        ""
      ],
      "execution_count": null,
      "outputs": []
    }
  ]
}