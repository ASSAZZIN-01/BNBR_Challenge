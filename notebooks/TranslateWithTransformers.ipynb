{
  "nbformat": 4,
  "nbformat_minor": 0,
  "metadata": {
    "colab": {
      "name": "TranslateWithTransformers.ipynb",
      "provenance": [],
      "collapsed_sections": [],
      "toc_visible": true,
      "authorship_tag": "ABX9TyPeIQtDJYPDWnTvcmxTmkoR",
      "include_colab_link": true
    },
    "kernelspec": {
      "name": "python3",
      "display_name": "Python 3"
    }
  },
  "cells": [
    {
      "cell_type": "markdown",
      "metadata": {
        "id": "view-in-github",
        "colab_type": "text"
      },
      "source": [
        "<a href=\"https://colab.research.google.com/github/NazarioR9/BNBR_Challenge/blob/master/notebooks/TranslateWithTransformers.ipynb\" target=\"_parent\"><img src=\"https://colab.research.google.com/assets/colab-badge.svg\" alt=\"Open In Colab\"/></a>"
      ]
    },
    {
      "cell_type": "markdown",
      "metadata": {
        "id": "boYyCMksCgCt",
        "colab_type": "text"
      },
      "source": [
        "# Installs"
      ]
    },
    {
      "cell_type": "code",
      "metadata": {
        "id": "ZLAgBZn8Y3qw",
        "colab_type": "code",
        "colab": {}
      },
      "source": [
        "!pip install transformers --quiet"
      ],
      "execution_count": null,
      "outputs": []
    },
    {
      "cell_type": "markdown",
      "metadata": {
        "id": "53qSk-QXZD06",
        "colab_type": "text"
      },
      "source": [
        "# Imports"
      ]
    },
    {
      "cell_type": "code",
      "metadata": {
        "id": "ykn1Ij-xZFWO",
        "colab_type": "code",
        "colab": {}
      },
      "source": [
        "import os, sys, gc\n",
        "import random\n",
        "import pandas as pd\n",
        "import numpy as np"
      ],
      "execution_count": null,
      "outputs": []
    },
    {
      "cell_type": "code",
      "metadata": {
        "id": "F-fmmjGKccP0",
        "colab_type": "code",
        "colab": {}
      },
      "source": [
        "import torch\n",
        "import torch.nn as nn\n",
        "from torch.utils.data import DataLoader, Dataset"
      ],
      "execution_count": null,
      "outputs": []
    },
    {
      "cell_type": "code",
      "metadata": {
        "id": "pQuinVUeZGQN",
        "colab_type": "code",
        "colab": {}
      },
      "source": [
        "from transformers import MarianTokenizer, MarianMTModel\n",
        "from typing import List"
      ],
      "execution_count": null,
      "outputs": []
    },
    {
      "cell_type": "code",
      "metadata": {
        "id": "kPW3OpaxnwGo",
        "colab_type": "code",
        "colab": {}
      },
      "source": [
        "from tqdm.auto import tqdm"
      ],
      "execution_count": null,
      "outputs": []
    },
    {
      "cell_type": "markdown",
      "metadata": {
        "id": "FKE-oHVMm_gO",
        "colab_type": "text"
      },
      "source": [
        "# Envs"
      ]
    },
    {
      "cell_type": "code",
      "metadata": {
        "id": "7OFdvY9GnN8X",
        "colab_type": "code",
        "colab": {}
      },
      "source": [
        "seed = 2020"
      ],
      "execution_count": null,
      "outputs": []
    },
    {
      "cell_type": "code",
      "metadata": {
        "id": "GN876KFnnL3F",
        "colab_type": "code",
        "colab": {}
      },
      "source": [
        "random.seed(seed)\n",
        "os.environ['PYTHONHASHSEED'] = str(seed)\n",
        "np.random.seed(seed)\n",
        "torch.manual_seed(seed)\n",
        "if torch.cuda.is_available(): \n",
        "  torch.cuda.manual_seed(seed)\n",
        "  torch.cuda.manual_seed_all(seed)\n",
        "  torch.backends.cudnn.deterministic = True\n",
        "  torch.backends.cudnn.benchmark = False"
      ],
      "execution_count": null,
      "outputs": []
    },
    {
      "cell_type": "markdown",
      "metadata": {
        "id": "3k53oValavVw",
        "colab_type": "text"
      },
      "source": [
        "# Read Data"
      ]
    },
    {
      "cell_type": "code",
      "metadata": {
        "id": "bUj5lTR8az89",
        "colab_type": "code",
        "colab": {}
      },
      "source": [
        "path = './../data/'"
      ],
      "execution_count": null,
      "outputs": []
    },
    {
      "cell_type": "code",
      "metadata": {
        "id": "rLKKM3Fla6ST",
        "colab_type": "code",
        "colab": {}
      },
      "source": [
        "train = pd.read_csv(path+'final_train.csv')\n",
        "test = pd.read_csv(path+'final_test.csv')"
      ],
      "execution_count": null,
      "outputs": []
    },
    {
      "cell_type": "code",
      "metadata": {
        "id": "bPiNmBGF44sH",
        "colab_type": "code",
        "colab": {}
      },
      "source": [
        "train.head()"
      ],
      "execution_count": null,
      "outputs": []
    },
    {
      "cell_type": "code",
      "metadata": {
        "id": "1RzEMHM4qAPp",
        "colab_type": "code",
        "colab": {
          "base_uri": "https://localhost:8080/",
          "height": 204
        },
        "outputId": "a482a98a-aea3-4f51-a632-51a3305b5510"
      },
      "source": [
        "test.head()"
      ],
      "execution_count": null,
      "outputs": [
        {
          "output_type": "execute_result",
          "data": {
            "text/html": [
              "<div>\n",
              "<style scoped>\n",
              "    .dataframe tbody tr th:only-of-type {\n",
              "        vertical-align: middle;\n",
              "    }\n",
              "\n",
              "    .dataframe tbody tr th {\n",
              "        vertical-align: top;\n",
              "    }\n",
              "\n",
              "    .dataframe thead th {\n",
              "        text-align: right;\n",
              "    }\n",
              "</style>\n",
              "<table border=\"1\" class=\"dataframe\">\n",
              "  <thead>\n",
              "    <tr style=\"text-align: right;\">\n",
              "      <th></th>\n",
              "      <th>ID</th>\n",
              "      <th>text</th>\n",
              "    </tr>\n",
              "  </thead>\n",
              "  <tbody>\n",
              "    <tr>\n",
              "      <th>0</th>\n",
              "      <td>02V56KMO</td>\n",
              "      <td>how to overcome bad feelings and emotions</td>\n",
              "    </tr>\n",
              "    <tr>\n",
              "      <th>1</th>\n",
              "      <td>03BMGTOK</td>\n",
              "      <td>i feel like giving up in life</td>\n",
              "    </tr>\n",
              "    <tr>\n",
              "      <th>2</th>\n",
              "      <td>03LZVFM6</td>\n",
              "      <td>i was so depressed feel like got no strength ...</td>\n",
              "    </tr>\n",
              "    <tr>\n",
              "      <th>3</th>\n",
              "      <td>0EPULUM5</td>\n",
              "      <td>i feel so low especially since i had no one t...</td>\n",
              "    </tr>\n",
              "    <tr>\n",
              "      <th>4</th>\n",
              "      <td>0GM4C5GD</td>\n",
              "      <td>can i be successful when i am a drug addict ?</td>\n",
              "    </tr>\n",
              "  </tbody>\n",
              "</table>\n",
              "</div>"
            ],
            "text/plain": [
              "         ID                                               text\n",
              "0  02V56KMO          how to overcome bad feelings and emotions\n",
              "1  03BMGTOK                     i feel like giving up in life \n",
              "2  03LZVFM6   i was so depressed feel like got no strength ...\n",
              "3  0EPULUM5   i feel so low especially since i had no one t...\n",
              "4  0GM4C5GD     can i be successful when i am a drug addict ? "
            ]
          },
          "metadata": {
            "tags": []
          },
          "execution_count": 12
        }
      ]
    },
    {
      "cell_type": "markdown",
      "metadata": {
        "id": "fXeWNI3hco0z",
        "colab_type": "text"
      },
      "source": [
        "# Utilities"
      ]
    },
    {
      "cell_type": "code",
      "metadata": {
        "id": "VO-0ZP58czDW",
        "colab_type": "code",
        "colab": {}
      },
      "source": [
        "class TranslateDataset(Dataset):\n",
        "  def __init__(self, df):\n",
        "    super(TranslateDataset, self).__init__()\n",
        "    self.df = df\n",
        "\n",
        "  def  __len__(self):\n",
        "    return len(self.df)\n",
        "\n",
        "  def __getitem__(self, idx):\n",
        "    return self.df.loc[idx, 'text']"
      ],
      "execution_count": null,
      "outputs": []
    },
    {
      "cell_type": "code",
      "metadata": {
        "id": "yFJpkG--cyt1",
        "colab_type": "code",
        "colab": {}
      },
      "source": [
        "class TranslateLoader:\n",
        "  def __init__(self, ds, bs):\n",
        "    self.ds = ds\n",
        "    self.bs = bs\n",
        "    self.count = 0\n",
        "    self.szs = len(ds)\n",
        "    self.maxs = self.szs//bs\n",
        "    if self.szs % bs != 0:\n",
        "      self.maxs += 1\n",
        "\n",
        "  def __len__(self):\n",
        "    return self.maxs\n",
        "\n",
        "  def __iter__(self):\n",
        "    return self\n",
        "\n",
        "  def __next__(self):\n",
        "    if self.count >= self.maxs:\n",
        "      raise StopIteration\n",
        "    \n",
        "    idxs = list(range(self.count*self.bs, min( (self.count+1)*self.bs, self.szs ) ))\n",
        "    batch = [ self.ds[i] for i in idxs]\n",
        "    self.count += 1\n",
        "\n",
        "    return batch"
      ],
      "execution_count": null,
      "outputs": []
    },
    {
      "cell_type": "markdown",
      "metadata": {
        "id": "lCyhdACUcZJr",
        "colab_type": "text"
      },
      "source": [
        "#Translation"
      ]
    },
    {
      "cell_type": "code",
      "metadata": {
        "id": "cs57ZGYgZGMW",
        "colab_type": "code",
        "colab": {}
      },
      "source": [
        "src = 'en'  # source language\n",
        "trg = 'fr'  # target language\n",
        "mname = f'Helsinki-NLP/opus-mt-{src}-{trg}'"
      ],
      "execution_count": null,
      "outputs": []
    },
    {
      "cell_type": "code",
      "metadata": {
        "id": "F9HktlsOZGKx",
        "colab_type": "code",
        "colab": {
          "base_uri": "https://localhost:8080/",
          "height": 105
        },
        "outputId": "9e5d4825-5636-415a-fc9e-0ae276f64465"
      },
      "source": [
        "model = MarianMTModel.from_pretrained(mname)\n",
        "tok = MarianTokenizer.from_pretrained(mname)"
      ],
      "execution_count": null,
      "outputs": [
        {
          "output_type": "stream",
          "text": [
            "/usr/local/lib/python3.6/dist-packages/transformers/tokenization_utils.py:831: FutureWarning: Parameter max_len is deprecated and will be removed in a future release. Use model_max_length instead.\n",
            "  category=FutureWarning,\n",
            "/usr/local/lib/python3.6/dist-packages/transformers/tokenization_marian.py:97: UserWarning: Recommended: pip install mosestokenizer\n",
            "  warnings.warn(\"Recommended: pip install mosestokenizer\")\n"
          ],
          "name": "stderr"
        }
      ]
    },
    {
      "cell_type": "code",
      "metadata": {
        "id": "GrhFC3C7ZGIF",
        "colab_type": "code",
        "colab": {}
      },
      "source": [
        "ds_train = TranslateDataset(train)\n",
        "ds_test = TranslateDataset(test)\n",
        "\n",
        "dl_train = TranslateLoader(ds_train, bs=32)\n",
        "dl_test = TranslateLoader(ds_test, bs=32)"
      ],
      "execution_count": null,
      "outputs": []
    },
    {
      "cell_type": "code",
      "metadata": {
        "id": "YqthxHwKd2wA",
        "colab_type": "code",
        "colab": {}
      },
      "source": [
        "def translate(dl):\n",
        "  translated = []\n",
        "\n",
        "  for _ in tqdm(range(len(dl)), desc='Translation'):\n",
        "    data = next(dl)\n",
        "    batch = tok.prepare_translation_batch(src_texts=data)\n",
        "    gen = model.generate(**batch)\n",
        "    translated += tok.batch_decode(gen, skip_special_tokens=True)\n",
        "\n",
        "  return translated"
      ],
      "execution_count": null,
      "outputs": []
    },
    {
      "cell_type": "code",
      "metadata": {
        "id": "87vcjse3ZGFv",
        "colab_type": "code",
        "colab": {}
      },
      "source": [
        "translated_train = translate(dl_train)"
      ],
      "execution_count": null,
      "outputs": []
    },
    {
      "cell_type": "code",
      "metadata": {
        "id": "QaRIiYsNlriW",
        "colab_type": "code",
        "colab": {}
      },
      "source": [
        "translated_test = translate(dl_test)"
      ],
      "execution_count": null,
      "outputs": []
    },
    {
      "cell_type": "code",
      "metadata": {
        "id": "ZGZMmu2-qfes",
        "colab_type": "code",
        "colab": {
          "base_uri": "https://localhost:8080/",
          "height": 34
        },
        "outputId": "1e6421cc-7184-4525-9f10-928f6b6cddcc"
      },
      "source": [
        "len(translated_train), len(train)"
      ],
      "execution_count": null,
      "outputs": [
        {
          "output_type": "execute_result",
          "data": {
            "text/plain": [
              "(597, 597)"
            ]
          },
          "metadata": {
            "tags": []
          },
          "execution_count": 21
        }
      ]
    },
    {
      "cell_type": "code",
      "metadata": {
        "id": "ZLrWUq_blrfW",
        "colab_type": "code",
        "colab": {}
      },
      "source": [
        "train[f'translation_{src}_to_{trg}'] = translated_train\n",
        "test[f'translation_{src}_to_{trg}'] = translated_test"
      ],
      "execution_count": null,
      "outputs": []
    },
    {
      "cell_type": "code",
      "metadata": {
        "id": "JWAgja6_mRX2",
        "colab_type": "code",
        "colab": {
          "base_uri": "https://localhost:8080/",
          "height": 272
        },
        "outputId": "39135a45-bfc4-47e3-a4f7-c359811fbf5a"
      },
      "source": [
        "train.head()"
      ],
      "execution_count": null,
      "outputs": [
        {
          "output_type": "execute_result",
          "data": {
            "text/html": [
              "<div>\n",
              "<style scoped>\n",
              "    .dataframe tbody tr th:only-of-type {\n",
              "        vertical-align: middle;\n",
              "    }\n",
              "\n",
              "    .dataframe tbody tr th {\n",
              "        vertical-align: top;\n",
              "    }\n",
              "\n",
              "    .dataframe thead th {\n",
              "        text-align: right;\n",
              "    }\n",
              "</style>\n",
              "<table border=\"1\" class=\"dataframe\">\n",
              "  <thead>\n",
              "    <tr style=\"text-align: right;\">\n",
              "      <th></th>\n",
              "      <th>ID</th>\n",
              "      <th>text</th>\n",
              "      <th>label</th>\n",
              "      <th>Depression</th>\n",
              "      <th>Alcohol</th>\n",
              "      <th>Suicide</th>\n",
              "      <th>Drugs</th>\n",
              "      <th>translation_en_to_fr</th>\n",
              "    </tr>\n",
              "  </thead>\n",
              "  <tbody>\n",
              "    <tr>\n",
              "      <th>0</th>\n",
              "      <td>SUAVK39Z</td>\n",
              "      <td>i feel that it was better i die am happy</td>\n",
              "      <td>0</td>\n",
              "      <td>1</td>\n",
              "      <td>0</td>\n",
              "      <td>0</td>\n",
              "      <td>0</td>\n",
              "      <td>J'ai l'impression que c'était mieux que je meu...</td>\n",
              "    </tr>\n",
              "    <tr>\n",
              "      <th>1</th>\n",
              "      <td>9JDAGUV3</td>\n",
              "      <td>why do i get hallucinations ?</td>\n",
              "      <td>3</td>\n",
              "      <td>0</td>\n",
              "      <td>0</td>\n",
              "      <td>0</td>\n",
              "      <td>1</td>\n",
              "      <td>Pourquoi ai-je des hallucinations?</td>\n",
              "    </tr>\n",
              "    <tr>\n",
              "      <th>2</th>\n",
              "      <td>419WR1LQ</td>\n",
              "      <td>i am stressed due to lack of financial suppor...</td>\n",
              "      <td>0</td>\n",
              "      <td>1</td>\n",
              "      <td>0</td>\n",
              "      <td>0</td>\n",
              "      <td>0</td>\n",
              "      <td>Je suis stressé en raison du manque de soutien...</td>\n",
              "    </tr>\n",
              "    <tr>\n",
              "      <th>3</th>\n",
              "      <td>6UY7DX6Q</td>\n",
              "      <td>why is life important ?</td>\n",
              "      <td>2</td>\n",
              "      <td>0</td>\n",
              "      <td>0</td>\n",
              "      <td>1</td>\n",
              "      <td>0</td>\n",
              "      <td>Pourquoi la vie est-elle importante?</td>\n",
              "    </tr>\n",
              "    <tr>\n",
              "      <th>4</th>\n",
              "      <td>FYC0FTFB</td>\n",
              "      <td>how could i be helped to go through the depre...</td>\n",
              "      <td>0</td>\n",
              "      <td>1</td>\n",
              "      <td>0</td>\n",
              "      <td>0</td>\n",
              "      <td>0</td>\n",
              "      <td>Comment pourrais-je être aidé à traverser la d...</td>\n",
              "    </tr>\n",
              "  </tbody>\n",
              "</table>\n",
              "</div>"
            ],
            "text/plain": [
              "         ID  ...                               translation_en_to_fr\n",
              "0  SUAVK39Z  ...  J'ai l'impression que c'était mieux que je meu...\n",
              "1  9JDAGUV3  ...                 Pourquoi ai-je des hallucinations?\n",
              "2  419WR1LQ  ...  Je suis stressé en raison du manque de soutien...\n",
              "3  6UY7DX6Q  ...               Pourquoi la vie est-elle importante?\n",
              "4  FYC0FTFB  ...  Comment pourrais-je être aidé à traverser la d...\n",
              "\n",
              "[5 rows x 8 columns]"
            ]
          },
          "metadata": {
            "tags": []
          },
          "execution_count": 23
        }
      ]
    },
    {
      "cell_type": "code",
      "metadata": {
        "id": "tK6PyGyBmT41",
        "colab_type": "code",
        "colab": {
          "base_uri": "https://localhost:8080/",
          "height": 204
        },
        "outputId": "7dfa3bfe-d4d3-4a0a-db9d-b71d43a1ecd4"
      },
      "source": [
        "test.head()"
      ],
      "execution_count": null,
      "outputs": [
        {
          "output_type": "execute_result",
          "data": {
            "text/html": [
              "<div>\n",
              "<style scoped>\n",
              "    .dataframe tbody tr th:only-of-type {\n",
              "        vertical-align: middle;\n",
              "    }\n",
              "\n",
              "    .dataframe tbody tr th {\n",
              "        vertical-align: top;\n",
              "    }\n",
              "\n",
              "    .dataframe thead th {\n",
              "        text-align: right;\n",
              "    }\n",
              "</style>\n",
              "<table border=\"1\" class=\"dataframe\">\n",
              "  <thead>\n",
              "    <tr style=\"text-align: right;\">\n",
              "      <th></th>\n",
              "      <th>ID</th>\n",
              "      <th>text</th>\n",
              "      <th>translation_en_to_fr</th>\n",
              "    </tr>\n",
              "  </thead>\n",
              "  <tbody>\n",
              "    <tr>\n",
              "      <th>0</th>\n",
              "      <td>02V56KMO</td>\n",
              "      <td>how to overcome bad feelings and emotions</td>\n",
              "      <td>comment surmonter les mauvais sentiments et le...</td>\n",
              "    </tr>\n",
              "    <tr>\n",
              "      <th>1</th>\n",
              "      <td>03BMGTOK</td>\n",
              "      <td>i feel like giving up in life</td>\n",
              "      <td>J'ai envie d'abandonner dans la vie.</td>\n",
              "    </tr>\n",
              "    <tr>\n",
              "      <th>2</th>\n",
              "      <td>03LZVFM6</td>\n",
              "      <td>i was so depressed feel like got no strength ...</td>\n",
              "      <td>J'étais tellement déprimé que j'avais l'impres...</td>\n",
              "    </tr>\n",
              "    <tr>\n",
              "      <th>3</th>\n",
              "      <td>0EPULUM5</td>\n",
              "      <td>i feel so low especially since i had no one t...</td>\n",
              "      <td>Je me sens si faible d'autant plus que je n'av...</td>\n",
              "    </tr>\n",
              "    <tr>\n",
              "      <th>4</th>\n",
              "      <td>0GM4C5GD</td>\n",
              "      <td>can i be successful when i am a drug addict ?</td>\n",
              "      <td>Puis-je réussir quand je suis toxicomane?</td>\n",
              "    </tr>\n",
              "  </tbody>\n",
              "</table>\n",
              "</div>"
            ],
            "text/plain": [
              "         ID  ...                               translation_en_to_fr\n",
              "0  02V56KMO  ...  comment surmonter les mauvais sentiments et le...\n",
              "1  03BMGTOK  ...               J'ai envie d'abandonner dans la vie.\n",
              "2  03LZVFM6  ...  J'étais tellement déprimé que j'avais l'impres...\n",
              "3  0EPULUM5  ...  Je me sens si faible d'autant plus que je n'av...\n",
              "4  0GM4C5GD  ...          Puis-je réussir quand je suis toxicomane?\n",
              "\n",
              "[5 rows x 3 columns]"
            ]
          },
          "metadata": {
            "tags": []
          },
          "execution_count": 24
        }
      ]
    },
    {
      "cell_type": "markdown",
      "metadata": {
        "id": "a7CszUV_7k2c",
        "colab_type": "text"
      },
      "source": [
        "# Save everyrhing"
      ]
    },
    {
      "cell_type": "code",
      "metadata": {
        "id": "YJk5Rm3rmRU-",
        "colab_type": "code",
        "colab": {}
      },
      "source": [
        "train.to_csv(path + 'train_translated_to_french.csv', index=False)"
      ],
      "execution_count": null,
      "outputs": []
    },
    {
      "cell_type": "code",
      "metadata": {
        "id": "Pt1EyBzBmRSB",
        "colab_type": "code",
        "colab": {}
      },
      "source": [
        "test.to_csv(path + 'test_translated_to_french.csv', index=False)"
      ],
      "execution_count": null,
      "outputs": []
    },
    {
      "cell_type": "code",
      "metadata": {
        "id": "RJFThCNimRPw",
        "colab_type": "code",
        "colab": {}
      },
      "source": [
        ""
      ],
      "execution_count": null,
      "outputs": []
    }
  ]
}