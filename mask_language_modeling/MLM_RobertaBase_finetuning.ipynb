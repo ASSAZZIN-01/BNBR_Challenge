{
  "nbformat": 4,
  "nbformat_minor": 0,
  "metadata": {
    "colab": {
      "name": "MLM_RobertaBase_finetuning.ipynb",
      "provenance": [],
      "collapsed_sections": [],
      "toc_visible": true,
      "machine_shape": "hm",
      "include_colab_link": true
    },
    "kernelspec": {
      "name": "python3",
      "display_name": "Python 3"
    },
    "accelerator": "GPU",
    "widgets": {
      "application/vnd.jupyter.widget-state+json": {
        "a839270b8821446cbcfcdc4c620c1727": {
          "model_module": "@jupyter-widgets/controls",
          "model_name": "HBoxModel",
          "state": {
            "_view_name": "HBoxView",
            "_dom_classes": [],
            "_model_name": "HBoxModel",
            "_view_module": "@jupyter-widgets/controls",
            "_model_module_version": "1.5.0",
            "_view_count": null,
            "_view_module_version": "1.5.0",
            "box_style": "",
            "layout": "IPY_MODEL_e31b5620afdc406685d4974934ebbd2b",
            "_model_module": "@jupyter-widgets/controls",
            "children": [
              "IPY_MODEL_cdf7bdb3729b4310a1b3a3379c3b596d",
              "IPY_MODEL_9acd3db9da2343d1b8b1dea3d11c909a"
            ]
          }
        },
        "e31b5620afdc406685d4974934ebbd2b": {
          "model_module": "@jupyter-widgets/base",
          "model_name": "LayoutModel",
          "state": {
            "_view_name": "LayoutView",
            "grid_template_rows": null,
            "right": null,
            "justify_content": null,
            "_view_module": "@jupyter-widgets/base",
            "overflow": null,
            "_model_module_version": "1.2.0",
            "_view_count": null,
            "flex_flow": null,
            "width": null,
            "min_width": null,
            "border": null,
            "align_items": null,
            "bottom": null,
            "_model_module": "@jupyter-widgets/base",
            "top": null,
            "grid_column": null,
            "overflow_y": null,
            "overflow_x": null,
            "grid_auto_flow": null,
            "grid_area": null,
            "grid_template_columns": null,
            "flex": null,
            "_model_name": "LayoutModel",
            "justify_items": null,
            "grid_row": null,
            "max_height": null,
            "align_content": null,
            "visibility": null,
            "align_self": null,
            "height": null,
            "min_height": null,
            "padding": null,
            "grid_auto_rows": null,
            "grid_gap": null,
            "max_width": null,
            "order": null,
            "_view_module_version": "1.2.0",
            "grid_template_areas": null,
            "object_position": null,
            "object_fit": null,
            "grid_auto_columns": null,
            "margin": null,
            "display": null,
            "left": null
          }
        },
        "cdf7bdb3729b4310a1b3a3379c3b596d": {
          "model_module": "@jupyter-widgets/controls",
          "model_name": "FloatProgressModel",
          "state": {
            "_view_name": "ProgressView",
            "style": "IPY_MODEL_1108720b027d41ababd8a25df59e9210",
            "_dom_classes": [],
            "description": "Downloading: 100%",
            "_model_name": "FloatProgressModel",
            "bar_style": "success",
            "max": 481,
            "_view_module": "@jupyter-widgets/controls",
            "_model_module_version": "1.5.0",
            "value": 481,
            "_view_count": null,
            "_view_module_version": "1.5.0",
            "orientation": "horizontal",
            "min": 0,
            "description_tooltip": null,
            "_model_module": "@jupyter-widgets/controls",
            "layout": "IPY_MODEL_08a2780fb31b4a05a34bcd681d3bf695"
          }
        },
        "9acd3db9da2343d1b8b1dea3d11c909a": {
          "model_module": "@jupyter-widgets/controls",
          "model_name": "HTMLModel",
          "state": {
            "_view_name": "HTMLView",
            "style": "IPY_MODEL_57a87315594542ee96a9440a91409023",
            "_dom_classes": [],
            "description": "",
            "_model_name": "HTMLModel",
            "placeholder": "​",
            "_view_module": "@jupyter-widgets/controls",
            "_model_module_version": "1.5.0",
            "value": " 481/481 [00:34&lt;00:00, 13.8B/s]",
            "_view_count": null,
            "_view_module_version": "1.5.0",
            "description_tooltip": null,
            "_model_module": "@jupyter-widgets/controls",
            "layout": "IPY_MODEL_73a1abde8d57452ab27b65cf71e503fa"
          }
        },
        "1108720b027d41ababd8a25df59e9210": {
          "model_module": "@jupyter-widgets/controls",
          "model_name": "ProgressStyleModel",
          "state": {
            "_view_name": "StyleView",
            "_model_name": "ProgressStyleModel",
            "description_width": "initial",
            "_view_module": "@jupyter-widgets/base",
            "_model_module_version": "1.5.0",
            "_view_count": null,
            "_view_module_version": "1.2.0",
            "bar_color": null,
            "_model_module": "@jupyter-widgets/controls"
          }
        },
        "08a2780fb31b4a05a34bcd681d3bf695": {
          "model_module": "@jupyter-widgets/base",
          "model_name": "LayoutModel",
          "state": {
            "_view_name": "LayoutView",
            "grid_template_rows": null,
            "right": null,
            "justify_content": null,
            "_view_module": "@jupyter-widgets/base",
            "overflow": null,
            "_model_module_version": "1.2.0",
            "_view_count": null,
            "flex_flow": null,
            "width": null,
            "min_width": null,
            "border": null,
            "align_items": null,
            "bottom": null,
            "_model_module": "@jupyter-widgets/base",
            "top": null,
            "grid_column": null,
            "overflow_y": null,
            "overflow_x": null,
            "grid_auto_flow": null,
            "grid_area": null,
            "grid_template_columns": null,
            "flex": null,
            "_model_name": "LayoutModel",
            "justify_items": null,
            "grid_row": null,
            "max_height": null,
            "align_content": null,
            "visibility": null,
            "align_self": null,
            "height": null,
            "min_height": null,
            "padding": null,
            "grid_auto_rows": null,
            "grid_gap": null,
            "max_width": null,
            "order": null,
            "_view_module_version": "1.2.0",
            "grid_template_areas": null,
            "object_position": null,
            "object_fit": null,
            "grid_auto_columns": null,
            "margin": null,
            "display": null,
            "left": null
          }
        },
        "57a87315594542ee96a9440a91409023": {
          "model_module": "@jupyter-widgets/controls",
          "model_name": "DescriptionStyleModel",
          "state": {
            "_view_name": "StyleView",
            "_model_name": "DescriptionStyleModel",
            "description_width": "",
            "_view_module": "@jupyter-widgets/base",
            "_model_module_version": "1.5.0",
            "_view_count": null,
            "_view_module_version": "1.2.0",
            "_model_module": "@jupyter-widgets/controls"
          }
        },
        "73a1abde8d57452ab27b65cf71e503fa": {
          "model_module": "@jupyter-widgets/base",
          "model_name": "LayoutModel",
          "state": {
            "_view_name": "LayoutView",
            "grid_template_rows": null,
            "right": null,
            "justify_content": null,
            "_view_module": "@jupyter-widgets/base",
            "overflow": null,
            "_model_module_version": "1.2.0",
            "_view_count": null,
            "flex_flow": null,
            "width": null,
            "min_width": null,
            "border": null,
            "align_items": null,
            "bottom": null,
            "_model_module": "@jupyter-widgets/base",
            "top": null,
            "grid_column": null,
            "overflow_y": null,
            "overflow_x": null,
            "grid_auto_flow": null,
            "grid_area": null,
            "grid_template_columns": null,
            "flex": null,
            "_model_name": "LayoutModel",
            "justify_items": null,
            "grid_row": null,
            "max_height": null,
            "align_content": null,
            "visibility": null,
            "align_self": null,
            "height": null,
            "min_height": null,
            "padding": null,
            "grid_auto_rows": null,
            "grid_gap": null,
            "max_width": null,
            "order": null,
            "_view_module_version": "1.2.0",
            "grid_template_areas": null,
            "object_position": null,
            "object_fit": null,
            "grid_auto_columns": null,
            "margin": null,
            "display": null,
            "left": null
          }
        },
        "e476059998ef4495af86a6c627125506": {
          "model_module": "@jupyter-widgets/controls",
          "model_name": "HBoxModel",
          "state": {
            "_view_name": "HBoxView",
            "_dom_classes": [],
            "_model_name": "HBoxModel",
            "_view_module": "@jupyter-widgets/controls",
            "_model_module_version": "1.5.0",
            "_view_count": null,
            "_view_module_version": "1.5.0",
            "box_style": "",
            "layout": "IPY_MODEL_307618d687b647e99bc566999e9513e6",
            "_model_module": "@jupyter-widgets/controls",
            "children": [
              "IPY_MODEL_81d1da575f544a459b879f638a62ef57",
              "IPY_MODEL_a99d9d3e9d6e4a568f67a0955d355d19"
            ]
          }
        },
        "307618d687b647e99bc566999e9513e6": {
          "model_module": "@jupyter-widgets/base",
          "model_name": "LayoutModel",
          "state": {
            "_view_name": "LayoutView",
            "grid_template_rows": null,
            "right": null,
            "justify_content": null,
            "_view_module": "@jupyter-widgets/base",
            "overflow": null,
            "_model_module_version": "1.2.0",
            "_view_count": null,
            "flex_flow": null,
            "width": null,
            "min_width": null,
            "border": null,
            "align_items": null,
            "bottom": null,
            "_model_module": "@jupyter-widgets/base",
            "top": null,
            "grid_column": null,
            "overflow_y": null,
            "overflow_x": null,
            "grid_auto_flow": null,
            "grid_area": null,
            "grid_template_columns": null,
            "flex": null,
            "_model_name": "LayoutModel",
            "justify_items": null,
            "grid_row": null,
            "max_height": null,
            "align_content": null,
            "visibility": null,
            "align_self": null,
            "height": null,
            "min_height": null,
            "padding": null,
            "grid_auto_rows": null,
            "grid_gap": null,
            "max_width": null,
            "order": null,
            "_view_module_version": "1.2.0",
            "grid_template_areas": null,
            "object_position": null,
            "object_fit": null,
            "grid_auto_columns": null,
            "margin": null,
            "display": null,
            "left": null
          }
        },
        "81d1da575f544a459b879f638a62ef57": {
          "model_module": "@jupyter-widgets/controls",
          "model_name": "FloatProgressModel",
          "state": {
            "_view_name": "ProgressView",
            "style": "IPY_MODEL_a81aacae11ef4512a7ce51582f9975ec",
            "_dom_classes": [],
            "description": "Downloading: 100%",
            "_model_name": "FloatProgressModel",
            "bar_style": "success",
            "max": 898823,
            "_view_module": "@jupyter-widgets/controls",
            "_model_module_version": "1.5.0",
            "value": 898823,
            "_view_count": null,
            "_view_module_version": "1.5.0",
            "orientation": "horizontal",
            "min": 0,
            "description_tooltip": null,
            "_model_module": "@jupyter-widgets/controls",
            "layout": "IPY_MODEL_2ab6560543464e69b3b49032aecbf01c"
          }
        },
        "a99d9d3e9d6e4a568f67a0955d355d19": {
          "model_module": "@jupyter-widgets/controls",
          "model_name": "HTMLModel",
          "state": {
            "_view_name": "HTMLView",
            "style": "IPY_MODEL_fad51708e32c43f7aea9f81a938a6ac2",
            "_dom_classes": [],
            "description": "",
            "_model_name": "HTMLModel",
            "placeholder": "​",
            "_view_module": "@jupyter-widgets/controls",
            "_model_module_version": "1.5.0",
            "value": " 899k/899k [00:02&lt;00:00, 362kB/s]",
            "_view_count": null,
            "_view_module_version": "1.5.0",
            "description_tooltip": null,
            "_model_module": "@jupyter-widgets/controls",
            "layout": "IPY_MODEL_37b51fc05c044f78ba23983313bc45c5"
          }
        },
        "a81aacae11ef4512a7ce51582f9975ec": {
          "model_module": "@jupyter-widgets/controls",
          "model_name": "ProgressStyleModel",
          "state": {
            "_view_name": "StyleView",
            "_model_name": "ProgressStyleModel",
            "description_width": "initial",
            "_view_module": "@jupyter-widgets/base",
            "_model_module_version": "1.5.0",
            "_view_count": null,
            "_view_module_version": "1.2.0",
            "bar_color": null,
            "_model_module": "@jupyter-widgets/controls"
          }
        },
        "2ab6560543464e69b3b49032aecbf01c": {
          "model_module": "@jupyter-widgets/base",
          "model_name": "LayoutModel",
          "state": {
            "_view_name": "LayoutView",
            "grid_template_rows": null,
            "right": null,
            "justify_content": null,
            "_view_module": "@jupyter-widgets/base",
            "overflow": null,
            "_model_module_version": "1.2.0",
            "_view_count": null,
            "flex_flow": null,
            "width": null,
            "min_width": null,
            "border": null,
            "align_items": null,
            "bottom": null,
            "_model_module": "@jupyter-widgets/base",
            "top": null,
            "grid_column": null,
            "overflow_y": null,
            "overflow_x": null,
            "grid_auto_flow": null,
            "grid_area": null,
            "grid_template_columns": null,
            "flex": null,
            "_model_name": "LayoutModel",
            "justify_items": null,
            "grid_row": null,
            "max_height": null,
            "align_content": null,
            "visibility": null,
            "align_self": null,
            "height": null,
            "min_height": null,
            "padding": null,
            "grid_auto_rows": null,
            "grid_gap": null,
            "max_width": null,
            "order": null,
            "_view_module_version": "1.2.0",
            "grid_template_areas": null,
            "object_position": null,
            "object_fit": null,
            "grid_auto_columns": null,
            "margin": null,
            "display": null,
            "left": null
          }
        },
        "fad51708e32c43f7aea9f81a938a6ac2": {
          "model_module": "@jupyter-widgets/controls",
          "model_name": "DescriptionStyleModel",
          "state": {
            "_view_name": "StyleView",
            "_model_name": "DescriptionStyleModel",
            "description_width": "",
            "_view_module": "@jupyter-widgets/base",
            "_model_module_version": "1.5.0",
            "_view_count": null,
            "_view_module_version": "1.2.0",
            "_model_module": "@jupyter-widgets/controls"
          }
        },
        "37b51fc05c044f78ba23983313bc45c5": {
          "model_module": "@jupyter-widgets/base",
          "model_name": "LayoutModel",
          "state": {
            "_view_name": "LayoutView",
            "grid_template_rows": null,
            "right": null,
            "justify_content": null,
            "_view_module": "@jupyter-widgets/base",
            "overflow": null,
            "_model_module_version": "1.2.0",
            "_view_count": null,
            "flex_flow": null,
            "width": null,
            "min_width": null,
            "border": null,
            "align_items": null,
            "bottom": null,
            "_model_module": "@jupyter-widgets/base",
            "top": null,
            "grid_column": null,
            "overflow_y": null,
            "overflow_x": null,
            "grid_auto_flow": null,
            "grid_area": null,
            "grid_template_columns": null,
            "flex": null,
            "_model_name": "LayoutModel",
            "justify_items": null,
            "grid_row": null,
            "max_height": null,
            "align_content": null,
            "visibility": null,
            "align_self": null,
            "height": null,
            "min_height": null,
            "padding": null,
            "grid_auto_rows": null,
            "grid_gap": null,
            "max_width": null,
            "order": null,
            "_view_module_version": "1.2.0",
            "grid_template_areas": null,
            "object_position": null,
            "object_fit": null,
            "grid_auto_columns": null,
            "margin": null,
            "display": null,
            "left": null
          }
        },
        "4b41e8d3c7bd4b46852c504152681da4": {
          "model_module": "@jupyter-widgets/controls",
          "model_name": "HBoxModel",
          "state": {
            "_view_name": "HBoxView",
            "_dom_classes": [],
            "_model_name": "HBoxModel",
            "_view_module": "@jupyter-widgets/controls",
            "_model_module_version": "1.5.0",
            "_view_count": null,
            "_view_module_version": "1.5.0",
            "box_style": "",
            "layout": "IPY_MODEL_6be446578e7a46c4ad1eafb396e554ab",
            "_model_module": "@jupyter-widgets/controls",
            "children": [
              "IPY_MODEL_c21115e152f0497c8feff518fa29901a",
              "IPY_MODEL_026fcad5d3f243dfa48f05a72ebf09a3"
            ]
          }
        },
        "6be446578e7a46c4ad1eafb396e554ab": {
          "model_module": "@jupyter-widgets/base",
          "model_name": "LayoutModel",
          "state": {
            "_view_name": "LayoutView",
            "grid_template_rows": null,
            "right": null,
            "justify_content": null,
            "_view_module": "@jupyter-widgets/base",
            "overflow": null,
            "_model_module_version": "1.2.0",
            "_view_count": null,
            "flex_flow": null,
            "width": null,
            "min_width": null,
            "border": null,
            "align_items": null,
            "bottom": null,
            "_model_module": "@jupyter-widgets/base",
            "top": null,
            "grid_column": null,
            "overflow_y": null,
            "overflow_x": null,
            "grid_auto_flow": null,
            "grid_area": null,
            "grid_template_columns": null,
            "flex": null,
            "_model_name": "LayoutModel",
            "justify_items": null,
            "grid_row": null,
            "max_height": null,
            "align_content": null,
            "visibility": null,
            "align_self": null,
            "height": null,
            "min_height": null,
            "padding": null,
            "grid_auto_rows": null,
            "grid_gap": null,
            "max_width": null,
            "order": null,
            "_view_module_version": "1.2.0",
            "grid_template_areas": null,
            "object_position": null,
            "object_fit": null,
            "grid_auto_columns": null,
            "margin": null,
            "display": null,
            "left": null
          }
        },
        "c21115e152f0497c8feff518fa29901a": {
          "model_module": "@jupyter-widgets/controls",
          "model_name": "FloatProgressModel",
          "state": {
            "_view_name": "ProgressView",
            "style": "IPY_MODEL_d39318aa784e497eb0b825d2c07843af",
            "_dom_classes": [],
            "description": "Downloading: 100%",
            "_model_name": "FloatProgressModel",
            "bar_style": "success",
            "max": 456318,
            "_view_module": "@jupyter-widgets/controls",
            "_model_module_version": "1.5.0",
            "value": 456318,
            "_view_count": null,
            "_view_module_version": "1.5.0",
            "orientation": "horizontal",
            "min": 0,
            "description_tooltip": null,
            "_model_module": "@jupyter-widgets/controls",
            "layout": "IPY_MODEL_4ac75c1c5ca0442aa7457ba663aeeb5a"
          }
        },
        "026fcad5d3f243dfa48f05a72ebf09a3": {
          "model_module": "@jupyter-widgets/controls",
          "model_name": "HTMLModel",
          "state": {
            "_view_name": "HTMLView",
            "style": "IPY_MODEL_15a0ead4a6ce4b639912cd9528e77633",
            "_dom_classes": [],
            "description": "",
            "_model_name": "HTMLModel",
            "placeholder": "​",
            "_view_module": "@jupyter-widgets/controls",
            "_model_module_version": "1.5.0",
            "value": " 456k/456k [00:30&lt;00:00, 14.8kB/s]",
            "_view_count": null,
            "_view_module_version": "1.5.0",
            "description_tooltip": null,
            "_model_module": "@jupyter-widgets/controls",
            "layout": "IPY_MODEL_d412349d79254d3db859e67eddb14be1"
          }
        },
        "d39318aa784e497eb0b825d2c07843af": {
          "model_module": "@jupyter-widgets/controls",
          "model_name": "ProgressStyleModel",
          "state": {
            "_view_name": "StyleView",
            "_model_name": "ProgressStyleModel",
            "description_width": "initial",
            "_view_module": "@jupyter-widgets/base",
            "_model_module_version": "1.5.0",
            "_view_count": null,
            "_view_module_version": "1.2.0",
            "bar_color": null,
            "_model_module": "@jupyter-widgets/controls"
          }
        },
        "4ac75c1c5ca0442aa7457ba663aeeb5a": {
          "model_module": "@jupyter-widgets/base",
          "model_name": "LayoutModel",
          "state": {
            "_view_name": "LayoutView",
            "grid_template_rows": null,
            "right": null,
            "justify_content": null,
            "_view_module": "@jupyter-widgets/base",
            "overflow": null,
            "_model_module_version": "1.2.0",
            "_view_count": null,
            "flex_flow": null,
            "width": null,
            "min_width": null,
            "border": null,
            "align_items": null,
            "bottom": null,
            "_model_module": "@jupyter-widgets/base",
            "top": null,
            "grid_column": null,
            "overflow_y": null,
            "overflow_x": null,
            "grid_auto_flow": null,
            "grid_area": null,
            "grid_template_columns": null,
            "flex": null,
            "_model_name": "LayoutModel",
            "justify_items": null,
            "grid_row": null,
            "max_height": null,
            "align_content": null,
            "visibility": null,
            "align_self": null,
            "height": null,
            "min_height": null,
            "padding": null,
            "grid_auto_rows": null,
            "grid_gap": null,
            "max_width": null,
            "order": null,
            "_view_module_version": "1.2.0",
            "grid_template_areas": null,
            "object_position": null,
            "object_fit": null,
            "grid_auto_columns": null,
            "margin": null,
            "display": null,
            "left": null
          }
        },
        "15a0ead4a6ce4b639912cd9528e77633": {
          "model_module": "@jupyter-widgets/controls",
          "model_name": "DescriptionStyleModel",
          "state": {
            "_view_name": "StyleView",
            "_model_name": "DescriptionStyleModel",
            "description_width": "",
            "_view_module": "@jupyter-widgets/base",
            "_model_module_version": "1.5.0",
            "_view_count": null,
            "_view_module_version": "1.2.0",
            "_model_module": "@jupyter-widgets/controls"
          }
        },
        "d412349d79254d3db859e67eddb14be1": {
          "model_module": "@jupyter-widgets/base",
          "model_name": "LayoutModel",
          "state": {
            "_view_name": "LayoutView",
            "grid_template_rows": null,
            "right": null,
            "justify_content": null,
            "_view_module": "@jupyter-widgets/base",
            "overflow": null,
            "_model_module_version": "1.2.0",
            "_view_count": null,
            "flex_flow": null,
            "width": null,
            "min_width": null,
            "border": null,
            "align_items": null,
            "bottom": null,
            "_model_module": "@jupyter-widgets/base",
            "top": null,
            "grid_column": null,
            "overflow_y": null,
            "overflow_x": null,
            "grid_auto_flow": null,
            "grid_area": null,
            "grid_template_columns": null,
            "flex": null,
            "_model_name": "LayoutModel",
            "justify_items": null,
            "grid_row": null,
            "max_height": null,
            "align_content": null,
            "visibility": null,
            "align_self": null,
            "height": null,
            "min_height": null,
            "padding": null,
            "grid_auto_rows": null,
            "grid_gap": null,
            "max_width": null,
            "order": null,
            "_view_module_version": "1.2.0",
            "grid_template_areas": null,
            "object_position": null,
            "object_fit": null,
            "grid_auto_columns": null,
            "margin": null,
            "display": null,
            "left": null
          }
        },
        "41b5a8bc1655457a9bdc8120e601d332": {
          "model_module": "@jupyter-widgets/controls",
          "model_name": "HBoxModel",
          "state": {
            "_view_name": "HBoxView",
            "_dom_classes": [],
            "_model_name": "HBoxModel",
            "_view_module": "@jupyter-widgets/controls",
            "_model_module_version": "1.5.0",
            "_view_count": null,
            "_view_module_version": "1.5.0",
            "box_style": "",
            "layout": "IPY_MODEL_a262d4818ffb4a02aa703f1cc756ba8b",
            "_model_module": "@jupyter-widgets/controls",
            "children": [
              "IPY_MODEL_3e63696d57d14a73bf2340afe9b96ad0",
              "IPY_MODEL_1e83b883bfcc465fb5d7befe9462cfa2"
            ]
          }
        },
        "a262d4818ffb4a02aa703f1cc756ba8b": {
          "model_module": "@jupyter-widgets/base",
          "model_name": "LayoutModel",
          "state": {
            "_view_name": "LayoutView",
            "grid_template_rows": null,
            "right": null,
            "justify_content": null,
            "_view_module": "@jupyter-widgets/base",
            "overflow": null,
            "_model_module_version": "1.2.0",
            "_view_count": null,
            "flex_flow": null,
            "width": null,
            "min_width": null,
            "border": null,
            "align_items": null,
            "bottom": null,
            "_model_module": "@jupyter-widgets/base",
            "top": null,
            "grid_column": null,
            "overflow_y": null,
            "overflow_x": null,
            "grid_auto_flow": null,
            "grid_area": null,
            "grid_template_columns": null,
            "flex": null,
            "_model_name": "LayoutModel",
            "justify_items": null,
            "grid_row": null,
            "max_height": null,
            "align_content": null,
            "visibility": null,
            "align_self": null,
            "height": null,
            "min_height": null,
            "padding": null,
            "grid_auto_rows": null,
            "grid_gap": null,
            "max_width": null,
            "order": null,
            "_view_module_version": "1.2.0",
            "grid_template_areas": null,
            "object_position": null,
            "object_fit": null,
            "grid_auto_columns": null,
            "margin": null,
            "display": null,
            "left": null
          }
        },
        "3e63696d57d14a73bf2340afe9b96ad0": {
          "model_module": "@jupyter-widgets/controls",
          "model_name": "FloatProgressModel",
          "state": {
            "_view_name": "ProgressView",
            "style": "IPY_MODEL_2407f54da6144f47b82bc24b0cea368b",
            "_dom_classes": [],
            "description": "Downloading: 100%",
            "_model_name": "FloatProgressModel",
            "bar_style": "success",
            "max": 501200538,
            "_view_module": "@jupyter-widgets/controls",
            "_model_module_version": "1.5.0",
            "value": 501200538,
            "_view_count": null,
            "_view_module_version": "1.5.0",
            "orientation": "horizontal",
            "min": 0,
            "description_tooltip": null,
            "_model_module": "@jupyter-widgets/controls",
            "layout": "IPY_MODEL_a96d1fef100d41e890f8a35c115d5ea1"
          }
        },
        "1e83b883bfcc465fb5d7befe9462cfa2": {
          "model_module": "@jupyter-widgets/controls",
          "model_name": "HTMLModel",
          "state": {
            "_view_name": "HTMLView",
            "style": "IPY_MODEL_f0b69f684a0b47beaad5b319a593d19d",
            "_dom_classes": [],
            "description": "",
            "_model_name": "HTMLModel",
            "placeholder": "​",
            "_view_module": "@jupyter-widgets/controls",
            "_model_module_version": "1.5.0",
            "value": " 501M/501M [00:06&lt;00:00, 79.5MB/s]",
            "_view_count": null,
            "_view_module_version": "1.5.0",
            "description_tooltip": null,
            "_model_module": "@jupyter-widgets/controls",
            "layout": "IPY_MODEL_cbcff92c0a60458180fc7727092e15c9"
          }
        },
        "2407f54da6144f47b82bc24b0cea368b": {
          "model_module": "@jupyter-widgets/controls",
          "model_name": "ProgressStyleModel",
          "state": {
            "_view_name": "StyleView",
            "_model_name": "ProgressStyleModel",
            "description_width": "initial",
            "_view_module": "@jupyter-widgets/base",
            "_model_module_version": "1.5.0",
            "_view_count": null,
            "_view_module_version": "1.2.0",
            "bar_color": null,
            "_model_module": "@jupyter-widgets/controls"
          }
        },
        "a96d1fef100d41e890f8a35c115d5ea1": {
          "model_module": "@jupyter-widgets/base",
          "model_name": "LayoutModel",
          "state": {
            "_view_name": "LayoutView",
            "grid_template_rows": null,
            "right": null,
            "justify_content": null,
            "_view_module": "@jupyter-widgets/base",
            "overflow": null,
            "_model_module_version": "1.2.0",
            "_view_count": null,
            "flex_flow": null,
            "width": null,
            "min_width": null,
            "border": null,
            "align_items": null,
            "bottom": null,
            "_model_module": "@jupyter-widgets/base",
            "top": null,
            "grid_column": null,
            "overflow_y": null,
            "overflow_x": null,
            "grid_auto_flow": null,
            "grid_area": null,
            "grid_template_columns": null,
            "flex": null,
            "_model_name": "LayoutModel",
            "justify_items": null,
            "grid_row": null,
            "max_height": null,
            "align_content": null,
            "visibility": null,
            "align_self": null,
            "height": null,
            "min_height": null,
            "padding": null,
            "grid_auto_rows": null,
            "grid_gap": null,
            "max_width": null,
            "order": null,
            "_view_module_version": "1.2.0",
            "grid_template_areas": null,
            "object_position": null,
            "object_fit": null,
            "grid_auto_columns": null,
            "margin": null,
            "display": null,
            "left": null
          }
        },
        "f0b69f684a0b47beaad5b319a593d19d": {
          "model_module": "@jupyter-widgets/controls",
          "model_name": "DescriptionStyleModel",
          "state": {
            "_view_name": "StyleView",
            "_model_name": "DescriptionStyleModel",
            "description_width": "",
            "_view_module": "@jupyter-widgets/base",
            "_model_module_version": "1.5.0",
            "_view_count": null,
            "_view_module_version": "1.2.0",
            "_model_module": "@jupyter-widgets/controls"
          }
        },
        "cbcff92c0a60458180fc7727092e15c9": {
          "model_module": "@jupyter-widgets/base",
          "model_name": "LayoutModel",
          "state": {
            "_view_name": "LayoutView",
            "grid_template_rows": null,
            "right": null,
            "justify_content": null,
            "_view_module": "@jupyter-widgets/base",
            "overflow": null,
            "_model_module_version": "1.2.0",
            "_view_count": null,
            "flex_flow": null,
            "width": null,
            "min_width": null,
            "border": null,
            "align_items": null,
            "bottom": null,
            "_model_module": "@jupyter-widgets/base",
            "top": null,
            "grid_column": null,
            "overflow_y": null,
            "overflow_x": null,
            "grid_auto_flow": null,
            "grid_area": null,
            "grid_template_columns": null,
            "flex": null,
            "_model_name": "LayoutModel",
            "justify_items": null,
            "grid_row": null,
            "max_height": null,
            "align_content": null,
            "visibility": null,
            "align_self": null,
            "height": null,
            "min_height": null,
            "padding": null,
            "grid_auto_rows": null,
            "grid_gap": null,
            "max_width": null,
            "order": null,
            "_view_module_version": "1.2.0",
            "grid_template_areas": null,
            "object_position": null,
            "object_fit": null,
            "grid_auto_columns": null,
            "margin": null,
            "display": null,
            "left": null
          }
        },
        "94541a0e062c4134af3478f6e0886af3": {
          "model_module": "@jupyter-widgets/controls",
          "model_name": "HBoxModel",
          "state": {
            "_view_name": "HBoxView",
            "_dom_classes": [],
            "_model_name": "HBoxModel",
            "_view_module": "@jupyter-widgets/controls",
            "_model_module_version": "1.5.0",
            "_view_count": null,
            "_view_module_version": "1.5.0",
            "box_style": "",
            "layout": "IPY_MODEL_9c7da4326f2c49c1a69628a40a4bb4f2",
            "_model_module": "@jupyter-widgets/controls",
            "children": [
              "IPY_MODEL_6e6de32324234f2eb8aa2712fbe52351",
              "IPY_MODEL_3a4fb5c7c37e439eb5b2332a988b8e3b"
            ]
          }
        },
        "9c7da4326f2c49c1a69628a40a4bb4f2": {
          "model_module": "@jupyter-widgets/base",
          "model_name": "LayoutModel",
          "state": {
            "_view_name": "LayoutView",
            "grid_template_rows": null,
            "right": null,
            "justify_content": null,
            "_view_module": "@jupyter-widgets/base",
            "overflow": null,
            "_model_module_version": "1.2.0",
            "_view_count": null,
            "flex_flow": null,
            "width": null,
            "min_width": null,
            "border": null,
            "align_items": null,
            "bottom": null,
            "_model_module": "@jupyter-widgets/base",
            "top": null,
            "grid_column": null,
            "overflow_y": null,
            "overflow_x": null,
            "grid_auto_flow": null,
            "grid_area": null,
            "grid_template_columns": null,
            "flex": null,
            "_model_name": "LayoutModel",
            "justify_items": null,
            "grid_row": null,
            "max_height": null,
            "align_content": null,
            "visibility": null,
            "align_self": null,
            "height": null,
            "min_height": null,
            "padding": null,
            "grid_auto_rows": null,
            "grid_gap": null,
            "max_width": null,
            "order": null,
            "_view_module_version": "1.2.0",
            "grid_template_areas": null,
            "object_position": null,
            "object_fit": null,
            "grid_auto_columns": null,
            "margin": null,
            "display": null,
            "left": null
          }
        },
        "6e6de32324234f2eb8aa2712fbe52351": {
          "model_module": "@jupyter-widgets/controls",
          "model_name": "FloatProgressModel",
          "state": {
            "_view_name": "ProgressView",
            "style": "IPY_MODEL_63bbb25a3d054b649c61099a1e24c0ec",
            "_dom_classes": [],
            "description": "Epoch: 100%",
            "_model_name": "FloatProgressModel",
            "bar_style": "success",
            "max": 3,
            "_view_module": "@jupyter-widgets/controls",
            "_model_module_version": "1.5.0",
            "value": 3,
            "_view_count": null,
            "_view_module_version": "1.5.0",
            "orientation": "horizontal",
            "min": 0,
            "description_tooltip": null,
            "_model_module": "@jupyter-widgets/controls",
            "layout": "IPY_MODEL_5b7909d7614245e88eb82bc2030c1819"
          }
        },
        "3a4fb5c7c37e439eb5b2332a988b8e3b": {
          "model_module": "@jupyter-widgets/controls",
          "model_name": "HTMLModel",
          "state": {
            "_view_name": "HTMLView",
            "style": "IPY_MODEL_094bae23f67e4e5d885a5b88aaf5029e",
            "_dom_classes": [],
            "description": "",
            "_model_name": "HTMLModel",
            "placeholder": "​",
            "_view_module": "@jupyter-widgets/controls",
            "_model_module_version": "1.5.0",
            "value": " 3/3 [00:12&lt;00:00,  4.28s/it]",
            "_view_count": null,
            "_view_module_version": "1.5.0",
            "description_tooltip": null,
            "_model_module": "@jupyter-widgets/controls",
            "layout": "IPY_MODEL_d7e5b1ba740f4e938ddb522b6837c31a"
          }
        },
        "63bbb25a3d054b649c61099a1e24c0ec": {
          "model_module": "@jupyter-widgets/controls",
          "model_name": "ProgressStyleModel",
          "state": {
            "_view_name": "StyleView",
            "_model_name": "ProgressStyleModel",
            "description_width": "initial",
            "_view_module": "@jupyter-widgets/base",
            "_model_module_version": "1.5.0",
            "_view_count": null,
            "_view_module_version": "1.2.0",
            "bar_color": null,
            "_model_module": "@jupyter-widgets/controls"
          }
        },
        "5b7909d7614245e88eb82bc2030c1819": {
          "model_module": "@jupyter-widgets/base",
          "model_name": "LayoutModel",
          "state": {
            "_view_name": "LayoutView",
            "grid_template_rows": null,
            "right": null,
            "justify_content": null,
            "_view_module": "@jupyter-widgets/base",
            "overflow": null,
            "_model_module_version": "1.2.0",
            "_view_count": null,
            "flex_flow": null,
            "width": null,
            "min_width": null,
            "border": null,
            "align_items": null,
            "bottom": null,
            "_model_module": "@jupyter-widgets/base",
            "top": null,
            "grid_column": null,
            "overflow_y": null,
            "overflow_x": null,
            "grid_auto_flow": null,
            "grid_area": null,
            "grid_template_columns": null,
            "flex": null,
            "_model_name": "LayoutModel",
            "justify_items": null,
            "grid_row": null,
            "max_height": null,
            "align_content": null,
            "visibility": null,
            "align_self": null,
            "height": null,
            "min_height": null,
            "padding": null,
            "grid_auto_rows": null,
            "grid_gap": null,
            "max_width": null,
            "order": null,
            "_view_module_version": "1.2.0",
            "grid_template_areas": null,
            "object_position": null,
            "object_fit": null,
            "grid_auto_columns": null,
            "margin": null,
            "display": null,
            "left": null
          }
        },
        "094bae23f67e4e5d885a5b88aaf5029e": {
          "model_module": "@jupyter-widgets/controls",
          "model_name": "DescriptionStyleModel",
          "state": {
            "_view_name": "StyleView",
            "_model_name": "DescriptionStyleModel",
            "description_width": "",
            "_view_module": "@jupyter-widgets/base",
            "_model_module_version": "1.5.0",
            "_view_count": null,
            "_view_module_version": "1.2.0",
            "_model_module": "@jupyter-widgets/controls"
          }
        },
        "d7e5b1ba740f4e938ddb522b6837c31a": {
          "model_module": "@jupyter-widgets/base",
          "model_name": "LayoutModel",
          "state": {
            "_view_name": "LayoutView",
            "grid_template_rows": null,
            "right": null,
            "justify_content": null,
            "_view_module": "@jupyter-widgets/base",
            "overflow": null,
            "_model_module_version": "1.2.0",
            "_view_count": null,
            "flex_flow": null,
            "width": null,
            "min_width": null,
            "border": null,
            "align_items": null,
            "bottom": null,
            "_model_module": "@jupyter-widgets/base",
            "top": null,
            "grid_column": null,
            "overflow_y": null,
            "overflow_x": null,
            "grid_auto_flow": null,
            "grid_area": null,
            "grid_template_columns": null,
            "flex": null,
            "_model_name": "LayoutModel",
            "justify_items": null,
            "grid_row": null,
            "max_height": null,
            "align_content": null,
            "visibility": null,
            "align_self": null,
            "height": null,
            "min_height": null,
            "padding": null,
            "grid_auto_rows": null,
            "grid_gap": null,
            "max_width": null,
            "order": null,
            "_view_module_version": "1.2.0",
            "grid_template_areas": null,
            "object_position": null,
            "object_fit": null,
            "grid_auto_columns": null,
            "margin": null,
            "display": null,
            "left": null
          }
        },
        "54262c23b29146b980244676e83ccf0c": {
          "model_module": "@jupyter-widgets/controls",
          "model_name": "HBoxModel",
          "state": {
            "_view_name": "HBoxView",
            "_dom_classes": [],
            "_model_name": "HBoxModel",
            "_view_module": "@jupyter-widgets/controls",
            "_model_module_version": "1.5.0",
            "_view_count": null,
            "_view_module_version": "1.5.0",
            "box_style": "",
            "layout": "IPY_MODEL_1db8beec8acd4edaab32e81d767af011",
            "_model_module": "@jupyter-widgets/controls",
            "children": [
              "IPY_MODEL_0317d92e7f1143edaeeb13495ded7736",
              "IPY_MODEL_259cccc9d68944659623908353091942"
            ]
          }
        },
        "1db8beec8acd4edaab32e81d767af011": {
          "model_module": "@jupyter-widgets/base",
          "model_name": "LayoutModel",
          "state": {
            "_view_name": "LayoutView",
            "grid_template_rows": null,
            "right": null,
            "justify_content": null,
            "_view_module": "@jupyter-widgets/base",
            "overflow": null,
            "_model_module_version": "1.2.0",
            "_view_count": null,
            "flex_flow": null,
            "width": null,
            "min_width": null,
            "border": null,
            "align_items": null,
            "bottom": null,
            "_model_module": "@jupyter-widgets/base",
            "top": null,
            "grid_column": null,
            "overflow_y": null,
            "overflow_x": null,
            "grid_auto_flow": null,
            "grid_area": null,
            "grid_template_columns": null,
            "flex": null,
            "_model_name": "LayoutModel",
            "justify_items": null,
            "grid_row": null,
            "max_height": null,
            "align_content": null,
            "visibility": null,
            "align_self": null,
            "height": null,
            "min_height": null,
            "padding": null,
            "grid_auto_rows": null,
            "grid_gap": null,
            "max_width": null,
            "order": null,
            "_view_module_version": "1.2.0",
            "grid_template_areas": null,
            "object_position": null,
            "object_fit": null,
            "grid_auto_columns": null,
            "margin": null,
            "display": null,
            "left": null
          }
        },
        "0317d92e7f1143edaeeb13495ded7736": {
          "model_module": "@jupyter-widgets/controls",
          "model_name": "FloatProgressModel",
          "state": {
            "_view_name": "ProgressView",
            "style": "IPY_MODEL_103b9a0c062c4d69bb2749201084143b",
            "_dom_classes": [],
            "description": "Iteration: 100%",
            "_model_name": "FloatProgressModel",
            "bar_style": "success",
            "max": 15,
            "_view_module": "@jupyter-widgets/controls",
            "_model_module_version": "1.5.0",
            "value": 15,
            "_view_count": null,
            "_view_module_version": "1.5.0",
            "orientation": "horizontal",
            "min": 0,
            "description_tooltip": null,
            "_model_module": "@jupyter-widgets/controls",
            "layout": "IPY_MODEL_e8a97c9902e642dd820d83769e936667"
          }
        },
        "259cccc9d68944659623908353091942": {
          "model_module": "@jupyter-widgets/controls",
          "model_name": "HTMLModel",
          "state": {
            "_view_name": "HTMLView",
            "style": "IPY_MODEL_dce691e107394fa4bb322eb5dc8e0008",
            "_dom_classes": [],
            "description": "",
            "_model_name": "HTMLModel",
            "placeholder": "​",
            "_view_module": "@jupyter-widgets/controls",
            "_model_module_version": "1.5.0",
            "value": " 15/15 [00:04&lt;00:00,  3.21it/s]",
            "_view_count": null,
            "_view_module_version": "1.5.0",
            "description_tooltip": null,
            "_model_module": "@jupyter-widgets/controls",
            "layout": "IPY_MODEL_4e891a69a7f1429eacfca01deb0f23f1"
          }
        },
        "103b9a0c062c4d69bb2749201084143b": {
          "model_module": "@jupyter-widgets/controls",
          "model_name": "ProgressStyleModel",
          "state": {
            "_view_name": "StyleView",
            "_model_name": "ProgressStyleModel",
            "description_width": "initial",
            "_view_module": "@jupyter-widgets/base",
            "_model_module_version": "1.5.0",
            "_view_count": null,
            "_view_module_version": "1.2.0",
            "bar_color": null,
            "_model_module": "@jupyter-widgets/controls"
          }
        },
        "e8a97c9902e642dd820d83769e936667": {
          "model_module": "@jupyter-widgets/base",
          "model_name": "LayoutModel",
          "state": {
            "_view_name": "LayoutView",
            "grid_template_rows": null,
            "right": null,
            "justify_content": null,
            "_view_module": "@jupyter-widgets/base",
            "overflow": null,
            "_model_module_version": "1.2.0",
            "_view_count": null,
            "flex_flow": null,
            "width": null,
            "min_width": null,
            "border": null,
            "align_items": null,
            "bottom": null,
            "_model_module": "@jupyter-widgets/base",
            "top": null,
            "grid_column": null,
            "overflow_y": null,
            "overflow_x": null,
            "grid_auto_flow": null,
            "grid_area": null,
            "grid_template_columns": null,
            "flex": null,
            "_model_name": "LayoutModel",
            "justify_items": null,
            "grid_row": null,
            "max_height": null,
            "align_content": null,
            "visibility": null,
            "align_self": null,
            "height": null,
            "min_height": null,
            "padding": null,
            "grid_auto_rows": null,
            "grid_gap": null,
            "max_width": null,
            "order": null,
            "_view_module_version": "1.2.0",
            "grid_template_areas": null,
            "object_position": null,
            "object_fit": null,
            "grid_auto_columns": null,
            "margin": null,
            "display": null,
            "left": null
          }
        },
        "dce691e107394fa4bb322eb5dc8e0008": {
          "model_module": "@jupyter-widgets/controls",
          "model_name": "DescriptionStyleModel",
          "state": {
            "_view_name": "StyleView",
            "_model_name": "DescriptionStyleModel",
            "description_width": "",
            "_view_module": "@jupyter-widgets/base",
            "_model_module_version": "1.5.0",
            "_view_count": null,
            "_view_module_version": "1.2.0",
            "_model_module": "@jupyter-widgets/controls"
          }
        },
        "4e891a69a7f1429eacfca01deb0f23f1": {
          "model_module": "@jupyter-widgets/base",
          "model_name": "LayoutModel",
          "state": {
            "_view_name": "LayoutView",
            "grid_template_rows": null,
            "right": null,
            "justify_content": null,
            "_view_module": "@jupyter-widgets/base",
            "overflow": null,
            "_model_module_version": "1.2.0",
            "_view_count": null,
            "flex_flow": null,
            "width": null,
            "min_width": null,
            "border": null,
            "align_items": null,
            "bottom": null,
            "_model_module": "@jupyter-widgets/base",
            "top": null,
            "grid_column": null,
            "overflow_y": null,
            "overflow_x": null,
            "grid_auto_flow": null,
            "grid_area": null,
            "grid_template_columns": null,
            "flex": null,
            "_model_name": "LayoutModel",
            "justify_items": null,
            "grid_row": null,
            "max_height": null,
            "align_content": null,
            "visibility": null,
            "align_self": null,
            "height": null,
            "min_height": null,
            "padding": null,
            "grid_auto_rows": null,
            "grid_gap": null,
            "max_width": null,
            "order": null,
            "_view_module_version": "1.2.0",
            "grid_template_areas": null,
            "object_position": null,
            "object_fit": null,
            "grid_auto_columns": null,
            "margin": null,
            "display": null,
            "left": null
          }
        },
        "a8e6141c714a4686924b53c1ee7377b6": {
          "model_module": "@jupyter-widgets/controls",
          "model_name": "HBoxModel",
          "state": {
            "_view_name": "HBoxView",
            "_dom_classes": [],
            "_model_name": "HBoxModel",
            "_view_module": "@jupyter-widgets/controls",
            "_model_module_version": "1.5.0",
            "_view_count": null,
            "_view_module_version": "1.5.0",
            "box_style": "",
            "layout": "IPY_MODEL_331228b3fceb4d139c27551806f375e2",
            "_model_module": "@jupyter-widgets/controls",
            "children": [
              "IPY_MODEL_653538807f6b4c909886c3136d1e49b3",
              "IPY_MODEL_76ebd56919d84431805352aac67a3581"
            ]
          }
        },
        "331228b3fceb4d139c27551806f375e2": {
          "model_module": "@jupyter-widgets/base",
          "model_name": "LayoutModel",
          "state": {
            "_view_name": "LayoutView",
            "grid_template_rows": null,
            "right": null,
            "justify_content": null,
            "_view_module": "@jupyter-widgets/base",
            "overflow": null,
            "_model_module_version": "1.2.0",
            "_view_count": null,
            "flex_flow": null,
            "width": null,
            "min_width": null,
            "border": null,
            "align_items": null,
            "bottom": null,
            "_model_module": "@jupyter-widgets/base",
            "top": null,
            "grid_column": null,
            "overflow_y": null,
            "overflow_x": null,
            "grid_auto_flow": null,
            "grid_area": null,
            "grid_template_columns": null,
            "flex": null,
            "_model_name": "LayoutModel",
            "justify_items": null,
            "grid_row": null,
            "max_height": null,
            "align_content": null,
            "visibility": null,
            "align_self": null,
            "height": null,
            "min_height": null,
            "padding": null,
            "grid_auto_rows": null,
            "grid_gap": null,
            "max_width": null,
            "order": null,
            "_view_module_version": "1.2.0",
            "grid_template_areas": null,
            "object_position": null,
            "object_fit": null,
            "grid_auto_columns": null,
            "margin": null,
            "display": null,
            "left": null
          }
        },
        "653538807f6b4c909886c3136d1e49b3": {
          "model_module": "@jupyter-widgets/controls",
          "model_name": "FloatProgressModel",
          "state": {
            "_view_name": "ProgressView",
            "style": "IPY_MODEL_4205bdbd116f4465b0ef0548163ba2a5",
            "_dom_classes": [],
            "description": "Iteration: 100%",
            "_model_name": "FloatProgressModel",
            "bar_style": "success",
            "max": 15,
            "_view_module": "@jupyter-widgets/controls",
            "_model_module_version": "1.5.0",
            "value": 15,
            "_view_count": null,
            "_view_module_version": "1.5.0",
            "orientation": "horizontal",
            "min": 0,
            "description_tooltip": null,
            "_model_module": "@jupyter-widgets/controls",
            "layout": "IPY_MODEL_dba064099b95480f99a68c45c386cf1e"
          }
        },
        "76ebd56919d84431805352aac67a3581": {
          "model_module": "@jupyter-widgets/controls",
          "model_name": "HTMLModel",
          "state": {
            "_view_name": "HTMLView",
            "style": "IPY_MODEL_de100f13f29248f4825e55b8d7cda4bb",
            "_dom_classes": [],
            "description": "",
            "_model_name": "HTMLModel",
            "placeholder": "​",
            "_view_module": "@jupyter-widgets/controls",
            "_model_module_version": "1.5.0",
            "value": " 15/15 [00:04&lt;00:00,  3.21it/s]",
            "_view_count": null,
            "_view_module_version": "1.5.0",
            "description_tooltip": null,
            "_model_module": "@jupyter-widgets/controls",
            "layout": "IPY_MODEL_a0fd302514b44253a76db3e0a4b123c7"
          }
        },
        "4205bdbd116f4465b0ef0548163ba2a5": {
          "model_module": "@jupyter-widgets/controls",
          "model_name": "ProgressStyleModel",
          "state": {
            "_view_name": "StyleView",
            "_model_name": "ProgressStyleModel",
            "description_width": "initial",
            "_view_module": "@jupyter-widgets/base",
            "_model_module_version": "1.5.0",
            "_view_count": null,
            "_view_module_version": "1.2.0",
            "bar_color": null,
            "_model_module": "@jupyter-widgets/controls"
          }
        },
        "dba064099b95480f99a68c45c386cf1e": {
          "model_module": "@jupyter-widgets/base",
          "model_name": "LayoutModel",
          "state": {
            "_view_name": "LayoutView",
            "grid_template_rows": null,
            "right": null,
            "justify_content": null,
            "_view_module": "@jupyter-widgets/base",
            "overflow": null,
            "_model_module_version": "1.2.0",
            "_view_count": null,
            "flex_flow": null,
            "width": null,
            "min_width": null,
            "border": null,
            "align_items": null,
            "bottom": null,
            "_model_module": "@jupyter-widgets/base",
            "top": null,
            "grid_column": null,
            "overflow_y": null,
            "overflow_x": null,
            "grid_auto_flow": null,
            "grid_area": null,
            "grid_template_columns": null,
            "flex": null,
            "_model_name": "LayoutModel",
            "justify_items": null,
            "grid_row": null,
            "max_height": null,
            "align_content": null,
            "visibility": null,
            "align_self": null,
            "height": null,
            "min_height": null,
            "padding": null,
            "grid_auto_rows": null,
            "grid_gap": null,
            "max_width": null,
            "order": null,
            "_view_module_version": "1.2.0",
            "grid_template_areas": null,
            "object_position": null,
            "object_fit": null,
            "grid_auto_columns": null,
            "margin": null,
            "display": null,
            "left": null
          }
        },
        "de100f13f29248f4825e55b8d7cda4bb": {
          "model_module": "@jupyter-widgets/controls",
          "model_name": "DescriptionStyleModel",
          "state": {
            "_view_name": "StyleView",
            "_model_name": "DescriptionStyleModel",
            "description_width": "",
            "_view_module": "@jupyter-widgets/base",
            "_model_module_version": "1.5.0",
            "_view_count": null,
            "_view_module_version": "1.2.0",
            "_model_module": "@jupyter-widgets/controls"
          }
        },
        "a0fd302514b44253a76db3e0a4b123c7": {
          "model_module": "@jupyter-widgets/base",
          "model_name": "LayoutModel",
          "state": {
            "_view_name": "LayoutView",
            "grid_template_rows": null,
            "right": null,
            "justify_content": null,
            "_view_module": "@jupyter-widgets/base",
            "overflow": null,
            "_model_module_version": "1.2.0",
            "_view_count": null,
            "flex_flow": null,
            "width": null,
            "min_width": null,
            "border": null,
            "align_items": null,
            "bottom": null,
            "_model_module": "@jupyter-widgets/base",
            "top": null,
            "grid_column": null,
            "overflow_y": null,
            "overflow_x": null,
            "grid_auto_flow": null,
            "grid_area": null,
            "grid_template_columns": null,
            "flex": null,
            "_model_name": "LayoutModel",
            "justify_items": null,
            "grid_row": null,
            "max_height": null,
            "align_content": null,
            "visibility": null,
            "align_self": null,
            "height": null,
            "min_height": null,
            "padding": null,
            "grid_auto_rows": null,
            "grid_gap": null,
            "max_width": null,
            "order": null,
            "_view_module_version": "1.2.0",
            "grid_template_areas": null,
            "object_position": null,
            "object_fit": null,
            "grid_auto_columns": null,
            "margin": null,
            "display": null,
            "left": null
          }
        },
        "894bb365d5994910b34f0128bfba7736": {
          "model_module": "@jupyter-widgets/controls",
          "model_name": "HBoxModel",
          "state": {
            "_view_name": "HBoxView",
            "_dom_classes": [],
            "_model_name": "HBoxModel",
            "_view_module": "@jupyter-widgets/controls",
            "_model_module_version": "1.5.0",
            "_view_count": null,
            "_view_module_version": "1.5.0",
            "box_style": "",
            "layout": "IPY_MODEL_0d53097ec4584ef5a03288a9bd8cc7c5",
            "_model_module": "@jupyter-widgets/controls",
            "children": [
              "IPY_MODEL_6502c2125bdb4044b91a3066559ff4ec",
              "IPY_MODEL_dffe5acf41f74031b678ea36f97d7464"
            ]
          }
        },
        "0d53097ec4584ef5a03288a9bd8cc7c5": {
          "model_module": "@jupyter-widgets/base",
          "model_name": "LayoutModel",
          "state": {
            "_view_name": "LayoutView",
            "grid_template_rows": null,
            "right": null,
            "justify_content": null,
            "_view_module": "@jupyter-widgets/base",
            "overflow": null,
            "_model_module_version": "1.2.0",
            "_view_count": null,
            "flex_flow": null,
            "width": null,
            "min_width": null,
            "border": null,
            "align_items": null,
            "bottom": null,
            "_model_module": "@jupyter-widgets/base",
            "top": null,
            "grid_column": null,
            "overflow_y": null,
            "overflow_x": null,
            "grid_auto_flow": null,
            "grid_area": null,
            "grid_template_columns": null,
            "flex": null,
            "_model_name": "LayoutModel",
            "justify_items": null,
            "grid_row": null,
            "max_height": null,
            "align_content": null,
            "visibility": null,
            "align_self": null,
            "height": null,
            "min_height": null,
            "padding": null,
            "grid_auto_rows": null,
            "grid_gap": null,
            "max_width": null,
            "order": null,
            "_view_module_version": "1.2.0",
            "grid_template_areas": null,
            "object_position": null,
            "object_fit": null,
            "grid_auto_columns": null,
            "margin": null,
            "display": null,
            "left": null
          }
        },
        "6502c2125bdb4044b91a3066559ff4ec": {
          "model_module": "@jupyter-widgets/controls",
          "model_name": "FloatProgressModel",
          "state": {
            "_view_name": "ProgressView",
            "style": "IPY_MODEL_430d149249384ba3a25743782432ab6c",
            "_dom_classes": [],
            "description": "Iteration: 100%",
            "_model_name": "FloatProgressModel",
            "bar_style": "success",
            "max": 15,
            "_view_module": "@jupyter-widgets/controls",
            "_model_module_version": "1.5.0",
            "value": 15,
            "_view_count": null,
            "_view_module_version": "1.5.0",
            "orientation": "horizontal",
            "min": 0,
            "description_tooltip": null,
            "_model_module": "@jupyter-widgets/controls",
            "layout": "IPY_MODEL_1b5863c721464e94a7a71a38c02a5fc8"
          }
        },
        "dffe5acf41f74031b678ea36f97d7464": {
          "model_module": "@jupyter-widgets/controls",
          "model_name": "HTMLModel",
          "state": {
            "_view_name": "HTMLView",
            "style": "IPY_MODEL_92a1a4e3c9fc4023ba7b0a7afd91be76",
            "_dom_classes": [],
            "description": "",
            "_model_name": "HTMLModel",
            "placeholder": "​",
            "_view_module": "@jupyter-widgets/controls",
            "_model_module_version": "1.5.0",
            "value": " 15/15 [00:04&lt;00:00,  3.64it/s]",
            "_view_count": null,
            "_view_module_version": "1.5.0",
            "description_tooltip": null,
            "_model_module": "@jupyter-widgets/controls",
            "layout": "IPY_MODEL_add9b45591b74057aef9532115f37472"
          }
        },
        "430d149249384ba3a25743782432ab6c": {
          "model_module": "@jupyter-widgets/controls",
          "model_name": "ProgressStyleModel",
          "state": {
            "_view_name": "StyleView",
            "_model_name": "ProgressStyleModel",
            "description_width": "initial",
            "_view_module": "@jupyter-widgets/base",
            "_model_module_version": "1.5.0",
            "_view_count": null,
            "_view_module_version": "1.2.0",
            "bar_color": null,
            "_model_module": "@jupyter-widgets/controls"
          }
        },
        "1b5863c721464e94a7a71a38c02a5fc8": {
          "model_module": "@jupyter-widgets/base",
          "model_name": "LayoutModel",
          "state": {
            "_view_name": "LayoutView",
            "grid_template_rows": null,
            "right": null,
            "justify_content": null,
            "_view_module": "@jupyter-widgets/base",
            "overflow": null,
            "_model_module_version": "1.2.0",
            "_view_count": null,
            "flex_flow": null,
            "width": null,
            "min_width": null,
            "border": null,
            "align_items": null,
            "bottom": null,
            "_model_module": "@jupyter-widgets/base",
            "top": null,
            "grid_column": null,
            "overflow_y": null,
            "overflow_x": null,
            "grid_auto_flow": null,
            "grid_area": null,
            "grid_template_columns": null,
            "flex": null,
            "_model_name": "LayoutModel",
            "justify_items": null,
            "grid_row": null,
            "max_height": null,
            "align_content": null,
            "visibility": null,
            "align_self": null,
            "height": null,
            "min_height": null,
            "padding": null,
            "grid_auto_rows": null,
            "grid_gap": null,
            "max_width": null,
            "order": null,
            "_view_module_version": "1.2.0",
            "grid_template_areas": null,
            "object_position": null,
            "object_fit": null,
            "grid_auto_columns": null,
            "margin": null,
            "display": null,
            "left": null
          }
        },
        "92a1a4e3c9fc4023ba7b0a7afd91be76": {
          "model_module": "@jupyter-widgets/controls",
          "model_name": "DescriptionStyleModel",
          "state": {
            "_view_name": "StyleView",
            "_model_name": "DescriptionStyleModel",
            "description_width": "",
            "_view_module": "@jupyter-widgets/base",
            "_model_module_version": "1.5.0",
            "_view_count": null,
            "_view_module_version": "1.2.0",
            "_model_module": "@jupyter-widgets/controls"
          }
        },
        "add9b45591b74057aef9532115f37472": {
          "model_module": "@jupyter-widgets/base",
          "model_name": "LayoutModel",
          "state": {
            "_view_name": "LayoutView",
            "grid_template_rows": null,
            "right": null,
            "justify_content": null,
            "_view_module": "@jupyter-widgets/base",
            "overflow": null,
            "_model_module_version": "1.2.0",
            "_view_count": null,
            "flex_flow": null,
            "width": null,
            "min_width": null,
            "border": null,
            "align_items": null,
            "bottom": null,
            "_model_module": "@jupyter-widgets/base",
            "top": null,
            "grid_column": null,
            "overflow_y": null,
            "overflow_x": null,
            "grid_auto_flow": null,
            "grid_area": null,
            "grid_template_columns": null,
            "flex": null,
            "_model_name": "LayoutModel",
            "justify_items": null,
            "grid_row": null,
            "max_height": null,
            "align_content": null,
            "visibility": null,
            "align_self": null,
            "height": null,
            "min_height": null,
            "padding": null,
            "grid_auto_rows": null,
            "grid_gap": null,
            "max_width": null,
            "order": null,
            "_view_module_version": "1.2.0",
            "grid_template_areas": null,
            "object_position": null,
            "object_fit": null,
            "grid_auto_columns": null,
            "margin": null,
            "display": null,
            "left": null
          }
        }
      }
    }
  },
  "cells": [
    {
      "cell_type": "markdown",
      "metadata": {
        "id": "view-in-github",
        "colab_type": "text"
      },
      "source": [
        "<a href=\"https://colab.research.google.com/github/NazarioR9/BNBR_Challenge/blob/master/mask_language_modeling/MLM_RobertaBase_finetuning.ipynb\" target=\"_parent\"><img src=\"https://colab.research.google.com/assets/colab-badge.svg\" alt=\"Open In Colab\"/></a>"
      ]
    },
    {
      "cell_type": "markdown",
      "metadata": {
        "id": "enGAhmz4GoSj",
        "colab_type": "text"
      },
      "source": [
        "# References"
      ]
    },
    {
      "cell_type": "code",
      "metadata": {
        "id": "bsFvAzeTGrKO",
        "colab_type": "code",
        "colab": {}
      },
      "source": [
        "# How to Fine-Tune BERT for Text Classification? (https://arxiv.org/pdf/1905.05583.pdf)\n",
        "# https://github.com/huggingface/blog/blob/master/notebooks/01_how_to_train.ipynb"
      ],
      "execution_count": null,
      "outputs": []
    },
    {
      "cell_type": "markdown",
      "metadata": {
        "id": "Gp8LrtuHGrsr",
        "colab_type": "text"
      },
      "source": [
        "# Installs"
      ]
    },
    {
      "cell_type": "code",
      "metadata": {
        "id": "X98M2SEm6_V8",
        "colab_type": "code",
        "colab": {
          "base_uri": "https://localhost:8080/",
          "height": 102
        },
        "outputId": "0bb25108-a1d0-4082-d86f-fd18f5a766df"
      },
      "source": [
        "!pip install transformers --quiet"
      ],
      "execution_count": null,
      "outputs": [
        {
          "output_type": "stream",
          "text": [
            "\u001b[?25l\r\u001b[K     |▌                               | 10kB 30.5MB/s eta 0:00:01\r\u001b[K     |█                               | 20kB 1.7MB/s eta 0:00:01\r\u001b[K     |█▌                              | 30kB 2.3MB/s eta 0:00:01\r\u001b[K     |██                              | 40kB 2.6MB/s eta 0:00:01\r\u001b[K     |██▍                             | 51kB 2.0MB/s eta 0:00:01\r\u001b[K     |███                             | 61kB 2.3MB/s eta 0:00:01\r\u001b[K     |███▍                            | 71kB 2.6MB/s eta 0:00:01\r\u001b[K     |███▉                            | 81kB 2.8MB/s eta 0:00:01\r\u001b[K     |████▍                           | 92kB 2.9MB/s eta 0:00:01\r\u001b[K     |████▉                           | 102kB 2.8MB/s eta 0:00:01\r\u001b[K     |█████▍                          | 112kB 2.8MB/s eta 0:00:01\r\u001b[K     |█████▉                          | 122kB 2.8MB/s eta 0:00:01\r\u001b[K     |██████▎                         | 133kB 2.8MB/s eta 0:00:01\r\u001b[K     |██████▉                         | 143kB 2.8MB/s eta 0:00:01\r\u001b[K     |███████▎                        | 153kB 2.8MB/s eta 0:00:01\r\u001b[K     |███████▊                        | 163kB 2.8MB/s eta 0:00:01\r\u001b[K     |████████▎                       | 174kB 2.8MB/s eta 0:00:01\r\u001b[K     |████████▊                       | 184kB 2.8MB/s eta 0:00:01\r\u001b[K     |█████████▎                      | 194kB 2.8MB/s eta 0:00:01\r\u001b[K     |█████████▊                      | 204kB 2.8MB/s eta 0:00:01\r\u001b[K     |██████████▏                     | 215kB 2.8MB/s eta 0:00:01\r\u001b[K     |██████████▊                     | 225kB 2.8MB/s eta 0:00:01\r\u001b[K     |███████████▏                    | 235kB 2.8MB/s eta 0:00:01\r\u001b[K     |███████████▋                    | 245kB 2.8MB/s eta 0:00:01\r\u001b[K     |████████████▏                   | 256kB 2.8MB/s eta 0:00:01\r\u001b[K     |████████████▋                   | 266kB 2.8MB/s eta 0:00:01\r\u001b[K     |█████████████                   | 276kB 2.8MB/s eta 0:00:01\r\u001b[K     |█████████████▋                  | 286kB 2.8MB/s eta 0:00:01\r\u001b[K     |██████████████                  | 296kB 2.8MB/s eta 0:00:01\r\u001b[K     |██████████████▋                 | 307kB 2.8MB/s eta 0:00:01\r\u001b[K     |███████████████                 | 317kB 2.8MB/s eta 0:00:01\r\u001b[K     |███████████████▌                | 327kB 2.8MB/s eta 0:00:01\r\u001b[K     |████████████████                | 337kB 2.8MB/s eta 0:00:01\r\u001b[K     |████████████████▌               | 348kB 2.8MB/s eta 0:00:01\r\u001b[K     |█████████████████               | 358kB 2.8MB/s eta 0:00:01\r\u001b[K     |█████████████████▌              | 368kB 2.8MB/s eta 0:00:01\r\u001b[K     |██████████████████              | 378kB 2.8MB/s eta 0:00:01\r\u001b[K     |██████████████████▌             | 389kB 2.8MB/s eta 0:00:01\r\u001b[K     |███████████████████             | 399kB 2.8MB/s eta 0:00:01\r\u001b[K     |███████████████████▍            | 409kB 2.8MB/s eta 0:00:01\r\u001b[K     |████████████████████            | 419kB 2.8MB/s eta 0:00:01\r\u001b[K     |████████████████████▍           | 430kB 2.8MB/s eta 0:00:01\r\u001b[K     |████████████████████▉           | 440kB 2.8MB/s eta 0:00:01\r\u001b[K     |█████████████████████▍          | 450kB 2.8MB/s eta 0:00:01\r\u001b[K     |█████████████████████▉          | 460kB 2.8MB/s eta 0:00:01\r\u001b[K     |██████████████████████▍         | 471kB 2.8MB/s eta 0:00:01\r\u001b[K     |██████████████████████▉         | 481kB 2.8MB/s eta 0:00:01\r\u001b[K     |███████████████████████▎        | 491kB 2.8MB/s eta 0:00:01\r\u001b[K     |███████████████████████▉        | 501kB 2.8MB/s eta 0:00:01\r\u001b[K     |████████████████████████▎       | 512kB 2.8MB/s eta 0:00:01\r\u001b[K     |████████████████████████▊       | 522kB 2.8MB/s eta 0:00:01\r\u001b[K     |█████████████████████████▎      | 532kB 2.8MB/s eta 0:00:01\r\u001b[K     |█████████████████████████▊      | 542kB 2.8MB/s eta 0:00:01\r\u001b[K     |██████████████████████████▏     | 552kB 2.8MB/s eta 0:00:01\r\u001b[K     |██████████████████████████▊     | 563kB 2.8MB/s eta 0:00:01\r\u001b[K     |███████████████████████████▏    | 573kB 2.8MB/s eta 0:00:01\r\u001b[K     |███████████████████████████▊    | 583kB 2.8MB/s eta 0:00:01\r\u001b[K     |████████████████████████████▏   | 593kB 2.8MB/s eta 0:00:01\r\u001b[K     |████████████████████████████▋   | 604kB 2.8MB/s eta 0:00:01\r\u001b[K     |█████████████████████████████▏  | 614kB 2.8MB/s eta 0:00:01\r\u001b[K     |█████████████████████████████▋  | 624kB 2.8MB/s eta 0:00:01\r\u001b[K     |██████████████████████████████  | 634kB 2.8MB/s eta 0:00:01\r\u001b[K     |██████████████████████████████▋ | 645kB 2.8MB/s eta 0:00:01\r\u001b[K     |███████████████████████████████ | 655kB 2.8MB/s eta 0:00:01\r\u001b[K     |███████████████████████████████▋| 665kB 2.8MB/s eta 0:00:01\r\u001b[K     |████████████████████████████████| 675kB 2.8MB/s \n",
            "\u001b[?25h\u001b[?25l\r\u001b[K     |▍                               | 10kB 33.6MB/s eta 0:00:01\r\u001b[K     |▊                               | 20kB 17.1MB/s eta 0:00:01\r\u001b[K     |█▏                              | 30kB 23.1MB/s eta 0:00:01\r\u001b[K     |█▌                              | 40kB 12.5MB/s eta 0:00:01\r\u001b[K     |█▉                              | 51kB 9.8MB/s eta 0:00:01\r\u001b[K     |██▎                             | 61kB 11.5MB/s eta 0:00:01\r\u001b[K     |██▋                             | 71kB 9.9MB/s eta 0:00:01\r\u001b[K     |███                             | 81kB 11.1MB/s eta 0:00:01\r\u001b[K     |███▍                            | 92kB 10.0MB/s eta 0:00:01\r\u001b[K     |███▊                            | 102kB 9.5MB/s eta 0:00:01\r\u001b[K     |████                            | 112kB 9.5MB/s eta 0:00:01\r\u001b[K     |████▌                           | 122kB 9.5MB/s eta 0:00:01\r\u001b[K     |████▉                           | 133kB 9.5MB/s eta 0:00:01\r\u001b[K     |█████▏                          | 143kB 9.5MB/s eta 0:00:01\r\u001b[K     |█████▋                          | 153kB 9.5MB/s eta 0:00:01\r\u001b[K     |██████                          | 163kB 9.5MB/s eta 0:00:01\r\u001b[K     |██████▎                         | 174kB 9.5MB/s eta 0:00:01\r\u001b[K     |██████▊                         | 184kB 9.5MB/s eta 0:00:01\r\u001b[K     |███████                         | 194kB 9.5MB/s eta 0:00:01\r\u001b[K     |███████▍                        | 204kB 9.5MB/s eta 0:00:01\r\u001b[K     |███████▉                        | 215kB 9.5MB/s eta 0:00:01\r\u001b[K     |████████▏                       | 225kB 9.5MB/s eta 0:00:01\r\u001b[K     |████████▌                       | 235kB 9.5MB/s eta 0:00:01\r\u001b[K     |█████████                       | 245kB 9.5MB/s eta 0:00:01\r\u001b[K     |█████████▎                      | 256kB 9.5MB/s eta 0:00:01\r\u001b[K     |█████████▋                      | 266kB 9.5MB/s eta 0:00:01\r\u001b[K     |██████████                      | 276kB 9.5MB/s eta 0:00:01\r\u001b[K     |██████████▍                     | 286kB 9.5MB/s eta 0:00:01\r\u001b[K     |██████████▊                     | 296kB 9.5MB/s eta 0:00:01\r\u001b[K     |███████████▏                    | 307kB 9.5MB/s eta 0:00:01\r\u001b[K     |███████████▌                    | 317kB 9.5MB/s eta 0:00:01\r\u001b[K     |███████████▉                    | 327kB 9.5MB/s eta 0:00:01\r\u001b[K     |████████████▎                   | 337kB 9.5MB/s eta 0:00:01\r\u001b[K     |████████████▋                   | 348kB 9.5MB/s eta 0:00:01\r\u001b[K     |█████████████                   | 358kB 9.5MB/s eta 0:00:01\r\u001b[K     |█████████████▍                  | 368kB 9.5MB/s eta 0:00:01\r\u001b[K     |█████████████▊                  | 378kB 9.5MB/s eta 0:00:01\r\u001b[K     |██████████████                  | 389kB 9.5MB/s eta 0:00:01\r\u001b[K     |██████████████▌                 | 399kB 9.5MB/s eta 0:00:01\r\u001b[K     |██████████████▉                 | 409kB 9.5MB/s eta 0:00:01\r\u001b[K     |███████████████▏                | 419kB 9.5MB/s eta 0:00:01\r\u001b[K     |███████████████▋                | 430kB 9.5MB/s eta 0:00:01\r\u001b[K     |████████████████                | 440kB 9.5MB/s eta 0:00:01\r\u001b[K     |████████████████▎               | 450kB 9.5MB/s eta 0:00:01\r\u001b[K     |████████████████▊               | 460kB 9.5MB/s eta 0:00:01\r\u001b[K     |█████████████████               | 471kB 9.5MB/s eta 0:00:01\r\u001b[K     |█████████████████▍              | 481kB 9.5MB/s eta 0:00:01\r\u001b[K     |█████████████████▉              | 491kB 9.5MB/s eta 0:00:01\r\u001b[K     |██████████████████▏             | 501kB 9.5MB/s eta 0:00:01\r\u001b[K     |██████████████████▌             | 512kB 9.5MB/s eta 0:00:01\r\u001b[K     |███████████████████             | 522kB 9.5MB/s eta 0:00:01\r\u001b[K     |███████████████████▎            | 532kB 9.5MB/s eta 0:00:01\r\u001b[K     |███████████████████▋            | 542kB 9.5MB/s eta 0:00:01\r\u001b[K     |████████████████████            | 552kB 9.5MB/s eta 0:00:01\r\u001b[K     |████████████████████▍           | 563kB 9.5MB/s eta 0:00:01\r\u001b[K     |████████████████████▊           | 573kB 9.5MB/s eta 0:00:01\r\u001b[K     |█████████████████████▏          | 583kB 9.5MB/s eta 0:00:01\r\u001b[K     |█████████████████████▌          | 593kB 9.5MB/s eta 0:00:01\r\u001b[K     |█████████████████████▉          | 604kB 9.5MB/s eta 0:00:01\r\u001b[K     |██████████████████████▎         | 614kB 9.5MB/s eta 0:00:01\r\u001b[K     |██████████████████████▋         | 624kB 9.5MB/s eta 0:00:01\r\u001b[K     |███████████████████████         | 634kB 9.5MB/s eta 0:00:01\r\u001b[K     |███████████████████████▍        | 645kB 9.5MB/s eta 0:00:01\r\u001b[K     |███████████████████████▊        | 655kB 9.5MB/s eta 0:00:01\r\u001b[K     |████████████████████████        | 665kB 9.5MB/s eta 0:00:01\r\u001b[K     |████████████████████████▌       | 675kB 9.5MB/s eta 0:00:01\r\u001b[K     |████████████████████████▉       | 686kB 9.5MB/s eta 0:00:01\r\u001b[K     |█████████████████████████▏      | 696kB 9.5MB/s eta 0:00:01\r\u001b[K     |█████████████████████████▋      | 706kB 9.5MB/s eta 0:00:01\r\u001b[K     |██████████████████████████      | 716kB 9.5MB/s eta 0:00:01\r\u001b[K     |██████████████████████████▎     | 727kB 9.5MB/s eta 0:00:01\r\u001b[K     |██████████████████████████▊     | 737kB 9.5MB/s eta 0:00:01\r\u001b[K     |███████████████████████████     | 747kB 9.5MB/s eta 0:00:01\r\u001b[K     |███████████████████████████▍    | 757kB 9.5MB/s eta 0:00:01\r\u001b[K     |███████████████████████████▉    | 768kB 9.5MB/s eta 0:00:01\r\u001b[K     |████████████████████████████▏   | 778kB 9.5MB/s eta 0:00:01\r\u001b[K     |████████████████████████████▌   | 788kB 9.5MB/s eta 0:00:01\r\u001b[K     |█████████████████████████████   | 798kB 9.5MB/s eta 0:00:01\r\u001b[K     |█████████████████████████████▎  | 808kB 9.5MB/s eta 0:00:01\r\u001b[K     |█████████████████████████████▋  | 819kB 9.5MB/s eta 0:00:01\r\u001b[K     |██████████████████████████████  | 829kB 9.5MB/s eta 0:00:01\r\u001b[K     |██████████████████████████████▍ | 839kB 9.5MB/s eta 0:00:01\r\u001b[K     |██████████████████████████████▊ | 849kB 9.5MB/s eta 0:00:01\r\u001b[K     |███████████████████████████████▏| 860kB 9.5MB/s eta 0:00:01\r\u001b[K     |███████████████████████████████▌| 870kB 9.5MB/s eta 0:00:01\r\u001b[K     |███████████████████████████████▉| 880kB 9.5MB/s eta 0:00:01\r\u001b[K     |████████████████████████████████| 890kB 9.5MB/s \n",
            "\u001b[K     |████████████████████████████████| 1.1MB 41kB/s \n",
            "\u001b[K     |████████████████████████████████| 3.8MB 9.3MB/s \n",
            "\u001b[?25h  Building wheel for sacremoses (setup.py) ... \u001b[?25l\u001b[?25hdone\n"
          ],
          "name": "stdout"
        }
      ]
    },
    {
      "cell_type": "markdown",
      "metadata": {
        "id": "2WqSzCqdAtzA",
        "colab_type": "text"
      },
      "source": [
        "# Specs "
      ]
    },
    {
      "cell_type": "code",
      "metadata": {
        "id": "kD140sFjh0LQ",
        "colab_type": "code",
        "colab": {
          "base_uri": "https://localhost:8080/",
          "height": 357
        },
        "outputId": "aaeb179e-60fe-4be5-c623-9ba66d65b584"
      },
      "source": [
        "# Check that we have a GPU\n",
        "!nvidia-smi"
      ],
      "execution_count": null,
      "outputs": [
        {
          "output_type": "stream",
          "text": [
            "Fri Jun 26 18:39:12 2020       \n",
            "+-----------------------------------------------------------------------------+\n",
            "| NVIDIA-SMI 450.36.06    Driver Version: 418.67       CUDA Version: 10.1     |\n",
            "|-------------------------------+----------------------+----------------------+\n",
            "| GPU  Name        Persistence-M| Bus-Id        Disp.A | Volatile Uncorr. ECC |\n",
            "| Fan  Temp  Perf  Pwr:Usage/Cap|         Memory-Usage | GPU-Util  Compute M. |\n",
            "|                               |                      |               MIG M. |\n",
            "|===============================+======================+======================|\n",
            "|   0  Tesla P100-PCIE...  Off  | 00000000:00:04.0 Off |                    0 |\n",
            "| N/A   34C    P0    25W / 250W |      0MiB / 16280MiB |      0%      Default |\n",
            "|                               |                      |                 ERR! |\n",
            "+-------------------------------+----------------------+----------------------+\n",
            "                                                                               \n",
            "+-----------------------------------------------------------------------------+\n",
            "| Processes:                                                                  |\n",
            "|  GPU   GI   CI        PID   Type   Process name                  GPU Memory |\n",
            "|        ID   ID                                                   Usage      |\n",
            "|=============================================================================|\n",
            "|  No running processes found                                                 |\n",
            "+-----------------------------------------------------------------------------+\n"
          ],
          "name": "stdout"
        }
      ]
    },
    {
      "cell_type": "markdown",
      "metadata": {
        "id": "JOO3Al0N8Ebc",
        "colab_type": "text"
      },
      "source": [
        "#Imports"
      ]
    },
    {
      "cell_type": "code",
      "metadata": {
        "id": "KY84-CEA77LE",
        "colab_type": "code",
        "colab": {}
      },
      "source": [
        "import os, sys, gc"
      ],
      "execution_count": null,
      "outputs": []
    },
    {
      "cell_type": "code",
      "metadata": {
        "id": "DtcigkViA_Oe",
        "colab_type": "code",
        "colab": {}
      },
      "source": [
        "import pandas as pd"
      ],
      "execution_count": null,
      "outputs": []
    },
    {
      "cell_type": "code",
      "metadata": {
        "id": "aU5fwPES7RUb",
        "colab_type": "code",
        "colab": {}
      },
      "source": [
        "import torch\n",
        "from transformers import RobertaConfig, RobertaTokenizerFast, RobertaForMaskedLM\n",
        "from transformers import Trainer, TrainingArguments\n",
        "from transformers import DataCollatorForLanguageModeling"
      ],
      "execution_count": null,
      "outputs": []
    },
    {
      "cell_type": "code",
      "metadata": {
        "id": "_jukH4VUFLvg",
        "colab_type": "code",
        "colab": {}
      },
      "source": [
        "from transformers import pipeline"
      ],
      "execution_count": null,
      "outputs": []
    },
    {
      "cell_type": "code",
      "metadata": {
        "id": "5UspkHXUryrb",
        "colab_type": "code",
        "colab": {}
      },
      "source": [
        "!cp -r ./../bnbr/ bnbr/"
      ],
      "execution_count": null,
      "outputs": []
    },
    {
      "cell_type": "code",
      "metadata": {
        "id": "LVH6tvWv8CZk",
        "colab_type": "code",
        "colab": {}
      },
      "source": [
        "sys.path.insert(0, './../bnbr')"
      ],
      "execution_count": null,
      "outputs": []
    },
    {
      "cell_type": "code",
      "metadata": {
        "id": "KR_TX7sY9UpS",
        "colab_type": "code",
        "colab": {
          "base_uri": "https://localhost:8080/",
          "height": 34
        },
        "outputId": "18e078f6-6c21-40ff-f50b-a9d83c92582a"
      },
      "source": [
        "from bnbr.utils import seed_everything\n",
        "from bnbr.data import MentalHealthDataset"
      ],
      "execution_count": null,
      "outputs": [
        {
          "output_type": "stream",
          "text": [
            "Using TensorFlow backend.\n"
          ],
          "name": "stderr"
        }
      ]
    },
    {
      "cell_type": "markdown",
      "metadata": {
        "id": "ucaKSNT-BHGP",
        "colab_type": "text"
      },
      "source": [
        "# Envs"
      ]
    },
    {
      "cell_type": "code",
      "metadata": {
        "id": "I-lxPZD-9Z5m",
        "colab_type": "code",
        "colab": {
          "base_uri": "https://localhost:8080/",
          "height": 34
        },
        "outputId": "a9ad3a09-c280-4b4a-f3f6-fe606f25124d"
      },
      "source": [
        "seed_everything(2020)"
      ],
      "execution_count": null,
      "outputs": [
        {
          "output_type": "stream",
          "text": [
            "Set seed to 2020.\n"
          ],
          "name": "stdout"
        }
      ]
    },
    {
      "cell_type": "code",
      "metadata": {
        "id": "MxP0em_sBIdk",
        "colab_type": "code",
        "colab": {}
      },
      "source": [
        "!mkdir ../mlm_finetuned_models"
      ],
      "execution_count": null,
      "outputs": []
    },
    {
      "cell_type": "markdown",
      "metadata": {
        "id": "WaQAyAIU95l-",
        "colab_type": "text"
      },
      "source": [
        "# Utils"
      ]
    },
    {
      "cell_type": "code",
      "metadata": {
        "id": "bSYLLEul97JP",
        "colab_type": "code",
        "colab": {}
      },
      "source": [
        "class MLMDataset(MentalHealthDataset):\n",
        "  def __init__(self, df, tokenizer):\n",
        "    super(MLMDataset, self).__init__(df, task='test')\n",
        "    self.tokenizer = tokenizer\n",
        "\n",
        "  def __getitem__(self, idx):\n",
        "    text, _, _ = super().__getitem__(idx)\n",
        "    enc = self.tokenizer.encode(text)\n",
        "    return torch.tensor(enc)"
      ],
      "execution_count": null,
      "outputs": []
    },
    {
      "cell_type": "markdown",
      "metadata": {
        "id": "br9tLAHY9b-q",
        "colab_type": "text"
      },
      "source": [
        "#Read "
      ]
    },
    {
      "cell_type": "code",
      "metadata": {
        "id": "doDVtYUw-4gC",
        "colab_type": "code",
        "colab": {}
      },
      "source": [
        "path = '../data/'"
      ],
      "execution_count": null,
      "outputs": []
    },
    {
      "cell_type": "code",
      "metadata": {
        "id": "dMrg6xtt9iBR",
        "colab_type": "code",
        "colab": {}
      },
      "source": [
        "train = pd.read_csv(path+'final_train.csv')\n",
        "test = pd.read_csv(path+'final_test.csv')"
      ],
      "execution_count": null,
      "outputs": []
    },
    {
      "cell_type": "code",
      "metadata": {
        "id": "fjgQq58c_bgK",
        "colab_type": "code",
        "colab": {}
      },
      "source": [
        "train['length'] = 0\n",
        "test['length'] = 0"
      ],
      "execution_count": null,
      "outputs": []
    },
    {
      "cell_type": "code",
      "metadata": {
        "id": "KWde6wq3Efxv",
        "colab_type": "code",
        "colab": {}
      },
      "source": [
        "df = pd.concat([train, test])"
      ],
      "execution_count": null,
      "outputs": []
    },
    {
      "cell_type": "code",
      "metadata": {
        "id": "j1NJ7iwTEkFo",
        "colab_type": "code",
        "colab": {
          "base_uri": "https://localhost:8080/",
          "height": 204
        },
        "outputId": "678e508a-05d6-4fef-b16e-dfd4ce04df7c"
      },
      "source": [
        "df.head()"
      ],
      "execution_count": null,
      "outputs": [
        {
          "output_type": "execute_result",
          "data": {
            "text/html": [
              "<div>\n",
              "<style scoped>\n",
              "    .dataframe tbody tr th:only-of-type {\n",
              "        vertical-align: middle;\n",
              "    }\n",
              "\n",
              "    .dataframe tbody tr th {\n",
              "        vertical-align: top;\n",
              "    }\n",
              "\n",
              "    .dataframe thead th {\n",
              "        text-align: right;\n",
              "    }\n",
              "</style>\n",
              "<table border=\"1\" class=\"dataframe\">\n",
              "  <thead>\n",
              "    <tr style=\"text-align: right;\">\n",
              "      <th></th>\n",
              "      <th>ID</th>\n",
              "      <th>text</th>\n",
              "      <th>label</th>\n",
              "      <th>Depression</th>\n",
              "      <th>Alcohol</th>\n",
              "      <th>Suicide</th>\n",
              "      <th>Drugs</th>\n",
              "      <th>length</th>\n",
              "    </tr>\n",
              "  </thead>\n",
              "  <tbody>\n",
              "    <tr>\n",
              "      <th>0</th>\n",
              "      <td>SUAVK39Z</td>\n",
              "      <td>i feel that it was better i die am happy</td>\n",
              "      <td>0.0</td>\n",
              "      <td>1.0</td>\n",
              "      <td>0.0</td>\n",
              "      <td>0.0</td>\n",
              "      <td>0.0</td>\n",
              "      <td>0</td>\n",
              "    </tr>\n",
              "    <tr>\n",
              "      <th>1</th>\n",
              "      <td>9JDAGUV3</td>\n",
              "      <td>why do i get hallucinations ?</td>\n",
              "      <td>3.0</td>\n",
              "      <td>0.0</td>\n",
              "      <td>0.0</td>\n",
              "      <td>0.0</td>\n",
              "      <td>1.0</td>\n",
              "      <td>0</td>\n",
              "    </tr>\n",
              "    <tr>\n",
              "      <th>2</th>\n",
              "      <td>419WR1LQ</td>\n",
              "      <td>i am stressed due to lack of financial suppor...</td>\n",
              "      <td>0.0</td>\n",
              "      <td>1.0</td>\n",
              "      <td>0.0</td>\n",
              "      <td>0.0</td>\n",
              "      <td>0.0</td>\n",
              "      <td>0</td>\n",
              "    </tr>\n",
              "    <tr>\n",
              "      <th>3</th>\n",
              "      <td>6UY7DX6Q</td>\n",
              "      <td>why is life important ?</td>\n",
              "      <td>2.0</td>\n",
              "      <td>0.0</td>\n",
              "      <td>0.0</td>\n",
              "      <td>1.0</td>\n",
              "      <td>0.0</td>\n",
              "      <td>0</td>\n",
              "    </tr>\n",
              "    <tr>\n",
              "      <th>4</th>\n",
              "      <td>FYC0FTFB</td>\n",
              "      <td>how could i be helped to go through the depre...</td>\n",
              "      <td>0.0</td>\n",
              "      <td>1.0</td>\n",
              "      <td>0.0</td>\n",
              "      <td>0.0</td>\n",
              "      <td>0.0</td>\n",
              "      <td>0</td>\n",
              "    </tr>\n",
              "  </tbody>\n",
              "</table>\n",
              "</div>"
            ],
            "text/plain": [
              "         ID                                               text  ...  Drugs  length\n",
              "0  SUAVK39Z          i feel that it was better i die am happy   ...    0.0       0\n",
              "1  9JDAGUV3                    why do i get hallucinations ?    ...    1.0       0\n",
              "2  419WR1LQ   i am stressed due to lack of financial suppor...  ...    0.0       0\n",
              "3  6UY7DX6Q                          why is life important ?    ...    0.0       0\n",
              "4  FYC0FTFB   how could i be helped to go through the depre...  ...    0.0       0\n",
              "\n",
              "[5 rows x 8 columns]"
            ]
          },
          "metadata": {
            "tags": []
          },
          "execution_count": 19
        }
      ]
    },
    {
      "cell_type": "markdown",
      "metadata": {
        "id": "6OrcA5F79eUD",
        "colab_type": "text"
      },
      "source": [
        "#Finetuning MLM"
      ]
    },
    {
      "cell_type": "code",
      "metadata": {
        "id": "-w_aU3WT7LWy",
        "colab_type": "code",
        "colab": {}
      },
      "source": [
        "model_name = 'roberta-base'"
      ],
      "execution_count": null,
      "outputs": []
    },
    {
      "cell_type": "code",
      "metadata": {
        "id": "LTXXutqeDzPi",
        "colab_type": "code",
        "colab": {
          "base_uri": "https://localhost:8080/",
          "height": 164,
          "referenced_widgets": [
            "a839270b8821446cbcfcdc4c620c1727",
            "e31b5620afdc406685d4974934ebbd2b",
            "cdf7bdb3729b4310a1b3a3379c3b596d",
            "9acd3db9da2343d1b8b1dea3d11c909a",
            "1108720b027d41ababd8a25df59e9210",
            "08a2780fb31b4a05a34bcd681d3bf695",
            "57a87315594542ee96a9440a91409023",
            "73a1abde8d57452ab27b65cf71e503fa",
            "e476059998ef4495af86a6c627125506",
            "307618d687b647e99bc566999e9513e6",
            "81d1da575f544a459b879f638a62ef57",
            "a99d9d3e9d6e4a568f67a0955d355d19",
            "a81aacae11ef4512a7ce51582f9975ec",
            "2ab6560543464e69b3b49032aecbf01c",
            "fad51708e32c43f7aea9f81a938a6ac2",
            "37b51fc05c044f78ba23983313bc45c5",
            "4b41e8d3c7bd4b46852c504152681da4",
            "6be446578e7a46c4ad1eafb396e554ab",
            "c21115e152f0497c8feff518fa29901a",
            "026fcad5d3f243dfa48f05a72ebf09a3",
            "d39318aa784e497eb0b825d2c07843af",
            "4ac75c1c5ca0442aa7457ba663aeeb5a",
            "15a0ead4a6ce4b639912cd9528e77633",
            "d412349d79254d3db859e67eddb14be1"
          ]
        },
        "outputId": "4ba2ae21-f1d5-4880-ba6c-e483035c0d74"
      },
      "source": [
        "config = RobertaConfig.from_pretrained(model_name)\n",
        "tokenizer = RobertaTokenizerFast.from_pretrained(model_name, model_max_length =50)"
      ],
      "execution_count": null,
      "outputs": [
        {
          "output_type": "display_data",
          "data": {
            "application/vnd.jupyter.widget-view+json": {
              "model_id": "a839270b8821446cbcfcdc4c620c1727",
              "version_minor": 0,
              "version_major": 2
            },
            "text/plain": [
              "HBox(children=(FloatProgress(value=0.0, description='Downloading', max=481.0, style=ProgressStyle(description_…"
            ]
          },
          "metadata": {
            "tags": []
          }
        },
        {
          "output_type": "stream",
          "text": [
            "\n"
          ],
          "name": "stdout"
        },
        {
          "output_type": "display_data",
          "data": {
            "application/vnd.jupyter.widget-view+json": {
              "model_id": "e476059998ef4495af86a6c627125506",
              "version_minor": 0,
              "version_major": 2
            },
            "text/plain": [
              "HBox(children=(FloatProgress(value=0.0, description='Downloading', max=898823.0, style=ProgressStyle(descripti…"
            ]
          },
          "metadata": {
            "tags": []
          }
        },
        {
          "output_type": "stream",
          "text": [
            "\n"
          ],
          "name": "stdout"
        },
        {
          "output_type": "display_data",
          "data": {
            "application/vnd.jupyter.widget-view+json": {
              "model_id": "4b41e8d3c7bd4b46852c504152681da4",
              "version_minor": 0,
              "version_major": 2
            },
            "text/plain": [
              "HBox(children=(FloatProgress(value=0.0, description='Downloading', max=456318.0, style=ProgressStyle(descripti…"
            ]
          },
          "metadata": {
            "tags": []
          }
        },
        {
          "output_type": "stream",
          "text": [
            "\n"
          ],
          "name": "stdout"
        }
      ]
    },
    {
      "cell_type": "code",
      "metadata": {
        "id": "BzMqR-dzF4Ro",
        "colab_type": "code",
        "colab": {
          "base_uri": "https://localhost:8080/",
          "height": 66,
          "referenced_widgets": [
            "41b5a8bc1655457a9bdc8120e601d332",
            "a262d4818ffb4a02aa703f1cc756ba8b",
            "3e63696d57d14a73bf2340afe9b96ad0",
            "1e83b883bfcc465fb5d7befe9462cfa2",
            "2407f54da6144f47b82bc24b0cea368b",
            "a96d1fef100d41e890f8a35c115d5ea1",
            "f0b69f684a0b47beaad5b319a593d19d",
            "cbcff92c0a60458180fc7727092e15c9"
          ]
        },
        "outputId": "dde33d96-ca7f-4ee0-8a8f-bcee0241831f"
      },
      "source": [
        "model = RobertaForMaskedLM.from_pretrained(model_name)\n",
        "# model = RobertaForMaskedLM(config=config)"
      ],
      "execution_count": null,
      "outputs": [
        {
          "output_type": "display_data",
          "data": {
            "application/vnd.jupyter.widget-view+json": {
              "model_id": "41b5a8bc1655457a9bdc8120e601d332",
              "version_minor": 0,
              "version_major": 2
            },
            "text/plain": [
              "HBox(children=(FloatProgress(value=0.0, description='Downloading', max=501200538.0, style=ProgressStyle(descri…"
            ]
          },
          "metadata": {
            "tags": []
          }
        },
        {
          "output_type": "stream",
          "text": [
            "\n"
          ],
          "name": "stdout"
        }
      ]
    },
    {
      "cell_type": "code",
      "metadata": {
        "id": "7MGtiJIwBVCm",
        "colab_type": "code",
        "colab": {}
      },
      "source": [
        "dataset = MLMDataset(df[['text', 'length']], tokenizer)"
      ],
      "execution_count": null,
      "outputs": []
    },
    {
      "cell_type": "code",
      "metadata": {
        "id": "zTgWPa9Dipk2",
        "colab_type": "code",
        "colab": {}
      },
      "source": [
        "data_collator = DataCollatorForLanguageModeling(\n",
        "    tokenizer=tokenizer, mlm=True, mlm_probability=0.15\n",
        ")"
      ],
      "execution_count": null,
      "outputs": []
    },
    {
      "cell_type": "code",
      "metadata": {
        "id": "YpvnFFmZJD-N",
        "colab_type": "code",
        "colab": {}
      },
      "source": [
        "training_args = TrainingArguments(\n",
        "    output_dir = './',\n",
        "    overwrite_output_dir=True,\n",
        "    num_train_epochs=3,\n",
        "    per_device_train_batch_size=64,\n",
        "    save_steps=10_000,\n",
        "    save_total_limit=2,\n",
        ")"
      ],
      "execution_count": null,
      "outputs": []
    },
    {
      "cell_type": "code",
      "metadata": {
        "id": "pNYDbiHGBSxN",
        "colab_type": "code",
        "colab": {}
      },
      "source": [
        "trainer = Trainer(\n",
        "    model=model,\n",
        "    args=training_args,\n",
        "    data_collator=data_collator,\n",
        "    train_dataset=dataset,\n",
        "    prediction_loss_only=True,\n",
        ")"
      ],
      "execution_count": null,
      "outputs": []
    },
    {
      "cell_type": "markdown",
      "metadata": {
        "id": "o6sASa36Nf-N",
        "colab_type": "text"
      },
      "source": [
        "### Start training"
      ]
    },
    {
      "cell_type": "code",
      "metadata": {
        "id": "VmaHZXzmkNtJ",
        "colab_type": "code",
        "colab": {
          "base_uri": "https://localhost:8080/",
          "height": 264,
          "referenced_widgets": [
            "94541a0e062c4134af3478f6e0886af3",
            "9c7da4326f2c49c1a69628a40a4bb4f2",
            "6e6de32324234f2eb8aa2712fbe52351",
            "3a4fb5c7c37e439eb5b2332a988b8e3b",
            "63bbb25a3d054b649c61099a1e24c0ec",
            "5b7909d7614245e88eb82bc2030c1819",
            "094bae23f67e4e5d885a5b88aaf5029e",
            "d7e5b1ba740f4e938ddb522b6837c31a",
            "54262c23b29146b980244676e83ccf0c",
            "1db8beec8acd4edaab32e81d767af011",
            "0317d92e7f1143edaeeb13495ded7736",
            "259cccc9d68944659623908353091942",
            "103b9a0c062c4d69bb2749201084143b",
            "e8a97c9902e642dd820d83769e936667",
            "dce691e107394fa4bb322eb5dc8e0008",
            "4e891a69a7f1429eacfca01deb0f23f1",
            "a8e6141c714a4686924b53c1ee7377b6",
            "331228b3fceb4d139c27551806f375e2",
            "653538807f6b4c909886c3136d1e49b3",
            "76ebd56919d84431805352aac67a3581",
            "4205bdbd116f4465b0ef0548163ba2a5",
            "dba064099b95480f99a68c45c386cf1e",
            "de100f13f29248f4825e55b8d7cda4bb",
            "a0fd302514b44253a76db3e0a4b123c7",
            "894bb365d5994910b34f0128bfba7736",
            "0d53097ec4584ef5a03288a9bd8cc7c5",
            "6502c2125bdb4044b91a3066559ff4ec",
            "dffe5acf41f74031b678ea36f97d7464",
            "430d149249384ba3a25743782432ab6c",
            "1b5863c721464e94a7a71a38c02a5fc8",
            "92a1a4e3c9fc4023ba7b0a7afd91be76",
            "add9b45591b74057aef9532115f37472"
          ]
        },
        "outputId": "ccecc0b4-3354-47fc-85ac-965d6d05fc03"
      },
      "source": [
        "%%time\n",
        "trainer.train()"
      ],
      "execution_count": null,
      "outputs": [
        {
          "output_type": "display_data",
          "data": {
            "application/vnd.jupyter.widget-view+json": {
              "model_id": "94541a0e062c4134af3478f6e0886af3",
              "version_minor": 0,
              "version_major": 2
            },
            "text/plain": [
              "HBox(children=(FloatProgress(value=0.0, description='Epoch', max=3.0, style=ProgressStyle(description_width='i…"
            ]
          },
          "metadata": {
            "tags": []
          }
        },
        {
          "output_type": "display_data",
          "data": {
            "application/vnd.jupyter.widget-view+json": {
              "model_id": "54262c23b29146b980244676e83ccf0c",
              "version_minor": 0,
              "version_major": 2
            },
            "text/plain": [
              "HBox(children=(FloatProgress(value=0.0, description='Iteration', max=15.0, style=ProgressStyle(description_wid…"
            ]
          },
          "metadata": {
            "tags": []
          }
        },
        {
          "output_type": "stream",
          "text": [
            "\n"
          ],
          "name": "stdout"
        },
        {
          "output_type": "display_data",
          "data": {
            "application/vnd.jupyter.widget-view+json": {
              "model_id": "a8e6141c714a4686924b53c1ee7377b6",
              "version_minor": 0,
              "version_major": 2
            },
            "text/plain": [
              "HBox(children=(FloatProgress(value=0.0, description='Iteration', max=15.0, style=ProgressStyle(description_wid…"
            ]
          },
          "metadata": {
            "tags": []
          }
        },
        {
          "output_type": "stream",
          "text": [
            "\n"
          ],
          "name": "stdout"
        },
        {
          "output_type": "display_data",
          "data": {
            "application/vnd.jupyter.widget-view+json": {
              "model_id": "894bb365d5994910b34f0128bfba7736",
              "version_minor": 0,
              "version_major": 2
            },
            "text/plain": [
              "HBox(children=(FloatProgress(value=0.0, description='Iteration', max=15.0, style=ProgressStyle(description_wid…"
            ]
          },
          "metadata": {
            "tags": []
          }
        },
        {
          "output_type": "stream",
          "text": [
            "\n",
            "\n",
            "CPU times: user 9.02 s, sys: 4.27 s, total: 13.3 s\n",
            "Wall time: 12.9 s\n"
          ],
          "name": "stdout"
        },
        {
          "output_type": "execute_result",
          "data": {
            "text/plain": [
              "TrainOutput(global_step=45, training_loss=1.6628325568305122)"
            ]
          },
          "metadata": {
            "tags": []
          },
          "execution_count": 28
        }
      ]
    },
    {
      "cell_type": "markdown",
      "metadata": {
        "id": "_ZkooHz1-_2h",
        "colab_type": "text"
      },
      "source": [
        "#### 🎉 Save final model"
      ]
    },
    {
      "cell_type": "code",
      "metadata": {
        "id": "ZGXhcsPn0wys",
        "colab_type": "code",
        "colab": {}
      },
      "source": [
        "!mkdir fms"
      ],
      "execution_count": null,
      "outputs": []
    },
    {
      "cell_type": "code",
      "metadata": {
        "id": "QDNgPls7_l13",
        "colab_type": "code",
        "colab": {}
      },
      "source": [
        "trainer.save_model(\"fms/\")"
      ],
      "execution_count": null,
      "outputs": []
    },
    {
      "cell_type": "code",
      "metadata": {
        "id": "lF4J4EM_GJhk",
        "colab_type": "code",
        "colab": {
          "base_uri": "https://localhost:8080/",
          "height": 85
        },
        "outputId": "39a2ab93-fc58-4e20-b679-6c748b311e9c"
      },
      "source": [
        "!zip -r ./../mlm_finetuned_models/mlm_roberta_base_.zip fms/"
      ],
      "execution_count": null,
      "outputs": [
        {
          "output_type": "stream",
          "text": [
            "  adding: mlm_finetuned/ (stored 0%)\n",
            "  adding: mlm_finetuned/pytorch_model.bin (deflated 8%)\n",
            "  adding: mlm_finetuned/config.json (deflated 47%)\n",
            "  adding: mlm_finetuned/training_args.bin (deflated 36%)\n"
          ],
          "name": "stdout"
        }
      ]
    },
    {
      "cell_type": "code",
      "metadata": {
        "id": "fRHOrH6l_yCY",
        "colab_type": "code",
        "colab": {}
      },
      "source": [
        "!rm -r fms/ runs/ bnbr/"
      ],
      "execution_count": null,
      "outputs": []
    },
    {
      "cell_type": "markdown",
      "metadata": {
        "id": "d0caceCy_p1-",
        "colab_type": "text"
      },
      "source": [
        "## 4. Check that the LM actually trained"
      ]
    },
    {
      "cell_type": "code",
      "metadata": {
        "id": "ltXgXyCbAJLY",
        "colab_type": "code",
        "colab": {}
      },
      "source": [
        "fill_mask = pipeline(\n",
        "    \"fill-mask\",\n",
        "    model=\"./mlm_finetuned\",\n",
        "    tokenizer=tokenizer\n",
        ")"
      ],
      "execution_count": null,
      "outputs": []
    },
    {
      "cell_type": "code",
      "metadata": {
        "id": "UIvgZ3S6AO0z",
        "colab_type": "code",
        "colab": {
          "base_uri": "https://localhost:8080/",
          "height": 272
        },
        "outputId": "9275539b-1d13-4b4c-9491-63908d6b6fa7"
      },
      "source": [
        "fill_mask(\"What are the effects of <mask>.\")"
      ],
      "execution_count": null,
      "outputs": [
        {
          "output_type": "execute_result",
          "data": {
            "text/plain": [
              "[{'score': 0.7541329860687256,\n",
              "  'sequence': '<s> What are the effects of alcohol.</s>',\n",
              "  'token': 3766},\n",
              " {'score': 0.0460030660033226,\n",
              "  'sequence': '<s> What are the effects of smoking.</s>',\n",
              "  'token': 7893},\n",
              " {'score': 0.04107889533042908,\n",
              "  'sequence': '<s> What are the effects of alcoholism.</s>',\n",
              "  'token': 37934},\n",
              " {'score': 0.03137962520122528,\n",
              "  'sequence': '<s> What are the effects of drinking.</s>',\n",
              "  'token': 4835},\n",
              " {'score': 0.018622811883687973,\n",
              "  'sequence': '<s> What are the effects of marijuana.</s>',\n",
              "  'token': 3140}]"
            ]
          },
          "metadata": {
            "tags": []
          },
          "execution_count": 33
        }
      ]
    },
    {
      "cell_type": "code",
      "metadata": {
        "id": "Jit4xogAFtyq",
        "colab_type": "code",
        "colab": {
          "base_uri": "https://localhost:8080/",
          "height": 272
        },
        "outputId": "03ab6ad6-561e-4134-f5db-d67d4c02e83d"
      },
      "source": [
        "fill_mask(\"I feel so <mask>.\")"
      ],
      "execution_count": null,
      "outputs": [
        {
          "output_type": "execute_result",
          "data": {
            "text/plain": [
              "[{'score': 0.2866230010986328,\n",
              "  'sequence': '<s> I feel so alone.</s>',\n",
              "  'token': 1937},\n",
              " {'score': 0.1649859994649887,\n",
              "  'sequence': '<s> I feel so low.</s>',\n",
              "  'token': 614},\n",
              " {'score': 0.0460902601480484,\n",
              "  'sequence': '<s> I feel so sad.</s>',\n",
              "  'token': 5074},\n",
              " {'score': 0.03786331042647362,\n",
              "  'sequence': '<s> I feel so down.</s>',\n",
              "  'token': 159},\n",
              " {'score': 0.03617031127214432,\n",
              "  'sequence': '<s> I feel so bad.</s>',\n",
              "  'token': 1099}]"
            ]
          },
          "metadata": {
            "tags": []
          },
          "execution_count": 34
        }
      ]
    }
  ]
}